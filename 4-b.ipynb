{
 "cells": [
  {
   "cell_type": "raw",
   "metadata": {},
   "source": [
    "Scrape the details team India’s international fixtures from bcci.tv.\n",
    "Url = https://www.bcci.tv/.\n",
    "You need to find following details:\n",
    "A) Match title (I.e. 1st ODI)\n",
    "B) Series\n",
    "C) Place\n",
    "D) Date\n",
    "E) Time\n",
    "Note: - From bcci.tv home page you have reach to the international fixture page through code."
   ]
  },
  {
   "cell_type": "code",
   "execution_count": null,
   "metadata": {},
   "outputs": [],
   "source": [
    "#importing all required libraries"
   ]
  },
  {
   "cell_type": "code",
   "execution_count": 169,
   "metadata": {},
   "outputs": [],
   "source": [
    "import selenium\n",
    "from selenium import webdriver\n",
    "from selenium.common.exceptions import NoSuchElementException"
   ]
  },
  {
   "cell_type": "code",
   "execution_count": 170,
   "metadata": {},
   "outputs": [],
   "source": [
    "driver=webdriver.Chrome(r\"E:\\DATA SCIENCE\\chromedriver.exe\")"
   ]
  },
  {
   "cell_type": "code",
   "execution_count": 171,
   "metadata": {},
   "outputs": [],
   "source": [
    "url='https://www.bcci.tv/'"
   ]
  },
  {
   "cell_type": "code",
   "execution_count": 234,
   "metadata": {},
   "outputs": [],
   "source": [
    "#making driver to call url"
   ]
  },
  {
   "cell_type": "code",
   "execution_count": 172,
   "metadata": {},
   "outputs": [],
   "source": [
    "driver.get(url)"
   ]
  },
  {
   "cell_type": "code",
   "execution_count": 233,
   "metadata": {},
   "outputs": [],
   "source": [
    "#clicking on the element and going inside the internation fixture"
   ]
  },
  {
   "cell_type": "code",
   "execution_count": 173,
   "metadata": {},
   "outputs": [],
   "source": [
    "try:\n",
    "       driver.find_element_by_xpath('/html/body/div[3]/div/div[2]/div[2]/nav/ul/li[1]/div[2]').click()\n",
    "except NoSuchElementException:\n",
    "       pass"
   ]
  },
  {
   "cell_type": "code",
   "execution_count": 174,
   "metadata": {},
   "outputs": [],
   "source": [
    "try:\n",
    "    driver.find_element_by_xpath('/html/body/div[3]/div/div[2]/div[2]/nav/ul/li[1]/div[2]/div/ul/li[1]/a').click()\n",
    "except NoSuchElementException:\n",
    "       pass"
   ]
  },
  {
   "cell_type": "code",
   "execution_count": null,
   "metadata": {},
   "outputs": [],
   "source": [
    "#creating empty list and saving the details later"
   ]
  },
  {
   "cell_type": "code",
   "execution_count": 175,
   "metadata": {},
   "outputs": [],
   "source": [
    "Title=[]\n",
    "Series=[]\n",
    "Place=[]\n",
    "Date=[]"
   ]
  },
  {
   "cell_type": "code",
   "execution_count": 176,
   "metadata": {},
   "outputs": [],
   "source": [
    "title=driver.find_elements_by_xpath(\"//span[@class='u-unskewed-text fixture__format']\")"
   ]
  },
  {
   "cell_type": "code",
   "execution_count": 177,
   "metadata": {},
   "outputs": [
    {
     "data": {
      "text/plain": [
       "[<selenium.webdriver.remote.webelement.WebElement (session=\"c8d5ba4032120c268a0d5e7c83a8cba9\", element=\"10871827-e188-4a91-82ef-2d42cd591f15\")>,\n",
       " <selenium.webdriver.remote.webelement.WebElement (session=\"c8d5ba4032120c268a0d5e7c83a8cba9\", element=\"f57978b4-96a9-43ed-8bd5-39f58f04c418\")>]"
      ]
     },
     "execution_count": 177,
     "metadata": {},
     "output_type": "execute_result"
    }
   ],
   "source": [
    "title[0:2]"
   ]
  },
  {
   "cell_type": "code",
   "execution_count": 178,
   "metadata": {},
   "outputs": [],
   "source": [
    "for i in title:\n",
    "    Title.append(i.text)"
   ]
  },
  {
   "cell_type": "code",
   "execution_count": 179,
   "metadata": {},
   "outputs": [
    {
     "data": {
      "text/plain": [
       "['ODI',\n",
       " 'ODI',\n",
       " 'T20I',\n",
       " 'T20I',\n",
       " 'T20I',\n",
       " 'TEST',\n",
       " 'TEST',\n",
       " 'TEST',\n",
       " 'TEST',\n",
       " 'TEST',\n",
       " 'TEST',\n",
       " 'TEST',\n",
       " 'TEST',\n",
       " 'TEST']"
      ]
     },
     "execution_count": 179,
     "metadata": {},
     "output_type": "execute_result"
    }
   ],
   "source": [
    "Title"
   ]
  },
  {
   "cell_type": "code",
   "execution_count": 182,
   "metadata": {},
   "outputs": [],
   "source": [
    "series=driver.find_elements_by_xpath(\"//div[@class='fixture__teams']\")"
   ]
  },
  {
   "cell_type": "code",
   "execution_count": 183,
   "metadata": {},
   "outputs": [],
   "source": [
    "for i in series:\n",
    "    Series.append(i.text)"
   ]
  },
  {
   "cell_type": "code",
   "execution_count": 184,
   "metadata": {},
   "outputs": [
    {
     "data": {
      "text/plain": [
       "['AUSTRALIA\\nv\\nINDIA',\n",
       " 'AUSTRALIA\\nv\\nINDIA',\n",
       " 'AUSTRALIA\\nv\\nINDIA',\n",
       " 'AUSTRALIA\\nv\\nINDIA',\n",
       " 'AUSTRALIA\\nv\\nINDIA',\n",
       " 'AUSTRALIA\\nv\\nINDIA',\n",
       " 'AUSTRALIA\\nv\\nINDIA',\n",
       " 'AUSTRALIA\\nv\\nINDIA',\n",
       " 'AUSTRALIA\\nv\\nINDIA',\n",
       " 'ENGLAND\\nv\\nINDIA',\n",
       " 'ENGLAND\\nv\\nINDIA',\n",
       " 'ENGLAND\\nv\\nINDIA',\n",
       " 'ENGLAND\\nv\\nINDIA',\n",
       " 'ENGLAND\\nv\\nINDIA']"
      ]
     },
     "execution_count": 184,
     "metadata": {},
     "output_type": "execute_result"
    }
   ],
   "source": [
    "Series"
   ]
  },
  {
   "cell_type": "code",
   "execution_count": 185,
   "metadata": {},
   "outputs": [],
   "source": [
    "place=driver.find_elements_by_xpath(\"//p[@class='fixture__additional-info']\")"
   ]
  },
  {
   "cell_type": "code",
   "execution_count": 186,
   "metadata": {},
   "outputs": [
    {
     "data": {
      "text/plain": [
       "[<selenium.webdriver.remote.webelement.WebElement (session=\"c8d5ba4032120c268a0d5e7c83a8cba9\", element=\"019e4691-c16f-42f1-8908-9afbdb658fa7\")>,\n",
       " <selenium.webdriver.remote.webelement.WebElement (session=\"c8d5ba4032120c268a0d5e7c83a8cba9\", element=\"fa688e8a-68fa-40a3-bd64-2e338c134ab1\")>]"
      ]
     },
     "execution_count": 186,
     "metadata": {},
     "output_type": "execute_result"
    }
   ],
   "source": [
    "place[0:2]"
   ]
  },
  {
   "cell_type": "code",
   "execution_count": 187,
   "metadata": {},
   "outputs": [],
   "source": [
    "for i in place:\n",
    "    Place.append(i.text)"
   ]
  },
  {
   "cell_type": "code",
   "execution_count": 188,
   "metadata": {},
   "outputs": [
    {
     "data": {
      "text/plain": [
       "['2nd ODI\\nSydney Cricket Ground, Sydney',\n",
       " '3rd ODI\\nManuka Oval, Canberra',\n",
       " '1st T20I\\nManuka Oval, Canberra',\n",
       " '2nd T20I\\nSydney Cricket Ground, Sydney',\n",
       " '3rd T20I\\nSydney Cricket Ground, Sydney',\n",
       " '1st Test\\nAdelaide Oval, Adelaide',\n",
       " '2nd Test\\nMelbourne Cricket Ground, Melbourne',\n",
       " '3rd Test\\nSydney Cricket Ground, Sydney',\n",
       " '4th Test\\nBrisbane Cricket Ground, Brisbane',\n",
       " '1st Test\\nTrent Bridge, Nottingham',\n",
       " \"2nd Test\\nLord's, London\",\n",
       " '3rd Test\\nHeadingley, Leeds',\n",
       " '4th Test\\nThe Oval, London',\n",
       " '5th Test\\nOld Trafford, Manchester']"
      ]
     },
     "execution_count": 188,
     "metadata": {},
     "output_type": "execute_result"
    }
   ],
   "source": [
    "Place"
   ]
  },
  {
   "cell_type": "code",
   "execution_count": 212,
   "metadata": {},
   "outputs": [],
   "source": [
    "date=driver.find_elements_by_xpath(\"//span[@class='fixture__datetime tablet-only']\")"
   ]
  },
  {
   "cell_type": "code",
   "execution_count": 213,
   "metadata": {},
   "outputs": [
    {
     "data": {
      "text/plain": [
       "[<selenium.webdriver.remote.webelement.WebElement (session=\"c8d5ba4032120c268a0d5e7c83a8cba9\", element=\"840cfe45-465d-4146-811c-ff534f9c9052\")>,\n",
       " <selenium.webdriver.remote.webelement.WebElement (session=\"c8d5ba4032120c268a0d5e7c83a8cba9\", element=\"686e409a-b265-4ea5-83bf-c25be2950085\")>,\n",
       " <selenium.webdriver.remote.webelement.WebElement (session=\"c8d5ba4032120c268a0d5e7c83a8cba9\", element=\"fcc3e1a0-742e-4479-85d7-ec9413f7e912\")>,\n",
       " <selenium.webdriver.remote.webelement.WebElement (session=\"c8d5ba4032120c268a0d5e7c83a8cba9\", element=\"b53cf786-8926-4f24-a88e-aaf2bc583753\")>,\n",
       " <selenium.webdriver.remote.webelement.WebElement (session=\"c8d5ba4032120c268a0d5e7c83a8cba9\", element=\"c234e153-2df3-4c0a-8a03-5b500d8e988a\")>,\n",
       " <selenium.webdriver.remote.webelement.WebElement (session=\"c8d5ba4032120c268a0d5e7c83a8cba9\", element=\"ef140833-4c86-476c-8e46-0882b4dacdc8\")>,\n",
       " <selenium.webdriver.remote.webelement.WebElement (session=\"c8d5ba4032120c268a0d5e7c83a8cba9\", element=\"277f4cd6-ea95-4f58-b217-4cc4e3afb937\")>,\n",
       " <selenium.webdriver.remote.webelement.WebElement (session=\"c8d5ba4032120c268a0d5e7c83a8cba9\", element=\"3c25fc74-c800-4f97-a70a-e7962e885def\")>,\n",
       " <selenium.webdriver.remote.webelement.WebElement (session=\"c8d5ba4032120c268a0d5e7c83a8cba9\", element=\"8f0dfd17-b273-4d81-b690-b501372f7a9a\")>,\n",
       " <selenium.webdriver.remote.webelement.WebElement (session=\"c8d5ba4032120c268a0d5e7c83a8cba9\", element=\"3489cf91-50d8-47ea-a36e-71bfb9872740\")>,\n",
       " <selenium.webdriver.remote.webelement.WebElement (session=\"c8d5ba4032120c268a0d5e7c83a8cba9\", element=\"e9be4203-e40b-4bc8-9fa3-9723322f0c33\")>,\n",
       " <selenium.webdriver.remote.webelement.WebElement (session=\"c8d5ba4032120c268a0d5e7c83a8cba9\", element=\"15d0bf15-d46c-447b-9d15-a17b352f87e5\")>,\n",
       " <selenium.webdriver.remote.webelement.WebElement (session=\"c8d5ba4032120c268a0d5e7c83a8cba9\", element=\"b53ac63f-21f8-49dc-86c2-4a5c1079e126\")>,\n",
       " <selenium.webdriver.remote.webelement.WebElement (session=\"c8d5ba4032120c268a0d5e7c83a8cba9\", element=\"4baf3d88-4efb-4794-af1e-f044df91be02\")>]"
      ]
     },
     "execution_count": 213,
     "metadata": {},
     "output_type": "execute_result"
    }
   ],
   "source": [
    "date"
   ]
  },
  {
   "cell_type": "code",
   "execution_count": 214,
   "metadata": {},
   "outputs": [],
   "source": [
    "for i in date:\n",
    "    Date.append(i.text)"
   ]
  },
  {
   "cell_type": "code",
   "execution_count": 215,
   "metadata": {},
   "outputs": [
    {
     "data": {
      "text/plain": [
       "['',\n",
       " '',\n",
       " '',\n",
       " '',\n",
       " '',\n",
       " '',\n",
       " '',\n",
       " '',\n",
       " '',\n",
       " '',\n",
       " '',\n",
       " '',\n",
       " '',\n",
       " '',\n",
       " 'Sunday 29th November 09:10 IST',\n",
       " 'Wednesday 2nd December 09:10 IST',\n",
       " 'Friday 4th December 13:40 IST',\n",
       " 'Sunday 6th December 13:40 IST',\n",
       " 'Tuesday 8th December 13:40 IST',\n",
       " 'Thursday 17th December 09:30 IST',\n",
       " 'Saturday 26th December 05:00 IST',\n",
       " 'Thursday 7th January 05:00 IST',\n",
       " 'Friday 15th January 05:30 IST',\n",
       " 'Wednesday 4th August 15:30 IST',\n",
       " 'Thursday 12th August 15:30 IST',\n",
       " 'Wednesday 25th August 15:30 IST',\n",
       " 'Thursday 2nd September 15:30 IST',\n",
       " 'Friday 10th September 15:30 IST']"
      ]
     },
     "execution_count": 215,
     "metadata": {},
     "output_type": "execute_result"
    }
   ],
   "source": [
    "Date"
   ]
  },
  {
   "cell_type": "code",
   "execution_count": 216,
   "metadata": {},
   "outputs": [],
   "source": [
    "Date_time=Date[14:28]"
   ]
  },
  {
   "cell_type": "code",
   "execution_count": 217,
   "metadata": {},
   "outputs": [
    {
     "data": {
      "text/plain": [
       "['Sunday 29th November 09:10 IST',\n",
       " 'Wednesday 2nd December 09:10 IST',\n",
       " 'Friday 4th December 13:40 IST',\n",
       " 'Sunday 6th December 13:40 IST',\n",
       " 'Tuesday 8th December 13:40 IST',\n",
       " 'Thursday 17th December 09:30 IST',\n",
       " 'Saturday 26th December 05:00 IST',\n",
       " 'Thursday 7th January 05:00 IST',\n",
       " 'Friday 15th January 05:30 IST',\n",
       " 'Wednesday 4th August 15:30 IST',\n",
       " 'Thursday 12th August 15:30 IST',\n",
       " 'Wednesday 25th August 15:30 IST',\n",
       " 'Thursday 2nd September 15:30 IST',\n",
       " 'Friday 10th September 15:30 IST']"
      ]
     },
     "execution_count": 217,
     "metadata": {},
     "output_type": "execute_result"
    }
   ],
   "source": [
    "Date_time"
   ]
  },
  {
   "cell_type": "code",
   "execution_count": 220,
   "metadata": {},
   "outputs": [],
   "source": [
    "import pandas as pd"
   ]
  },
  {
   "cell_type": "code",
   "execution_count": 235,
   "metadata": {},
   "outputs": [],
   "source": [
    "#saving the result in data frame."
   ]
  },
  {
   "cell_type": "code",
   "execution_count": 224,
   "metadata": {},
   "outputs": [],
   "source": [
    "df1=pd.DataFrame({})"
   ]
  },
  {
   "cell_type": "code",
   "execution_count": 231,
   "metadata": {},
   "outputs": [],
   "source": [
    "df1['Title']=Title\n",
    "df1['Series']=Series\n",
    "df1['Place']=Place\n",
    "df1['Date and Time']=Date_time"
   ]
  },
  {
   "cell_type": "code",
   "execution_count": 232,
   "metadata": {},
   "outputs": [
    {
     "data": {
      "text/html": [
       "<div>\n",
       "<style scoped>\n",
       "    .dataframe tbody tr th:only-of-type {\n",
       "        vertical-align: middle;\n",
       "    }\n",
       "\n",
       "    .dataframe tbody tr th {\n",
       "        vertical-align: top;\n",
       "    }\n",
       "\n",
       "    .dataframe thead th {\n",
       "        text-align: right;\n",
       "    }\n",
       "</style>\n",
       "<table border=\"1\" class=\"dataframe\">\n",
       "  <thead>\n",
       "    <tr style=\"text-align: right;\">\n",
       "      <th></th>\n",
       "      <th>Title</th>\n",
       "      <th>Series</th>\n",
       "      <th>Place</th>\n",
       "      <th>Date and Time</th>\n",
       "    </tr>\n",
       "  </thead>\n",
       "  <tbody>\n",
       "    <tr>\n",
       "      <th>0</th>\n",
       "      <td>ODI</td>\n",
       "      <td>AUSTRALIA\\nv\\nINDIA</td>\n",
       "      <td>2nd ODI\\nSydney Cricket Ground, Sydney</td>\n",
       "      <td>Sunday 29th November 09:10 IST</td>\n",
       "    </tr>\n",
       "    <tr>\n",
       "      <th>1</th>\n",
       "      <td>ODI</td>\n",
       "      <td>AUSTRALIA\\nv\\nINDIA</td>\n",
       "      <td>3rd ODI\\nManuka Oval, Canberra</td>\n",
       "      <td>Wednesday 2nd December 09:10 IST</td>\n",
       "    </tr>\n",
       "    <tr>\n",
       "      <th>2</th>\n",
       "      <td>T20I</td>\n",
       "      <td>AUSTRALIA\\nv\\nINDIA</td>\n",
       "      <td>1st T20I\\nManuka Oval, Canberra</td>\n",
       "      <td>Friday 4th December 13:40 IST</td>\n",
       "    </tr>\n",
       "    <tr>\n",
       "      <th>3</th>\n",
       "      <td>T20I</td>\n",
       "      <td>AUSTRALIA\\nv\\nINDIA</td>\n",
       "      <td>2nd T20I\\nSydney Cricket Ground, Sydney</td>\n",
       "      <td>Sunday 6th December 13:40 IST</td>\n",
       "    </tr>\n",
       "    <tr>\n",
       "      <th>4</th>\n",
       "      <td>T20I</td>\n",
       "      <td>AUSTRALIA\\nv\\nINDIA</td>\n",
       "      <td>3rd T20I\\nSydney Cricket Ground, Sydney</td>\n",
       "      <td>Tuesday 8th December 13:40 IST</td>\n",
       "    </tr>\n",
       "    <tr>\n",
       "      <th>5</th>\n",
       "      <td>TEST</td>\n",
       "      <td>AUSTRALIA\\nv\\nINDIA</td>\n",
       "      <td>1st Test\\nAdelaide Oval, Adelaide</td>\n",
       "      <td>Thursday 17th December 09:30 IST</td>\n",
       "    </tr>\n",
       "    <tr>\n",
       "      <th>6</th>\n",
       "      <td>TEST</td>\n",
       "      <td>AUSTRALIA\\nv\\nINDIA</td>\n",
       "      <td>2nd Test\\nMelbourne Cricket Ground, Melbourne</td>\n",
       "      <td>Saturday 26th December 05:00 IST</td>\n",
       "    </tr>\n",
       "    <tr>\n",
       "      <th>7</th>\n",
       "      <td>TEST</td>\n",
       "      <td>AUSTRALIA\\nv\\nINDIA</td>\n",
       "      <td>3rd Test\\nSydney Cricket Ground, Sydney</td>\n",
       "      <td>Thursday 7th January 05:00 IST</td>\n",
       "    </tr>\n",
       "    <tr>\n",
       "      <th>8</th>\n",
       "      <td>TEST</td>\n",
       "      <td>AUSTRALIA\\nv\\nINDIA</td>\n",
       "      <td>4th Test\\nBrisbane Cricket Ground, Brisbane</td>\n",
       "      <td>Friday 15th January 05:30 IST</td>\n",
       "    </tr>\n",
       "    <tr>\n",
       "      <th>9</th>\n",
       "      <td>TEST</td>\n",
       "      <td>ENGLAND\\nv\\nINDIA</td>\n",
       "      <td>1st Test\\nTrent Bridge, Nottingham</td>\n",
       "      <td>Wednesday 4th August 15:30 IST</td>\n",
       "    </tr>\n",
       "    <tr>\n",
       "      <th>10</th>\n",
       "      <td>TEST</td>\n",
       "      <td>ENGLAND\\nv\\nINDIA</td>\n",
       "      <td>2nd Test\\nLord's, London</td>\n",
       "      <td>Thursday 12th August 15:30 IST</td>\n",
       "    </tr>\n",
       "    <tr>\n",
       "      <th>11</th>\n",
       "      <td>TEST</td>\n",
       "      <td>ENGLAND\\nv\\nINDIA</td>\n",
       "      <td>3rd Test\\nHeadingley, Leeds</td>\n",
       "      <td>Wednesday 25th August 15:30 IST</td>\n",
       "    </tr>\n",
       "    <tr>\n",
       "      <th>12</th>\n",
       "      <td>TEST</td>\n",
       "      <td>ENGLAND\\nv\\nINDIA</td>\n",
       "      <td>4th Test\\nThe Oval, London</td>\n",
       "      <td>Thursday 2nd September 15:30 IST</td>\n",
       "    </tr>\n",
       "    <tr>\n",
       "      <th>13</th>\n",
       "      <td>TEST</td>\n",
       "      <td>ENGLAND\\nv\\nINDIA</td>\n",
       "      <td>5th Test\\nOld Trafford, Manchester</td>\n",
       "      <td>Friday 10th September 15:30 IST</td>\n",
       "    </tr>\n",
       "  </tbody>\n",
       "</table>\n",
       "</div>"
      ],
      "text/plain": [
       "   Title               Series                                          Place  \\\n",
       "0    ODI  AUSTRALIA\\nv\\nINDIA         2nd ODI\\nSydney Cricket Ground, Sydney   \n",
       "1    ODI  AUSTRALIA\\nv\\nINDIA                 3rd ODI\\nManuka Oval, Canberra   \n",
       "2   T20I  AUSTRALIA\\nv\\nINDIA                1st T20I\\nManuka Oval, Canberra   \n",
       "3   T20I  AUSTRALIA\\nv\\nINDIA        2nd T20I\\nSydney Cricket Ground, Sydney   \n",
       "4   T20I  AUSTRALIA\\nv\\nINDIA        3rd T20I\\nSydney Cricket Ground, Sydney   \n",
       "5   TEST  AUSTRALIA\\nv\\nINDIA              1st Test\\nAdelaide Oval, Adelaide   \n",
       "6   TEST  AUSTRALIA\\nv\\nINDIA  2nd Test\\nMelbourne Cricket Ground, Melbourne   \n",
       "7   TEST  AUSTRALIA\\nv\\nINDIA        3rd Test\\nSydney Cricket Ground, Sydney   \n",
       "8   TEST  AUSTRALIA\\nv\\nINDIA    4th Test\\nBrisbane Cricket Ground, Brisbane   \n",
       "9   TEST    ENGLAND\\nv\\nINDIA             1st Test\\nTrent Bridge, Nottingham   \n",
       "10  TEST    ENGLAND\\nv\\nINDIA                       2nd Test\\nLord's, London   \n",
       "11  TEST    ENGLAND\\nv\\nINDIA                    3rd Test\\nHeadingley, Leeds   \n",
       "12  TEST    ENGLAND\\nv\\nINDIA                     4th Test\\nThe Oval, London   \n",
       "13  TEST    ENGLAND\\nv\\nINDIA             5th Test\\nOld Trafford, Manchester   \n",
       "\n",
       "                       Date and Time  \n",
       "0     Sunday 29th November 09:10 IST  \n",
       "1   Wednesday 2nd December 09:10 IST  \n",
       "2      Friday 4th December 13:40 IST  \n",
       "3      Sunday 6th December 13:40 IST  \n",
       "4     Tuesday 8th December 13:40 IST  \n",
       "5   Thursday 17th December 09:30 IST  \n",
       "6   Saturday 26th December 05:00 IST  \n",
       "7     Thursday 7th January 05:00 IST  \n",
       "8      Friday 15th January 05:30 IST  \n",
       "9     Wednesday 4th August 15:30 IST  \n",
       "10    Thursday 12th August 15:30 IST  \n",
       "11   Wednesday 25th August 15:30 IST  \n",
       "12  Thursday 2nd September 15:30 IST  \n",
       "13   Friday 10th September 15:30 IST  "
      ]
     },
     "execution_count": 232,
     "metadata": {},
     "output_type": "execute_result"
    }
   ],
   "source": [
    "df1"
   ]
  },
  {
   "cell_type": "code",
   "execution_count": null,
   "metadata": {},
   "outputs": [],
   "source": []
  }
 ],
 "metadata": {
  "kernelspec": {
   "display_name": "Python 3",
   "language": "python",
   "name": "python3"
  },
  "language_info": {
   "codemirror_mode": {
    "name": "ipython",
    "version": 3
   },
   "file_extension": ".py",
   "mimetype": "text/x-python",
   "name": "python",
   "nbconvert_exporter": "python",
   "pygments_lexer": "ipython3",
   "version": "3.7.6"
  }
 },
 "nbformat": 4,
 "nbformat_minor": 4
}
