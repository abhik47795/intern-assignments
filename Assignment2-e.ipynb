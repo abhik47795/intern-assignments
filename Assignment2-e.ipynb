{
 "cells": [
  {
   "cell_type": "markdown",
   "metadata": {},
   "source": [
    "# Scrape data for first 10 companies. Scrape the min salary, max salary, company name, Average salary and rating of the company"
   ]
  },
  {
   "cell_type": "code",
   "execution_count": 119,
   "metadata": {},
   "outputs": [],
   "source": [
    "#importing all the useful libraries"
   ]
  },
  {
   "cell_type": "code",
   "execution_count": 120,
   "metadata": {},
   "outputs": [],
   "source": [
    "import selenium\n",
    "from selenium import webdriver"
   ]
  },
  {
   "cell_type": "code",
   "execution_count": 121,
   "metadata": {},
   "outputs": [],
   "source": [
    "driver=webdriver.Chrome(r'D:\\G\\DATA SCIENCE\\chromedriver.exe')"
   ]
  },
  {
   "cell_type": "code",
   "execution_count": 122,
   "metadata": {},
   "outputs": [],
   "source": [
    "url='https://www.glassdoor.co.in/Salaries/new-delhi-data-scientist-salary-SRCH_IL.0,9_IM1083_KO10,24.htm'"
   ]
  },
  {
   "cell_type": "code",
   "execution_count": 153,
   "metadata": {},
   "outputs": [],
   "source": [
    "#making the driver to call the url"
   ]
  },
  {
   "cell_type": "code",
   "execution_count": 123,
   "metadata": {},
   "outputs": [],
   "source": [
    "driver.get(url)"
   ]
  },
  {
   "cell_type": "code",
   "execution_count": 124,
   "metadata": {},
   "outputs": [],
   "source": [
    "company=[]\n",
    "min_sal=[]\n",
    "max_sal=[]\n",
    "avg_sal=[]"
   ]
  },
  {
   "cell_type": "code",
   "execution_count": 125,
   "metadata": {},
   "outputs": [],
   "source": [
    "name=driver.find_elements_by_xpath(\"//p[@class='m-0']\")"
   ]
  },
  {
   "cell_type": "code",
   "execution_count": 126,
   "metadata": {},
   "outputs": [
    {
     "data": {
      "text/plain": [
       "[<selenium.webdriver.remote.webelement.WebElement (session=\"6423d78fbf4443ca20d9817f488951e5\", element=\"375eed9f-ff97-416d-a1dd-44e4cf0f8c16\")>,\n",
       " <selenium.webdriver.remote.webelement.WebElement (session=\"6423d78fbf4443ca20d9817f488951e5\", element=\"98dffe8e-42b9-481a-8c47-a576a820f4c9\")>,\n",
       " <selenium.webdriver.remote.webelement.WebElement (session=\"6423d78fbf4443ca20d9817f488951e5\", element=\"5767ffe5-0e12-460a-b0fe-032b08424820\")>,\n",
       " <selenium.webdriver.remote.webelement.WebElement (session=\"6423d78fbf4443ca20d9817f488951e5\", element=\"afe44009-2fb4-4cfa-a72d-355c3e3b4b61\")>]"
      ]
     },
     "execution_count": 126,
     "metadata": {},
     "output_type": "execute_result"
    }
   ],
   "source": [
    "name[0:4]"
   ]
  },
  {
   "cell_type": "code",
   "execution_count": 127,
   "metadata": {},
   "outputs": [],
   "source": [
    "for i in name:\n",
    "    company.append(i.text)"
   ]
  },
  {
   "cell_type": "code",
   "execution_count": 128,
   "metadata": {},
   "outputs": [
    {
     "data": {
      "text/plain": [
       "['Data Scientist',\n",
       " 'Delhivery',\n",
       " 'See 12 salaries from all locations',\n",
       " 'Data Scientist',\n",
       " 'Accenture',\n",
       " 'See 28 salaries from all locations',\n",
       " 'Data Scientist',\n",
       " 'IBM',\n",
       " 'See 59 salaries from all locations',\n",
       " 'Data Scientist',\n",
       " 'UnitedHealth Group',\n",
       " 'See 12 salaries from all locations',\n",
       " 'Data Scientist',\n",
       " 'Cognizant Technology Solutions',\n",
       " 'See 38 salaries from all locations',\n",
       " 'Data Scientist',\n",
       " 'Valiance Solutions',\n",
       " 'See 9 salaries from all locations',\n",
       " 'Data Scientist - Monthly Intern',\n",
       " 'Vidooly Media Tech',\n",
       " 'See 10 salaries from all locations',\n",
       " 'Data Scientist - Monthly Intern',\n",
       " 'Analytics Vidhya',\n",
       " 'See 7 salaries from all locations',\n",
       " 'Data Scientist',\n",
       " 'Tata Consultancy Services',\n",
       " 'See 59 salaries from all locations',\n",
       " 'Data Scientist',\n",
       " 'Ericsson-Worldwide',\n",
       " 'See 15 salaries from all locations',\n",
       " 'Data Scientist',\n",
       " 'OYO',\n",
       " 'See 9 salaries from all locations',\n",
       " 'Data Scientist',\n",
       " 'Innovaccer',\n",
       " 'See 7 salaries from all locations',\n",
       " 'Data Scientist',\n",
       " 'ZS Associates',\n",
       " 'See 14 salaries from all locations',\n",
       " 'Data Scientist',\n",
       " 'Sprinklr',\n",
       " 'See 4 salaries from all locations',\n",
       " 'Data Scientist',\n",
       " 'dunnhumby',\n",
       " 'See 6 salaries from all locations',\n",
       " 'Data Scientist - Monthly Intern',\n",
       " 'OYO',\n",
       " 'See 9 salaries from all locations',\n",
       " 'Data Scientist',\n",
       " 'Nagarro',\n",
       " 'See 3 salaries from all locations',\n",
       " 'Data Scientist',\n",
       " 'Times Internet',\n",
       " 'See 3 salaries from all locations',\n",
       " 'Data Scientist - Monthly Intern',\n",
       " 'Yatra Online Pvt Ltd',\n",
       " 'See 3 salaries from all locations',\n",
       " 'Data Scientist',\n",
       " 'CARS24.com',\n",
       " 'See 3 salaries from all locations']"
      ]
     },
     "execution_count": 128,
     "metadata": {},
     "output_type": "execute_result"
    }
   ],
   "source": [
    "company"
   ]
  },
  {
   "cell_type": "code",
   "execution_count": 129,
   "metadata": {},
   "outputs": [
    {
     "data": {
      "text/plain": [
       "60"
      ]
     },
     "execution_count": 129,
     "metadata": {},
     "output_type": "execute_result"
    }
   ],
   "source": [
    "len(company)"
   ]
  },
  {
   "cell_type": "code",
   "execution_count": null,
   "metadata": {},
   "outputs": [],
   "source": [
    "#by slicing in the list we will extract the company names from the below list"
   ]
  },
  {
   "cell_type": "code",
   "execution_count": 130,
   "metadata": {},
   "outputs": [],
   "source": [
    "company=company[1::3]"
   ]
  },
  {
   "cell_type": "code",
   "execution_count": 131,
   "metadata": {},
   "outputs": [
    {
     "data": {
      "text/plain": [
       "['Delhivery',\n",
       " 'Accenture',\n",
       " 'IBM',\n",
       " 'UnitedHealth Group',\n",
       " 'Cognizant Technology Solutions',\n",
       " 'Valiance Solutions',\n",
       " 'Vidooly Media Tech',\n",
       " 'Analytics Vidhya',\n",
       " 'Tata Consultancy Services',\n",
       " 'Ericsson-Worldwide']"
      ]
     },
     "execution_count": 131,
     "metadata": {},
     "output_type": "execute_result"
    }
   ],
   "source": [
    "company=company[0:10]\n",
    "company"
   ]
  },
  {
   "cell_type": "code",
   "execution_count": 132,
   "metadata": {},
   "outputs": [],
   "source": [
    "avg=driver.find_elements_by_xpath(\"//div[@class='col-2 d-none d-md-flex flex-row justify-content-end']\")"
   ]
  },
  {
   "cell_type": "code",
   "execution_count": 133,
   "metadata": {},
   "outputs": [
    {
     "data": {
      "text/plain": [
       "[<selenium.webdriver.remote.webelement.WebElement (session=\"6423d78fbf4443ca20d9817f488951e5\", element=\"c9e841f6-589f-41bf-a20d-b503afcd6223\")>,\n",
       " <selenium.webdriver.remote.webelement.WebElement (session=\"6423d78fbf4443ca20d9817f488951e5\", element=\"938e56db-37bf-45aa-9556-be9b60fc5915\")>,\n",
       " <selenium.webdriver.remote.webelement.WebElement (session=\"6423d78fbf4443ca20d9817f488951e5\", element=\"8c3158ea-f657-401a-903b-f6161f56f544\")>,\n",
       " <selenium.webdriver.remote.webelement.WebElement (session=\"6423d78fbf4443ca20d9817f488951e5\", element=\"28ce3176-1e8a-4482-b2d5-86e73c4da292\")>]"
      ]
     },
     "execution_count": 133,
     "metadata": {},
     "output_type": "execute_result"
    }
   ],
   "source": [
    "avg[0:4]"
   ]
  },
  {
   "cell_type": "code",
   "execution_count": 134,
   "metadata": {},
   "outputs": [],
   "source": [
    "for i in avg:\n",
    "    avg_sal.append(i.text)"
   ]
  },
  {
   "cell_type": "code",
   "execution_count": 135,
   "metadata": {},
   "outputs": [
    {
     "data": {
      "text/plain": [
       "['₹ 13,18,563\\n/yr',\n",
       " '₹ 11,20,994\\n/yr',\n",
       " '₹ 7,53,602\\n/yr',\n",
       " '₹ 13,23,634\\n/yr',\n",
       " '₹ 9,97,979\\n/yr',\n",
       " '₹ 7,72,507\\n/yr',\n",
       " '₹ 12,689\\n/mo',\n",
       " '₹ 21,215\\n/mo',\n",
       " '₹ 6,77,498\\n/yr',\n",
       " '₹ 7,34,456\\n/yr']"
      ]
     },
     "execution_count": 135,
     "metadata": {},
     "output_type": "execute_result"
    }
   ],
   "source": [
    "avg_sal=avg_sal[0:10]\n",
    "avg_sal"
   ]
  },
  {
   "cell_type": "code",
   "execution_count": 151,
   "metadata": {},
   "outputs": [],
   "source": [
    "#first we will fetch the whole tag of min and max salary"
   ]
  },
  {
   "cell_type": "code",
   "execution_count": 136,
   "metadata": {},
   "outputs": [],
   "source": [
    "sal=driver.find_elements_by_xpath(\"//div[@class='common__RangeBarStyle__values common__flex__justifySpaceBetween common__flex__container ']\")"
   ]
  },
  {
   "cell_type": "code",
   "execution_count": 137,
   "metadata": {},
   "outputs": [
    {
     "data": {
      "text/plain": [
       "[<selenium.webdriver.remote.webelement.WebElement (session=\"6423d78fbf4443ca20d9817f488951e5\", element=\"874d7dc2-a14c-4b6a-a962-074d306f84a7\")>,\n",
       " <selenium.webdriver.remote.webelement.WebElement (session=\"6423d78fbf4443ca20d9817f488951e5\", element=\"0b418ba5-df3b-414c-83d3-bd8b669f01a7\")>,\n",
       " <selenium.webdriver.remote.webelement.WebElement (session=\"6423d78fbf4443ca20d9817f488951e5\", element=\"1380d64f-ac54-41f0-a9ca-50773ba85810\")>,\n",
       " <selenium.webdriver.remote.webelement.WebElement (session=\"6423d78fbf4443ca20d9817f488951e5\", element=\"899e5569-e338-487b-8a14-97bf906d92dc\")>]"
      ]
     },
     "execution_count": 137,
     "metadata": {},
     "output_type": "execute_result"
    }
   ],
   "source": [
    "sal[0:4]"
   ]
  },
  {
   "cell_type": "code",
   "execution_count": 138,
   "metadata": {},
   "outputs": [],
   "source": [
    "salary=[]"
   ]
  },
  {
   "cell_type": "code",
   "execution_count": 139,
   "metadata": {},
   "outputs": [],
   "source": [
    "for i in sal:\n",
    "    salary.append(i.text)"
   ]
  },
  {
   "cell_type": "code",
   "execution_count": null,
   "metadata": {},
   "outputs": [],
   "source": [
    "#this is the list of the combination of min and max salary"
   ]
  },
  {
   "cell_type": "code",
   "execution_count": 140,
   "metadata": {},
   "outputs": [
    {
     "data": {
      "text/plain": [
       "['₹706K\\n₹11,513K', '₹572K\\n₹1,300K', '₹581K\\n₹2,704K', '₹710K\\n₹1,559K']"
      ]
     },
     "execution_count": 140,
     "metadata": {},
     "output_type": "execute_result"
    }
   ],
   "source": [
    "salary[0:4]"
   ]
  },
  {
   "cell_type": "code",
   "execution_count": 141,
   "metadata": {},
   "outputs": [
    {
     "data": {
      "text/plain": [
       "['₹706K\\n₹11,513K',\n",
       " '₹572K\\n₹1,300K',\n",
       " '₹581K\\n₹2,704K',\n",
       " '₹710K\\n₹1,559K',\n",
       " '₹785K\\n₹1,251K',\n",
       " '₹497K\\n₹1,140K',\n",
       " '₹8K\\n₹20K',\n",
       " '₹14K\\n₹22K',\n",
       " '₹480K\\n₹1,000K',\n",
       " '₹460K\\n₹1,598K',\n",
       " '₹962K\\n₹1,866K',\n",
       " '₹615K\\n₹1,679K',\n",
       " '₹200K\\n₹1,792K',\n",
       " '₹1,500K\\n₹3,206K',\n",
       " '₹800K\\n₹1,987K',\n",
       " '₹30K\\n₹45K',\n",
       " '₹626K\\n₹1,114K',\n",
       " '₹1,408K\\n₹3,477K',\n",
       " '₹11K\\n₹16K',\n",
       " '₹845K\\n₹1,469K']"
      ]
     },
     "execution_count": 141,
     "metadata": {},
     "output_type": "execute_result"
    }
   ],
   "source": [
    "salary"
   ]
  },
  {
   "cell_type": "code",
   "execution_count": 152,
   "metadata": {},
   "outputs": [],
   "source": [
    "#now we will split inside the list to differentiate between min and max salary "
   ]
  },
  {
   "cell_type": "code",
   "execution_count": 142,
   "metadata": {},
   "outputs": [],
   "source": [
    "for i in salary:\n",
    "    min_sal.append(i.split('\\n')[0])"
   ]
  },
  {
   "cell_type": "code",
   "execution_count": 143,
   "metadata": {},
   "outputs": [
    {
     "data": {
      "text/plain": [
       "['₹706K',\n",
       " '₹572K',\n",
       " '₹581K',\n",
       " '₹710K',\n",
       " '₹785K',\n",
       " '₹497K',\n",
       " '₹8K',\n",
       " '₹14K',\n",
       " '₹480K',\n",
       " '₹460K']"
      ]
     },
     "execution_count": 143,
     "metadata": {},
     "output_type": "execute_result"
    }
   ],
   "source": [
    "min_sal=min_sal[0:10]\n",
    "min_sal"
   ]
  },
  {
   "cell_type": "code",
   "execution_count": 144,
   "metadata": {},
   "outputs": [],
   "source": [
    "for i in salary:\n",
    "    max_sal.append(i.split('\\n')[1])"
   ]
  },
  {
   "cell_type": "code",
   "execution_count": 145,
   "metadata": {},
   "outputs": [
    {
     "data": {
      "text/plain": [
       "['₹11,513K',\n",
       " '₹1,300K',\n",
       " '₹2,704K',\n",
       " '₹1,559K',\n",
       " '₹1,251K',\n",
       " '₹1,140K',\n",
       " '₹20K',\n",
       " '₹22K',\n",
       " '₹1,000K',\n",
       " '₹1,598K']"
      ]
     },
     "execution_count": 145,
     "metadata": {},
     "output_type": "execute_result"
    }
   ],
   "source": [
    "max_sal=max_sal[0:10]\n",
    "max_sal"
   ]
  },
  {
   "cell_type": "code",
   "execution_count": 146,
   "metadata": {},
   "outputs": [],
   "source": [
    "import pandas as pd"
   ]
  },
  {
   "cell_type": "code",
   "execution_count": 147,
   "metadata": {},
   "outputs": [],
   "source": [
    "df=pd.DataFrame({})"
   ]
  },
  {
   "cell_type": "code",
   "execution_count": 148,
   "metadata": {},
   "outputs": [],
   "source": [
    "df['Company Name']=company\n",
    "df['Avg Salary']=avg_sal\n",
    "df['Maximum Sal']=max_sal\n",
    "df['Minimum Sal']=min_sal"
   ]
  },
  {
   "cell_type": "code",
   "execution_count": 149,
   "metadata": {},
   "outputs": [
    {
     "data": {
      "text/html": [
       "<div>\n",
       "<style scoped>\n",
       "    .dataframe tbody tr th:only-of-type {\n",
       "        vertical-align: middle;\n",
       "    }\n",
       "\n",
       "    .dataframe tbody tr th {\n",
       "        vertical-align: top;\n",
       "    }\n",
       "\n",
       "    .dataframe thead th {\n",
       "        text-align: right;\n",
       "    }\n",
       "</style>\n",
       "<table border=\"1\" class=\"dataframe\">\n",
       "  <thead>\n",
       "    <tr style=\"text-align: right;\">\n",
       "      <th></th>\n",
       "      <th>Company Name</th>\n",
       "      <th>Avg Salary</th>\n",
       "      <th>Maximum Sal</th>\n",
       "      <th>Minimum Sal</th>\n",
       "    </tr>\n",
       "  </thead>\n",
       "  <tbody>\n",
       "    <tr>\n",
       "      <th>0</th>\n",
       "      <td>Delhivery</td>\n",
       "      <td>₹ 13,18,563\\n/yr</td>\n",
       "      <td>₹11,513K</td>\n",
       "      <td>₹706K</td>\n",
       "    </tr>\n",
       "    <tr>\n",
       "      <th>1</th>\n",
       "      <td>Accenture</td>\n",
       "      <td>₹ 11,20,994\\n/yr</td>\n",
       "      <td>₹1,300K</td>\n",
       "      <td>₹572K</td>\n",
       "    </tr>\n",
       "    <tr>\n",
       "      <th>2</th>\n",
       "      <td>IBM</td>\n",
       "      <td>₹ 7,53,602\\n/yr</td>\n",
       "      <td>₹2,704K</td>\n",
       "      <td>₹581K</td>\n",
       "    </tr>\n",
       "    <tr>\n",
       "      <th>3</th>\n",
       "      <td>UnitedHealth Group</td>\n",
       "      <td>₹ 13,23,634\\n/yr</td>\n",
       "      <td>₹1,559K</td>\n",
       "      <td>₹710K</td>\n",
       "    </tr>\n",
       "    <tr>\n",
       "      <th>4</th>\n",
       "      <td>Cognizant Technology Solutions</td>\n",
       "      <td>₹ 9,97,979\\n/yr</td>\n",
       "      <td>₹1,251K</td>\n",
       "      <td>₹785K</td>\n",
       "    </tr>\n",
       "    <tr>\n",
       "      <th>5</th>\n",
       "      <td>Valiance Solutions</td>\n",
       "      <td>₹ 7,72,507\\n/yr</td>\n",
       "      <td>₹1,140K</td>\n",
       "      <td>₹497K</td>\n",
       "    </tr>\n",
       "    <tr>\n",
       "      <th>6</th>\n",
       "      <td>Vidooly Media Tech</td>\n",
       "      <td>₹ 12,689\\n/mo</td>\n",
       "      <td>₹20K</td>\n",
       "      <td>₹8K</td>\n",
       "    </tr>\n",
       "    <tr>\n",
       "      <th>7</th>\n",
       "      <td>Analytics Vidhya</td>\n",
       "      <td>₹ 21,215\\n/mo</td>\n",
       "      <td>₹22K</td>\n",
       "      <td>₹14K</td>\n",
       "    </tr>\n",
       "    <tr>\n",
       "      <th>8</th>\n",
       "      <td>Tata Consultancy Services</td>\n",
       "      <td>₹ 6,77,498\\n/yr</td>\n",
       "      <td>₹1,000K</td>\n",
       "      <td>₹480K</td>\n",
       "    </tr>\n",
       "    <tr>\n",
       "      <th>9</th>\n",
       "      <td>Ericsson-Worldwide</td>\n",
       "      <td>₹ 7,34,456\\n/yr</td>\n",
       "      <td>₹1,598K</td>\n",
       "      <td>₹460K</td>\n",
       "    </tr>\n",
       "  </tbody>\n",
       "</table>\n",
       "</div>"
      ],
      "text/plain": [
       "                     Company Name        Avg Salary Maximum Sal Minimum Sal\n",
       "0                       Delhivery  ₹ 13,18,563\\n/yr    ₹11,513K       ₹706K\n",
       "1                       Accenture  ₹ 11,20,994\\n/yr     ₹1,300K       ₹572K\n",
       "2                             IBM   ₹ 7,53,602\\n/yr     ₹2,704K       ₹581K\n",
       "3              UnitedHealth Group  ₹ 13,23,634\\n/yr     ₹1,559K       ₹710K\n",
       "4  Cognizant Technology Solutions   ₹ 9,97,979\\n/yr     ₹1,251K       ₹785K\n",
       "5              Valiance Solutions   ₹ 7,72,507\\n/yr     ₹1,140K       ₹497K\n",
       "6              Vidooly Media Tech     ₹ 12,689\\n/mo        ₹20K         ₹8K\n",
       "7                Analytics Vidhya     ₹ 21,215\\n/mo        ₹22K        ₹14K\n",
       "8       Tata Consultancy Services   ₹ 6,77,498\\n/yr     ₹1,000K       ₹480K\n",
       "9              Ericsson-Worldwide   ₹ 7,34,456\\n/yr     ₹1,598K       ₹460K"
      ]
     },
     "execution_count": 149,
     "metadata": {},
     "output_type": "execute_result"
    }
   ],
   "source": [
    "df"
   ]
  },
  {
   "cell_type": "code",
   "execution_count": null,
   "metadata": {},
   "outputs": [],
   "source": []
  }
 ],
 "metadata": {
  "kernelspec": {
   "display_name": "Python 3",
   "language": "python",
   "name": "python3"
  },
  "language_info": {
   "codemirror_mode": {
    "name": "ipython",
    "version": 3
   },
   "file_extension": ".py",
   "mimetype": "text/x-python",
   "name": "python",
   "nbconvert_exporter": "python",
   "pygments_lexer": "ipython3",
   "version": "3.7.6"
  }
 },
 "nbformat": 4,
 "nbformat_minor": 4
}
