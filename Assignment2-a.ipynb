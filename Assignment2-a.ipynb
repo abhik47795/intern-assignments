{
 "cells": [
  {
   "cell_type": "markdown",
   "metadata": {},
   "source": [
    "# Write a python program to scrape data for “Data Analyst” Job position in “Bangalore” location. You have to scrape the job-title, job-location, company_name, experience_required. You have to scrape first 10 jobs data."
   ]
  },
  {
   "cell_type": "code",
   "execution_count": 95,
   "metadata": {},
   "outputs": [],
   "source": [
    "#importing the required libraries"
   ]
  },
  {
   "cell_type": "code",
   "execution_count": 96,
   "metadata": {},
   "outputs": [],
   "source": [
    "import selenium\n",
    "from selenium import webdriver"
   ]
  },
  {
   "cell_type": "code",
   "execution_count": 97,
   "metadata": {},
   "outputs": [],
   "source": [
    "driver=webdriver.Chrome(r'G:\\DATA SCIENCE\\chromedriver.exe')"
   ]
  },
  {
   "cell_type": "code",
   "execution_count": 98,
   "metadata": {},
   "outputs": [],
   "source": [
    "url='https://www.naukri.com/data-analyst-jobs-in-bangalore?k=data%20analyst&l=bangalore'"
   ]
  },
  {
   "cell_type": "code",
   "execution_count": 99,
   "metadata": {},
   "outputs": [],
   "source": [
    "driver.get(url)"
   ]
  },
  {
   "cell_type": "code",
   "execution_count": 100,
   "metadata": {},
   "outputs": [],
   "source": [
    "titles=[]"
   ]
  },
  {
   "cell_type": "code",
   "execution_count": 101,
   "metadata": {},
   "outputs": [],
   "source": [
    "#fetching the titles tag from the url"
   ]
  },
  {
   "cell_type": "code",
   "execution_count": 102,
   "metadata": {},
   "outputs": [],
   "source": [
    "title=driver.find_elements_by_xpath(\"//a[@class='title fw500 ellipsis']\")"
   ]
  },
  {
   "cell_type": "code",
   "execution_count": 103,
   "metadata": {},
   "outputs": [
    {
     "data": {
      "text/plain": [
       "[<selenium.webdriver.remote.webelement.WebElement (session=\"ceeadf8b03ab6c34473f49a416836f7b\", element=\"da622df8-3ce4-4048-93f9-d0eb2b2ca4ac\")>,\n",
       " <selenium.webdriver.remote.webelement.WebElement (session=\"ceeadf8b03ab6c34473f49a416836f7b\", element=\"513b534b-1ee8-4b71-8ce3-0c55340d00d5\")>,\n",
       " <selenium.webdriver.remote.webelement.WebElement (session=\"ceeadf8b03ab6c34473f49a416836f7b\", element=\"8700654e-d5c5-474e-8882-f0cfb80c54d4\")>,\n",
       " <selenium.webdriver.remote.webelement.WebElement (session=\"ceeadf8b03ab6c34473f49a416836f7b\", element=\"a1d9f6b3-e9d8-4e97-84ae-d747f3d2cf1e\")>]"
      ]
     },
     "execution_count": 103,
     "metadata": {},
     "output_type": "execute_result"
    }
   ],
   "source": [
    "title[0:4]"
   ]
  },
  {
   "cell_type": "code",
   "execution_count": 104,
   "metadata": {},
   "outputs": [],
   "source": [
    "#fetching the text from the above data"
   ]
  },
  {
   "cell_type": "code",
   "execution_count": 105,
   "metadata": {},
   "outputs": [],
   "source": [
    "for i in title:\n",
    "    titles.append(i.text)"
   ]
  },
  {
   "cell_type": "code",
   "execution_count": 106,
   "metadata": {},
   "outputs": [
    {
     "data": {
      "text/plain": [
       "['Immediate opening For Data Scientist/Data Analyst',\n",
       " 'Senior Data Analyst',\n",
       " 'Senior Sourcing Data Analyst - Coupa/ERP/Jaggaer',\n",
       " 'Data Analyst',\n",
       " 'Data Analyst / Business Analyst',\n",
       " 'Hiring For Data Analyst RE) - Bangalore',\n",
       " 'Data Analyst, Pricing',\n",
       " 'Data Analyst',\n",
       " 'Manager Data Analyst - Brand Accelerator',\n",
       " 'Data Analyst',\n",
       " 'Data Analyst',\n",
       " 'Data Analyst and Dashboard Developer',\n",
       " 'Data Analyst',\n",
       " 'Business Analyst/Data Analyst',\n",
       " 'Business Data Analyst',\n",
       " 'Business Data Analyst',\n",
       " 'Data Analyst',\n",
       " 'Senior Data Analyst - Python/sql/mysql',\n",
       " 'Senior Clinical Data Analyst',\n",
       " 'Clinical Data Analyst']"
      ]
     },
     "execution_count": 106,
     "metadata": {},
     "output_type": "execute_result"
    }
   ],
   "source": [
    "titles"
   ]
  },
  {
   "cell_type": "code",
   "execution_count": 107,
   "metadata": {},
   "outputs": [],
   "source": [
    "#now we will be fetching the company details"
   ]
  },
  {
   "cell_type": "code",
   "execution_count": 108,
   "metadata": {},
   "outputs": [],
   "source": [
    "company=[]"
   ]
  },
  {
   "cell_type": "code",
   "execution_count": 109,
   "metadata": {},
   "outputs": [],
   "source": [
    "companies=driver.find_elements_by_xpath(\"//a[@class='subTitle ellipsis fleft']\")"
   ]
  },
  {
   "cell_type": "code",
   "execution_count": 110,
   "metadata": {},
   "outputs": [
    {
     "data": {
      "text/plain": [
       "[<selenium.webdriver.remote.webelement.WebElement (session=\"ceeadf8b03ab6c34473f49a416836f7b\", element=\"02ace622-d5ba-44b2-981e-a3ea43c932a2\")>,\n",
       " <selenium.webdriver.remote.webelement.WebElement (session=\"ceeadf8b03ab6c34473f49a416836f7b\", element=\"d159d2d1-6eac-4436-aaaf-c666ee625754\")>]"
      ]
     },
     "execution_count": 110,
     "metadata": {},
     "output_type": "execute_result"
    }
   ],
   "source": [
    "companies[0:2]"
   ]
  },
  {
   "cell_type": "code",
   "execution_count": 111,
   "metadata": {},
   "outputs": [],
   "source": [
    "for i in companies:\n",
    "    company.append(i.text)"
   ]
  },
  {
   "cell_type": "code",
   "execution_count": 112,
   "metadata": {},
   "outputs": [
    {
     "data": {
      "text/plain": [
       "['CAIA-Center For Artificial Intelligence & Advanced Analytics',\n",
       " 'Myntra Designs Pvt. Ltd.',\n",
       " 'Technicolor',\n",
       " 'Ladder of changes',\n",
       " 'Altisource Business Solutions Pvt Ltd',\n",
       " 'Teleperformance Global Services Pvt Ltd',\n",
       " 'Zscaler, Inc.',\n",
       " 'OMEGA SEIKI',\n",
       " 'Myntra Designs Pvt. Ltd.',\n",
       " 'Snaphunt',\n",
       " 'Simplify360',\n",
       " 'QualiTest Group',\n",
       " 'Liventus, Inc.',\n",
       " 'dotSolved India Pvt., Ltd.',\n",
       " 'Kaplan',\n",
       " 'Kaplan Test Prep',\n",
       " 'INTERTRUSTVITEOS CORPORATE AND FUND SERVICES PVT. LTD.',\n",
       " 'Serving Skill',\n",
       " 'Navitas life science',\n",
       " 'Navitas life science']"
      ]
     },
     "execution_count": 112,
     "metadata": {},
     "output_type": "execute_result"
    }
   ],
   "source": [
    "company"
   ]
  },
  {
   "cell_type": "code",
   "execution_count": 113,
   "metadata": {},
   "outputs": [],
   "source": [
    "#now we will fetch the experience required"
   ]
  },
  {
   "cell_type": "code",
   "execution_count": 114,
   "metadata": {},
   "outputs": [],
   "source": [
    "exp=[]"
   ]
  },
  {
   "cell_type": "code",
   "execution_count": 115,
   "metadata": {},
   "outputs": [],
   "source": [
    "ex=driver.find_elements_by_xpath(\"//span[@class='ellipsis fleft fs12 lh16']\")"
   ]
  },
  {
   "cell_type": "code",
   "execution_count": 116,
   "metadata": {},
   "outputs": [
    {
     "data": {
      "text/plain": [
       "[<selenium.webdriver.remote.webelement.WebElement (session=\"ceeadf8b03ab6c34473f49a416836f7b\", element=\"a344373e-2649-466f-ac8c-23ae66b749a1\")>,\n",
       " <selenium.webdriver.remote.webelement.WebElement (session=\"ceeadf8b03ab6c34473f49a416836f7b\", element=\"74412954-ee6a-4350-a9c2-2ffefca142b2\")>]"
      ]
     },
     "execution_count": 116,
     "metadata": {},
     "output_type": "execute_result"
    }
   ],
   "source": [
    "ex[0:2]"
   ]
  },
  {
   "cell_type": "code",
   "execution_count": 117,
   "metadata": {},
   "outputs": [],
   "source": [
    "for i in ex:\n",
    "    exp.append(i.text)"
   ]
  },
  {
   "cell_type": "code",
   "execution_count": 118,
   "metadata": {},
   "outputs": [
    {
     "data": {
      "text/plain": [
       "['0-3 Yrs',\n",
       " '3,50,000 - 4,50,000 PA.',\n",
       " 'Chennai, Pune, Bengaluru, Hyderabad',\n",
       " '2-7 Yrs',\n",
       " 'Not disclosed']"
      ]
     },
     "execution_count": 118,
     "metadata": {},
     "output_type": "execute_result"
    }
   ],
   "source": [
    "exp[0:5]"
   ]
  },
  {
   "cell_type": "code",
   "execution_count": 119,
   "metadata": {},
   "outputs": [
    {
     "data": {
      "text/plain": [
       "['0-3 Yrs',\n",
       " '3,50,000 - 4,50,000 PA.',\n",
       " 'Chennai, Pune, Bengaluru, Hyderabad',\n",
       " '2-7 Yrs',\n",
       " 'Not disclosed',\n",
       " 'Bengaluru',\n",
       " '3-10 Yrs',\n",
       " 'Not disclosed',\n",
       " 'Bengaluru',\n",
       " '0-5 Yrs',\n",
       " 'Not disclosed',\n",
       " 'Bengaluru',\n",
       " '1-6 Yrs',\n",
       " 'Not disclosed',\n",
       " 'Bengaluru',\n",
       " '2-6 Yrs',\n",
       " '3,00,000 - 5,00,000 PA.',\n",
       " 'Bengaluru(Bellandur)',\n",
       " '3-6 Yrs',\n",
       " 'Not disclosed',\n",
       " 'Pune, Bengaluru, Chandigarh',\n",
       " '0-5 Yrs',\n",
       " '3,00,000 - 8,00,000 PA.',\n",
       " 'Chennai, Pune, Delhi NCR, Mumbai, Ahmedabad, Bengaluru, Surat, Hyderabad, Kolkata',\n",
       " '2-7 Yrs',\n",
       " 'Not disclosed',\n",
       " 'Bengaluru',\n",
       " '3-5 Yrs',\n",
       " '4,00,000 - 7,00,000 PA.',\n",
       " 'Bengaluru',\n",
       " '4-5 Yrs',\n",
       " 'Not disclosed',\n",
       " 'Bengaluru',\n",
       " '2-5 Yrs',\n",
       " 'Not disclosed',\n",
       " 'Bengaluru',\n",
       " '3-6 Yrs',\n",
       " '6,00,000 - 10,00,000 PA.',\n",
       " 'Bengaluru(2nd Phase JP Nagar)',\n",
       " '8-13 Yrs',\n",
       " '6,00,000 - 12,00,000 PA.',\n",
       " 'Chennai, Delhi NCR, Bengaluru',\n",
       " '2-5 Yrs',\n",
       " 'Not disclosed',\n",
       " 'Bengaluru',\n",
       " '2-5 Yrs',\n",
       " 'Not disclosed',\n",
       " 'Bengaluru',\n",
       " '7-10 Yrs',\n",
       " 'Not disclosed',\n",
       " 'Chennai, Mumbai, Bengaluru',\n",
       " '6-9 Yrs',\n",
       " 'Not disclosed',\n",
       " 'Bengaluru',\n",
       " '2-5 Yrs',\n",
       " 'Not disclosed',\n",
       " 'Chennai, Bengaluru',\n",
       " '1-4 Yrs',\n",
       " 'Not disclosed',\n",
       " 'Chennai, Bengaluru']"
      ]
     },
     "execution_count": 119,
     "metadata": {},
     "output_type": "execute_result"
    }
   ],
   "source": [
    "exp"
   ]
  },
  {
   "cell_type": "code",
   "execution_count": 120,
   "metadata": {},
   "outputs": [],
   "source": [
    "exp=exp[0::3]"
   ]
  },
  {
   "cell_type": "code",
   "execution_count": 121,
   "metadata": {},
   "outputs": [
    {
     "data": {
      "text/plain": [
       "['0-3 Yrs',\n",
       " '2-7 Yrs',\n",
       " '3-10 Yrs',\n",
       " '0-5 Yrs',\n",
       " '1-6 Yrs',\n",
       " '2-6 Yrs',\n",
       " '3-6 Yrs',\n",
       " '0-5 Yrs',\n",
       " '2-7 Yrs',\n",
       " '3-5 Yrs',\n",
       " '4-5 Yrs',\n",
       " '2-5 Yrs',\n",
       " '3-6 Yrs',\n",
       " '8-13 Yrs',\n",
       " '2-5 Yrs',\n",
       " '2-5 Yrs',\n",
       " '7-10 Yrs',\n",
       " '6-9 Yrs',\n",
       " '2-5 Yrs',\n",
       " '1-4 Yrs']"
      ]
     },
     "execution_count": 121,
     "metadata": {},
     "output_type": "execute_result"
    }
   ],
   "source": [
    "exp"
   ]
  },
  {
   "cell_type": "code",
   "execution_count": 122,
   "metadata": {},
   "outputs": [],
   "source": [
    "#now we will be fetching the job location"
   ]
  },
  {
   "cell_type": "code",
   "execution_count": 123,
   "metadata": {},
   "outputs": [],
   "source": [
    "location=[]"
   ]
  },
  {
   "cell_type": "code",
   "execution_count": 124,
   "metadata": {},
   "outputs": [],
   "source": [
    "place=driver.find_elements_by_xpath(\"//li[@class='fleft grey-text br2 placeHolderLi location']\")"
   ]
  },
  {
   "cell_type": "code",
   "execution_count": 125,
   "metadata": {},
   "outputs": [
    {
     "data": {
      "text/plain": [
       "[<selenium.webdriver.remote.webelement.WebElement (session=\"ceeadf8b03ab6c34473f49a416836f7b\", element=\"4b430358-aff9-4b5a-a3dc-787538b8c950\")>,\n",
       " <selenium.webdriver.remote.webelement.WebElement (session=\"ceeadf8b03ab6c34473f49a416836f7b\", element=\"0daccb29-d231-4639-9663-eca835f69587\")>,\n",
       " <selenium.webdriver.remote.webelement.WebElement (session=\"ceeadf8b03ab6c34473f49a416836f7b\", element=\"e78fa0fc-4426-4e26-844b-490d5144a2b5\")>]"
      ]
     },
     "execution_count": 125,
     "metadata": {},
     "output_type": "execute_result"
    }
   ],
   "source": [
    "place[0:3]"
   ]
  },
  {
   "cell_type": "code",
   "execution_count": 126,
   "metadata": {},
   "outputs": [],
   "source": [
    "for i in place:\n",
    "    location.append(i.text)"
   ]
  },
  {
   "cell_type": "code",
   "execution_count": 127,
   "metadata": {},
   "outputs": [
    {
     "data": {
      "text/plain": [
       "['Chennai, Pune, Bengaluru, Hyderabad',\n",
       " 'Bengaluru',\n",
       " 'Bengaluru',\n",
       " 'Bengaluru',\n",
       " 'Bengaluru']"
      ]
     },
     "execution_count": 127,
     "metadata": {},
     "output_type": "execute_result"
    }
   ],
   "source": [
    "location[0:5]"
   ]
  },
  {
   "cell_type": "code",
   "execution_count": 128,
   "metadata": {},
   "outputs": [
    {
     "data": {
      "text/plain": [
       "list"
      ]
     },
     "execution_count": 128,
     "metadata": {},
     "output_type": "execute_result"
    }
   ],
   "source": [
    "type(location)"
   ]
  },
  {
   "cell_type": "code",
   "execution_count": 129,
   "metadata": {},
   "outputs": [
    {
     "data": {
      "text/plain": [
       "['Chennai, Pune, Bengaluru, Hyderabad',\n",
       " 'Bengaluru',\n",
       " 'Bengaluru',\n",
       " 'Bengaluru',\n",
       " 'Bengaluru',\n",
       " 'Bengaluru(Bellandur)',\n",
       " 'Pune, Bengaluru, Chandigarh',\n",
       " 'Chennai, Pune, Delhi NCR, Mumbai, Ahmedabad, Bengaluru, Surat, Hyderabad, Kolkata',\n",
       " 'Bengaluru',\n",
       " 'Bengaluru',\n",
       " 'Bengaluru',\n",
       " 'Bengaluru',\n",
       " 'Bengaluru(2nd Phase JP Nagar)',\n",
       " 'Chennai, Delhi NCR, Bengaluru',\n",
       " 'Bengaluru',\n",
       " 'Bengaluru',\n",
       " 'Chennai, Mumbai, Bengaluru',\n",
       " 'Bengaluru',\n",
       " 'Chennai, Bengaluru',\n",
       " 'Chennai, Bengaluru']"
      ]
     },
     "execution_count": 129,
     "metadata": {},
     "output_type": "execute_result"
    }
   ],
   "source": [
    "location"
   ]
  },
  {
   "cell_type": "code",
   "execution_count": 130,
   "metadata": {},
   "outputs": [],
   "source": [
    "#now we will save the results in a data frame"
   ]
  },
  {
   "cell_type": "code",
   "execution_count": 131,
   "metadata": {},
   "outputs": [],
   "source": [
    "import pandas as pd"
   ]
  },
  {
   "cell_type": "code",
   "execution_count": 132,
   "metadata": {},
   "outputs": [],
   "source": [
    "df=pd.DataFrame({})"
   ]
  },
  {
   "cell_type": "code",
   "execution_count": 133,
   "metadata": {},
   "outputs": [],
   "source": [
    "df['company name']=company[0:10]\n",
    "df['job title']=titles[0:10]\n",
    "df['Experience Required']=exp[0:10]\n",
    "df['Job Location']=location[0:10]"
   ]
  },
  {
   "cell_type": "code",
   "execution_count": 134,
   "metadata": {},
   "outputs": [
    {
     "data": {
      "text/html": [
       "<div>\n",
       "<style scoped>\n",
       "    .dataframe tbody tr th:only-of-type {\n",
       "        vertical-align: middle;\n",
       "    }\n",
       "\n",
       "    .dataframe tbody tr th {\n",
       "        vertical-align: top;\n",
       "    }\n",
       "\n",
       "    .dataframe thead th {\n",
       "        text-align: right;\n",
       "    }\n",
       "</style>\n",
       "<table border=\"1\" class=\"dataframe\">\n",
       "  <thead>\n",
       "    <tr style=\"text-align: right;\">\n",
       "      <th></th>\n",
       "      <th>company name</th>\n",
       "      <th>job title</th>\n",
       "      <th>Experience Required</th>\n",
       "      <th>Job Location</th>\n",
       "    </tr>\n",
       "  </thead>\n",
       "  <tbody>\n",
       "    <tr>\n",
       "      <th>0</th>\n",
       "      <td>CAIA-Center For Artificial Intelligence &amp; Adva...</td>\n",
       "      <td>Immediate opening For Data Scientist/Data Analyst</td>\n",
       "      <td>0-3 Yrs</td>\n",
       "      <td>Chennai, Pune, Bengaluru, Hyderabad</td>\n",
       "    </tr>\n",
       "    <tr>\n",
       "      <th>1</th>\n",
       "      <td>Myntra Designs Pvt. Ltd.</td>\n",
       "      <td>Senior Data Analyst</td>\n",
       "      <td>2-7 Yrs</td>\n",
       "      <td>Bengaluru</td>\n",
       "    </tr>\n",
       "    <tr>\n",
       "      <th>2</th>\n",
       "      <td>Technicolor</td>\n",
       "      <td>Senior Sourcing Data Analyst - Coupa/ERP/Jaggaer</td>\n",
       "      <td>3-10 Yrs</td>\n",
       "      <td>Bengaluru</td>\n",
       "    </tr>\n",
       "    <tr>\n",
       "      <th>3</th>\n",
       "      <td>Ladder of changes</td>\n",
       "      <td>Data Analyst</td>\n",
       "      <td>0-5 Yrs</td>\n",
       "      <td>Bengaluru</td>\n",
       "    </tr>\n",
       "    <tr>\n",
       "      <th>4</th>\n",
       "      <td>Altisource Business Solutions Pvt Ltd</td>\n",
       "      <td>Data Analyst / Business Analyst</td>\n",
       "      <td>1-6 Yrs</td>\n",
       "      <td>Bengaluru</td>\n",
       "    </tr>\n",
       "    <tr>\n",
       "      <th>5</th>\n",
       "      <td>Teleperformance Global Services Pvt Ltd</td>\n",
       "      <td>Hiring For Data Analyst RE) - Bangalore</td>\n",
       "      <td>2-6 Yrs</td>\n",
       "      <td>Bengaluru(Bellandur)</td>\n",
       "    </tr>\n",
       "    <tr>\n",
       "      <th>6</th>\n",
       "      <td>Zscaler, Inc.</td>\n",
       "      <td>Data Analyst, Pricing</td>\n",
       "      <td>3-6 Yrs</td>\n",
       "      <td>Pune, Bengaluru, Chandigarh</td>\n",
       "    </tr>\n",
       "    <tr>\n",
       "      <th>7</th>\n",
       "      <td>OMEGA SEIKI</td>\n",
       "      <td>Data Analyst</td>\n",
       "      <td>0-5 Yrs</td>\n",
       "      <td>Chennai, Pune, Delhi NCR, Mumbai, Ahmedabad, B...</td>\n",
       "    </tr>\n",
       "    <tr>\n",
       "      <th>8</th>\n",
       "      <td>Myntra Designs Pvt. Ltd.</td>\n",
       "      <td>Manager Data Analyst - Brand Accelerator</td>\n",
       "      <td>2-7 Yrs</td>\n",
       "      <td>Bengaluru</td>\n",
       "    </tr>\n",
       "    <tr>\n",
       "      <th>9</th>\n",
       "      <td>Snaphunt</td>\n",
       "      <td>Data Analyst</td>\n",
       "      <td>3-5 Yrs</td>\n",
       "      <td>Bengaluru</td>\n",
       "    </tr>\n",
       "  </tbody>\n",
       "</table>\n",
       "</div>"
      ],
      "text/plain": [
       "                                        company name  \\\n",
       "0  CAIA-Center For Artificial Intelligence & Adva...   \n",
       "1                           Myntra Designs Pvt. Ltd.   \n",
       "2                                        Technicolor   \n",
       "3                                  Ladder of changes   \n",
       "4              Altisource Business Solutions Pvt Ltd   \n",
       "5            Teleperformance Global Services Pvt Ltd   \n",
       "6                                      Zscaler, Inc.   \n",
       "7                                        OMEGA SEIKI   \n",
       "8                           Myntra Designs Pvt. Ltd.   \n",
       "9                                           Snaphunt   \n",
       "\n",
       "                                           job title Experience Required  \\\n",
       "0  Immediate opening For Data Scientist/Data Analyst             0-3 Yrs   \n",
       "1                                Senior Data Analyst             2-7 Yrs   \n",
       "2   Senior Sourcing Data Analyst - Coupa/ERP/Jaggaer            3-10 Yrs   \n",
       "3                                       Data Analyst             0-5 Yrs   \n",
       "4                    Data Analyst / Business Analyst             1-6 Yrs   \n",
       "5            Hiring For Data Analyst RE) - Bangalore             2-6 Yrs   \n",
       "6                              Data Analyst, Pricing             3-6 Yrs   \n",
       "7                                       Data Analyst             0-5 Yrs   \n",
       "8           Manager Data Analyst - Brand Accelerator             2-7 Yrs   \n",
       "9                                       Data Analyst             3-5 Yrs   \n",
       "\n",
       "                                        Job Location  \n",
       "0                Chennai, Pune, Bengaluru, Hyderabad  \n",
       "1                                          Bengaluru  \n",
       "2                                          Bengaluru  \n",
       "3                                          Bengaluru  \n",
       "4                                          Bengaluru  \n",
       "5                               Bengaluru(Bellandur)  \n",
       "6                        Pune, Bengaluru, Chandigarh  \n",
       "7  Chennai, Pune, Delhi NCR, Mumbai, Ahmedabad, B...  \n",
       "8                                          Bengaluru  \n",
       "9                                          Bengaluru  "
      ]
     },
     "execution_count": 134,
     "metadata": {},
     "output_type": "execute_result"
    }
   ],
   "source": [
    "df"
   ]
  },
  {
   "cell_type": "code",
   "execution_count": null,
   "metadata": {},
   "outputs": [],
   "source": []
  }
 ],
 "metadata": {
  "kernelspec": {
   "display_name": "Python 3",
   "language": "python",
   "name": "python3"
  },
  "language_info": {
   "codemirror_mode": {
    "name": "ipython",
    "version": 3
   },
   "file_extension": ".py",
   "mimetype": "text/x-python",
   "name": "python",
   "nbconvert_exporter": "python",
   "pygments_lexer": "ipython3",
   "version": "3.7.6"
  }
 },
 "nbformat": 4,
 "nbformat_minor": 4
}
