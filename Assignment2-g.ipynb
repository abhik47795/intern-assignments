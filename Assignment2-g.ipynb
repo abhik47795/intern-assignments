{
 "cells": [
  {
   "cell_type": "raw",
   "metadata": {},
   "source": [
    "The following things to scrape:- \n",
    "1. Rating\n",
    "2. Review_summary\n",
    "3. Full review\n",
    "You have to scrape this data for first 100 reviews."
   ]
  },
  {
   "cell_type": "code",
   "execution_count": 91,
   "metadata": {},
   "outputs": [],
   "source": [
    "#importing all the useful libraries"
   ]
  },
  {
   "cell_type": "code",
   "execution_count": 92,
   "metadata": {},
   "outputs": [],
   "source": [
    "import selenium\n",
    "from selenium import webdriver"
   ]
  },
  {
   "cell_type": "code",
   "execution_count": 93,
   "metadata": {},
   "outputs": [],
   "source": [
    "driver=webdriver.Chrome(r'D:\\G\\DATA SCIENCE\\chromedriver.exe')"
   ]
  },
  {
   "cell_type": "code",
   "execution_count": 94,
   "metadata": {},
   "outputs": [],
   "source": [
    "url='https://www.flipkart.com/apple-iphone-11-black-64-gb-includes-earpods-power-adapter/product-reviews/itm0f37c2240b217?pid=MOBFKCTSVZAXUHGR&lid=LSTMOBFKCTSVZAXUHGR42FFTZ&marketplace=FLIPKART'"
   ]
  },
  {
   "cell_type": "code",
   "execution_count": 95,
   "metadata": {},
   "outputs": [],
   "source": [
    "driver.get(url)"
   ]
  },
  {
   "cell_type": "code",
   "execution_count": 96,
   "metadata": {},
   "outputs": [],
   "source": [
    "rating=[]\n",
    "summ=[]\n",
    "review=[]"
   ]
  },
  {
   "cell_type": "code",
   "execution_count": 97,
   "metadata": {},
   "outputs": [],
   "source": [
    "ratings=driver.find_elements_by_xpath(\"//div[@class='hGSR34 E_uFuv']\")"
   ]
  },
  {
   "cell_type": "code",
   "execution_count": 98,
   "metadata": {},
   "outputs": [
    {
     "data": {
      "text/plain": [
       "[<selenium.webdriver.remote.webelement.WebElement (session=\"6d2977e1dc1c4c96b62c3f5fae3092b6\", element=\"a1784cfc-860b-4080-892f-cb311205df8d\")>,\n",
       " <selenium.webdriver.remote.webelement.WebElement (session=\"6d2977e1dc1c4c96b62c3f5fae3092b6\", element=\"8a1cedd8-36fd-4fb6-b4ec-9dc020c100d6\")>,\n",
       " <selenium.webdriver.remote.webelement.WebElement (session=\"6d2977e1dc1c4c96b62c3f5fae3092b6\", element=\"6c312083-050b-4cf4-a299-555c4d875c89\")>]"
      ]
     },
     "execution_count": 98,
     "metadata": {},
     "output_type": "execute_result"
    }
   ],
   "source": [
    "ratings[0:3]"
   ]
  },
  {
   "cell_type": "code",
   "execution_count": 99,
   "metadata": {},
   "outputs": [],
   "source": [
    "for i in ratings:\n",
    "    rating.append(i.text)"
   ]
  },
  {
   "cell_type": "code",
   "execution_count": 100,
   "metadata": {},
   "outputs": [
    {
     "data": {
      "text/plain": [
       "['5', '5', '5', '5', '5', '5', '5', '5', '4', '5']"
      ]
     },
     "execution_count": 100,
     "metadata": {},
     "output_type": "execute_result"
    }
   ],
   "source": [
    "rating"
   ]
  },
  {
   "cell_type": "code",
   "execution_count": 101,
   "metadata": {},
   "outputs": [],
   "source": [
    "summary=driver.find_elements_by_xpath(\"//p[@class='_2xg6Ul']\")"
   ]
  },
  {
   "cell_type": "code",
   "execution_count": 102,
   "metadata": {},
   "outputs": [
    {
     "data": {
      "text/plain": [
       "[<selenium.webdriver.remote.webelement.WebElement (session=\"6d2977e1dc1c4c96b62c3f5fae3092b6\", element=\"adb15ead-ccbe-49d0-bfb0-61cd6820758e\")>,\n",
       " <selenium.webdriver.remote.webelement.WebElement (session=\"6d2977e1dc1c4c96b62c3f5fae3092b6\", element=\"54578309-ae47-4bb9-98ca-872e1e7aa541\")>,\n",
       " <selenium.webdriver.remote.webelement.WebElement (session=\"6d2977e1dc1c4c96b62c3f5fae3092b6\", element=\"1d9f21d0-7169-407f-a78b-772080c8b996\")>]"
      ]
     },
     "execution_count": 102,
     "metadata": {},
     "output_type": "execute_result"
    }
   ],
   "source": [
    "summary[0:3]"
   ]
  },
  {
   "cell_type": "code",
   "execution_count": 103,
   "metadata": {},
   "outputs": [],
   "source": [
    "for i in summary:\n",
    "    summ.append(i.text)"
   ]
  },
  {
   "cell_type": "code",
   "execution_count": 104,
   "metadata": {},
   "outputs": [
    {
     "data": {
      "text/plain": [
       "['Perfect product!',\n",
       " 'Great product',\n",
       " 'Perfect product!',\n",
       " 'Highly recommended',\n",
       " 'Perfect product!',\n",
       " 'Worth every penny',\n",
       " 'Worth every penny',\n",
       " 'Perfect product!',\n",
       " 'Nice product',\n",
       " 'Wonderful']"
      ]
     },
     "execution_count": 104,
     "metadata": {},
     "output_type": "execute_result"
    }
   ],
   "source": [
    "summ"
   ]
  },
  {
   "cell_type": "code",
   "execution_count": 105,
   "metadata": {},
   "outputs": [],
   "source": [
    "rev=driver.find_elements_by_xpath(\"//div[@class='qwjRop']\")"
   ]
  },
  {
   "cell_type": "code",
   "execution_count": 106,
   "metadata": {},
   "outputs": [
    {
     "data": {
      "text/plain": [
       "[<selenium.webdriver.remote.webelement.WebElement (session=\"6d2977e1dc1c4c96b62c3f5fae3092b6\", element=\"caf4a2f0-3b29-49f7-b64f-c0e764d18da1\")>,\n",
       " <selenium.webdriver.remote.webelement.WebElement (session=\"6d2977e1dc1c4c96b62c3f5fae3092b6\", element=\"b5837639-53c2-431f-820a-3b6443379c2c\")>,\n",
       " <selenium.webdriver.remote.webelement.WebElement (session=\"6d2977e1dc1c4c96b62c3f5fae3092b6\", element=\"112138b6-c343-4f49-b82f-bca3516c7993\")>,\n",
       " <selenium.webdriver.remote.webelement.WebElement (session=\"6d2977e1dc1c4c96b62c3f5fae3092b6\", element=\"7d2360d5-d060-4809-86dd-285354ff8589\")>,\n",
       " <selenium.webdriver.remote.webelement.WebElement (session=\"6d2977e1dc1c4c96b62c3f5fae3092b6\", element=\"2b325c30-1e9e-472b-a225-f73ca802c44f\")>,\n",
       " <selenium.webdriver.remote.webelement.WebElement (session=\"6d2977e1dc1c4c96b62c3f5fae3092b6\", element=\"31b34bd2-e495-4b8e-8775-858c13d6046d\")>,\n",
       " <selenium.webdriver.remote.webelement.WebElement (session=\"6d2977e1dc1c4c96b62c3f5fae3092b6\", element=\"2737fc1a-28f2-4f11-a7a9-db3feef23432\")>,\n",
       " <selenium.webdriver.remote.webelement.WebElement (session=\"6d2977e1dc1c4c96b62c3f5fae3092b6\", element=\"8e9f0b55-7d38-45f1-a04b-0be25ef77ca0\")>,\n",
       " <selenium.webdriver.remote.webelement.WebElement (session=\"6d2977e1dc1c4c96b62c3f5fae3092b6\", element=\"c132f09f-c96e-46ca-8594-febb4f64e5cd\")>,\n",
       " <selenium.webdriver.remote.webelement.WebElement (session=\"6d2977e1dc1c4c96b62c3f5fae3092b6\", element=\"61900f7f-d3e6-4994-9c9d-0600e97f4750\")>]"
      ]
     },
     "execution_count": 106,
     "metadata": {},
     "output_type": "execute_result"
    }
   ],
   "source": [
    "rev"
   ]
  },
  {
   "cell_type": "code",
   "execution_count": 107,
   "metadata": {},
   "outputs": [],
   "source": [
    "for i in rev:\n",
    "    review.append(i.text)"
   ]
  },
  {
   "cell_type": "code",
   "execution_count": 108,
   "metadata": {},
   "outputs": [
    {
     "data": {
      "text/plain": [
       "['Amazing phone with great cameras and better battery which gives you the best performance. I just love the camera .',\n",
       " 'Amazing Powerful and Durable Gadget.\\n\\nI’m am very happy with the camera picture quality, Amazing face id unlocked in dark room, Strong battery with perfect screen size as you can carry easily in pocket. This is my third iPhone.\\n\\nI shifted from android Samsung Note series to iPhone because of the strong build quality and peace of mind for next 3-4 years.\\n\\nDon’t think to much just go for it and I suggest you to go for minimum 128gb variant or more 256gb.\\n\\nI’ve attached my puppy pics and no fi...\\nREAD MORE',\n",
       " 'It’s a must buy who is looking for an upgrade from previous generation of iPhones. If you are using XR then still you can hold on for sometime and upgrade to 2020 model else this phone is a must buy . Camera quality is amazing and wide angle is something to count upon. Performance wise it’s amazing and feels premium while holding in hand. So a big YES for this device. Go for 128 GB variant as the 4K videos will occupy lots of space and the storage can get over very quickly. Try to buy it with...\\nREAD MORE',\n",
       " 'iphone 11 is a very good phone to buy only if you can compromise for the display. The display on this is device is pretty good but you can get other options with better displays in this price segment.\\nIf you can survive with an HD+ LCD panel with thicker bezels and a notch up top then this is a very good phone for you.\\nCameras are awesome, battery backup excellent, great performance and a decent premium look. Good job Apple !']"
      ]
     },
     "execution_count": 108,
     "metadata": {},
     "output_type": "execute_result"
    }
   ],
   "source": [
    "review[0:4]"
   ]
  },
  {
   "cell_type": "code",
   "execution_count": 109,
   "metadata": {},
   "outputs": [],
   "source": [
    "#storing the above scrapped data in data frame:-"
   ]
  },
  {
   "cell_type": "code",
   "execution_count": 110,
   "metadata": {},
   "outputs": [],
   "source": [
    "import pandas as pd"
   ]
  },
  {
   "cell_type": "code",
   "execution_count": 111,
   "metadata": {},
   "outputs": [],
   "source": [
    "df=pd.DataFrame({})"
   ]
  },
  {
   "cell_type": "code",
   "execution_count": 112,
   "metadata": {
    "scrolled": true
   },
   "outputs": [
    {
     "data": {
      "text/html": [
       "<div>\n",
       "<style scoped>\n",
       "    .dataframe tbody tr th:only-of-type {\n",
       "        vertical-align: middle;\n",
       "    }\n",
       "\n",
       "    .dataframe tbody tr th {\n",
       "        vertical-align: top;\n",
       "    }\n",
       "\n",
       "    .dataframe thead th {\n",
       "        text-align: right;\n",
       "    }\n",
       "</style>\n",
       "<table border=\"1\" class=\"dataframe\">\n",
       "  <thead>\n",
       "    <tr style=\"text-align: right;\">\n",
       "      <th></th>\n",
       "      <th>Rating</th>\n",
       "      <th>Review summary</th>\n",
       "      <th>Full summary</th>\n",
       "    </tr>\n",
       "  </thead>\n",
       "  <tbody>\n",
       "    <tr>\n",
       "      <th>0</th>\n",
       "      <td>5</td>\n",
       "      <td>Perfect product!</td>\n",
       "      <td>Amazing phone with great cameras and better ba...</td>\n",
       "    </tr>\n",
       "    <tr>\n",
       "      <th>1</th>\n",
       "      <td>5</td>\n",
       "      <td>Great product</td>\n",
       "      <td>Amazing Powerful and Durable Gadget.\\n\\nI’m am...</td>\n",
       "    </tr>\n",
       "    <tr>\n",
       "      <th>2</th>\n",
       "      <td>5</td>\n",
       "      <td>Perfect product!</td>\n",
       "      <td>It’s a must buy who is looking for an upgrade ...</td>\n",
       "    </tr>\n",
       "    <tr>\n",
       "      <th>3</th>\n",
       "      <td>5</td>\n",
       "      <td>Highly recommended</td>\n",
       "      <td>iphone 11 is a very good phone to buy only if ...</td>\n",
       "    </tr>\n",
       "    <tr>\n",
       "      <th>4</th>\n",
       "      <td>5</td>\n",
       "      <td>Perfect product!</td>\n",
       "      <td>Value for money❤️❤️\\nIts awesome mobile phone ...</td>\n",
       "    </tr>\n",
       "    <tr>\n",
       "      <th>5</th>\n",
       "      <td>5</td>\n",
       "      <td>Worth every penny</td>\n",
       "      <td>Best budget Iphone till date ❤️ go for it guys...</td>\n",
       "    </tr>\n",
       "    <tr>\n",
       "      <th>6</th>\n",
       "      <td>5</td>\n",
       "      <td>Worth every penny</td>\n",
       "      <td>It’s been almost a month since I have been usi...</td>\n",
       "    </tr>\n",
       "    <tr>\n",
       "      <th>7</th>\n",
       "      <td>5</td>\n",
       "      <td>Perfect product!</td>\n",
       "      <td>Iphone is just awesome.. battery backup is ver...</td>\n",
       "    </tr>\n",
       "    <tr>\n",
       "      <th>8</th>\n",
       "      <td>4</td>\n",
       "      <td>Nice product</td>\n",
       "      <td>Awesome Phone. Slightly high price but worth. ...</td>\n",
       "    </tr>\n",
       "    <tr>\n",
       "      <th>9</th>\n",
       "      <td>5</td>\n",
       "      <td>Wonderful</td>\n",
       "      <td>*Review after 10 months of usage*\\nDoesn't see...</td>\n",
       "    </tr>\n",
       "  </tbody>\n",
       "</table>\n",
       "</div>"
      ],
      "text/plain": [
       "  Rating      Review summary  \\\n",
       "0      5    Perfect product!   \n",
       "1      5       Great product   \n",
       "2      5    Perfect product!   \n",
       "3      5  Highly recommended   \n",
       "4      5    Perfect product!   \n",
       "5      5   Worth every penny   \n",
       "6      5   Worth every penny   \n",
       "7      5    Perfect product!   \n",
       "8      4        Nice product   \n",
       "9      5           Wonderful   \n",
       "\n",
       "                                        Full summary  \n",
       "0  Amazing phone with great cameras and better ba...  \n",
       "1  Amazing Powerful and Durable Gadget.\\n\\nI’m am...  \n",
       "2  It’s a must buy who is looking for an upgrade ...  \n",
       "3  iphone 11 is a very good phone to buy only if ...  \n",
       "4  Value for money❤️❤️\\nIts awesome mobile phone ...  \n",
       "5  Best budget Iphone till date ❤️ go for it guys...  \n",
       "6  It’s been almost a month since I have been usi...  \n",
       "7  Iphone is just awesome.. battery backup is ver...  \n",
       "8  Awesome Phone. Slightly high price but worth. ...  \n",
       "9  *Review after 10 months of usage*\\nDoesn't see...  "
      ]
     },
     "execution_count": 112,
     "metadata": {},
     "output_type": "execute_result"
    }
   ],
   "source": [
    "df['Rating']=rating\n",
    "df['Review summary']=summ\n",
    "df['Full summary']=review\n",
    "df"
   ]
  },
  {
   "cell_type": "code",
   "execution_count": null,
   "metadata": {},
   "outputs": [],
   "source": []
  }
 ],
 "metadata": {
  "kernelspec": {
   "display_name": "Python 3",
   "language": "python",
   "name": "python3"
  },
  "language_info": {
   "codemirror_mode": {
    "name": "ipython",
    "version": 3
   },
   "file_extension": ".py",
   "mimetype": "text/x-python",
   "name": "python",
   "nbconvert_exporter": "python",
   "pygments_lexer": "ipython3",
   "version": "3.7.6"
  }
 },
 "nbformat": 4,
 "nbformat_minor": 4
}
