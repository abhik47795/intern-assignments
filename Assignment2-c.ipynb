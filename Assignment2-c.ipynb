{
 "cells": [
  {
   "cell_type": "markdown",
   "metadata": {},
   "source": [
    "# Write a python program to scrape data for “Data Scientist” Job position in “Delhi-NCR” location and salary between 3-6L. You have to scrape the job-title, job-location, company_name, full job-description. You have to scrape first 10 jobs data"
   ]
  },
  {
   "cell_type": "code",
   "execution_count": 200,
   "metadata": {},
   "outputs": [],
   "source": [
    "#importing all useful libraries"
   ]
  },
  {
   "cell_type": "code",
   "execution_count": 201,
   "metadata": {},
   "outputs": [],
   "source": [
    "import selenium\n",
    "from selenium import webdriver"
   ]
  },
  {
   "cell_type": "code",
   "execution_count": 202,
   "metadata": {},
   "outputs": [],
   "source": [
    "#getting driver from the required location"
   ]
  },
  {
   "cell_type": "code",
   "execution_count": 203,
   "metadata": {},
   "outputs": [],
   "source": [
    "driver=webdriver.Chrome(r'G:\\DATA SCIENCE\\chromedriver.exe')"
   ]
  },
  {
   "cell_type": "code",
   "execution_count": 204,
   "metadata": {},
   "outputs": [],
   "source": [
    "url='https://www.naukri.com/data-scientist-jobs-in-delhi-ncr?k=data%20scientist&l=delhi%2Fncr&cityType=25.9.31&ctcFilter=3to6'"
   ]
  },
  {
   "cell_type": "code",
   "execution_count": 205,
   "metadata": {},
   "outputs": [],
   "source": [
    "#my driver will fetch the url"
   ]
  },
  {
   "cell_type": "code",
   "execution_count": 206,
   "metadata": {},
   "outputs": [],
   "source": [
    "driver.get(url)"
   ]
  },
  {
   "cell_type": "code",
   "execution_count": 207,
   "metadata": {},
   "outputs": [],
   "source": [
    "titles=[]"
   ]
  },
  {
   "cell_type": "code",
   "execution_count": 208,
   "metadata": {},
   "outputs": [],
   "source": [
    "#fetching the titles tag from the url"
   ]
  },
  {
   "cell_type": "code",
   "execution_count": 209,
   "metadata": {},
   "outputs": [],
   "source": [
    "title=driver.find_elements_by_xpath(\"//a[@class='title fw500 ellipsis']\")"
   ]
  },
  {
   "cell_type": "code",
   "execution_count": 210,
   "metadata": {},
   "outputs": [
    {
     "data": {
      "text/plain": [
       "[<selenium.webdriver.remote.webelement.WebElement (session=\"cd84623f957c11f38d1bb7658ba5e199\", element=\"4f75d001-2295-4e8f-8ede-a497f9216da1\")>,\n",
       " <selenium.webdriver.remote.webelement.WebElement (session=\"cd84623f957c11f38d1bb7658ba5e199\", element=\"34ff2f90-f04e-476a-83ce-0fd9178ad3b1\")>,\n",
       " <selenium.webdriver.remote.webelement.WebElement (session=\"cd84623f957c11f38d1bb7658ba5e199\", element=\"f4b0a5aa-ef49-4975-a4bd-ea7a308e07d5\")>,\n",
       " <selenium.webdriver.remote.webelement.WebElement (session=\"cd84623f957c11f38d1bb7658ba5e199\", element=\"9f786100-c653-4c69-aafe-3cd2cc26f0d6\")>]"
      ]
     },
     "execution_count": 210,
     "metadata": {},
     "output_type": "execute_result"
    }
   ],
   "source": [
    "title[0:4]"
   ]
  },
  {
   "cell_type": "code",
   "execution_count": 211,
   "metadata": {},
   "outputs": [],
   "source": [
    "#fetching the text from the above data"
   ]
  },
  {
   "cell_type": "code",
   "execution_count": 212,
   "metadata": {},
   "outputs": [],
   "source": [
    "for i in title:\n",
    "    titles.append(i.text)"
   ]
  },
  {
   "cell_type": "code",
   "execution_count": 213,
   "metadata": {},
   "outputs": [
    {
     "data": {
      "text/plain": [
       "['Only Fresher / Data Scientist / Data Analyst / Business Analytics- MNC',\n",
       " 'Data scientist opening',\n",
       " 'Only Fresher / Data Scientist / Data Analyst / Business Analytics- MNC',\n",
       " 'Data Analyst / Data Scientist | Delhi / Noida / Gurgaon',\n",
       " 'Data Scientist',\n",
       " 'Data Scientist',\n",
       " 'Data Scientist/Analyst - Machine Learning/Deep Learning',\n",
       " 'Data Scientist - NLP/ML/Python',\n",
       " 'Data Scientist - NLP/ML/Python',\n",
       " 'Data Scientist / Data Analyst',\n",
       " 'Data Analyst/ Data Scientist',\n",
       " 'Urgent hiring of a Principal Data Scientist, SGT University',\n",
       " 'Data Scientist',\n",
       " 'Data Scientist Machine Learning',\n",
       " 'Business Analyst - Data Scientist',\n",
       " 'Analyst - Data Scientist',\n",
       " 'Senior Data Scientist',\n",
       " 'Data Scientist',\n",
       " 'Data Scientist',\n",
       " 'Only Fresher / Data Scientist / Python/ Tableau/ Data Analyst - MNC']"
      ]
     },
     "execution_count": 213,
     "metadata": {},
     "output_type": "execute_result"
    }
   ],
   "source": [
    "titles"
   ]
  },
  {
   "cell_type": "code",
   "execution_count": 214,
   "metadata": {},
   "outputs": [],
   "source": [
    "#now we will be fetching the company details"
   ]
  },
  {
   "cell_type": "code",
   "execution_count": 215,
   "metadata": {},
   "outputs": [],
   "source": [
    "company=[]"
   ]
  },
  {
   "cell_type": "code",
   "execution_count": 216,
   "metadata": {},
   "outputs": [],
   "source": [
    "companies=driver.find_elements_by_xpath(\"//a[@class='subTitle ellipsis fleft']\")"
   ]
  },
  {
   "cell_type": "code",
   "execution_count": 217,
   "metadata": {},
   "outputs": [
    {
     "data": {
      "text/plain": [
       "[<selenium.webdriver.remote.webelement.WebElement (session=\"cd84623f957c11f38d1bb7658ba5e199\", element=\"7b23b588-a9c6-4a22-a0ff-e30d241535de\")>,\n",
       " <selenium.webdriver.remote.webelement.WebElement (session=\"cd84623f957c11f38d1bb7658ba5e199\", element=\"086253c3-03e6-4413-a7bc-151827adbf06\")>]"
      ]
     },
     "execution_count": 217,
     "metadata": {},
     "output_type": "execute_result"
    }
   ],
   "source": [
    "companies[0:2]"
   ]
  },
  {
   "cell_type": "code",
   "execution_count": 218,
   "metadata": {},
   "outputs": [],
   "source": [
    "for i in companies:\n",
    "    company.append(i.text)"
   ]
  },
  {
   "cell_type": "code",
   "execution_count": 219,
   "metadata": {},
   "outputs": [
    {
     "data": {
      "text/plain": [
       "['GABA Consultancy services',\n",
       " 'Ojas Innovative Technologies Private Limited',\n",
       " 'GABA Consultancy services',\n",
       " 'Freelancer Anubhav Sharma',\n",
       " 'AlgoScale Technologies Private Limited',\n",
       " 'GLOBALLOGIC TECHNOLOGIES PRIVATE LIMITED',\n",
       " 'EchoIndia',\n",
       " 'Elixir Web Solutions',\n",
       " 'Elixir Web Solutions',\n",
       " 'CARS24',\n",
       " 'SEABIRD LOGISOLUTIONS LIMITED',\n",
       " 'SGT University (Part of Dashmesh Educational Charitable Trust )',\n",
       " 'Think bridge Software Pvt. Ltd.',\n",
       " 'Delhivery',\n",
       " 'HyreFox Consultants Pvt Ltd',\n",
       " 'HyreFox Consultants Pvt Ltd',\n",
       " 'iNICU',\n",
       " 'Mahajan Imaging',\n",
       " 'Mahajan Imaging',\n",
       " 'GABA Consultancy services']"
      ]
     },
     "execution_count": 219,
     "metadata": {},
     "output_type": "execute_result"
    }
   ],
   "source": [
    "company"
   ]
  },
  {
   "cell_type": "code",
   "execution_count": 220,
   "metadata": {},
   "outputs": [],
   "source": [
    "#now we will be fetching the job location"
   ]
  },
  {
   "cell_type": "code",
   "execution_count": 221,
   "metadata": {},
   "outputs": [],
   "source": [
    "location=[]"
   ]
  },
  {
   "cell_type": "code",
   "execution_count": 222,
   "metadata": {},
   "outputs": [],
   "source": [
    "place=driver.find_elements_by_xpath(\"//li[@class='fleft grey-text br2 placeHolderLi location']\")"
   ]
  },
  {
   "cell_type": "code",
   "execution_count": 223,
   "metadata": {},
   "outputs": [
    {
     "data": {
      "text/plain": [
       "[<selenium.webdriver.remote.webelement.WebElement (session=\"cd84623f957c11f38d1bb7658ba5e199\", element=\"571a7f4e-34b2-4952-b17c-635f1b375b78\")>,\n",
       " <selenium.webdriver.remote.webelement.WebElement (session=\"cd84623f957c11f38d1bb7658ba5e199\", element=\"3781b53e-a8d3-4526-81cb-757a0fd90bbc\")>,\n",
       " <selenium.webdriver.remote.webelement.WebElement (session=\"cd84623f957c11f38d1bb7658ba5e199\", element=\"29f2d8da-a0e8-44bc-822a-0faf9521a803\")>]"
      ]
     },
     "execution_count": 223,
     "metadata": {},
     "output_type": "execute_result"
    }
   ],
   "source": [
    "place[0:3]"
   ]
  },
  {
   "cell_type": "code",
   "execution_count": 224,
   "metadata": {},
   "outputs": [],
   "source": [
    "for i in place:\n",
    "    location.append(i.text)"
   ]
  },
  {
   "cell_type": "code",
   "execution_count": 225,
   "metadata": {},
   "outputs": [
    {
     "data": {
      "text/plain": [
       "['Delhi NCR, Ghaziabad, Gurgaon',\n",
       " 'Chennai, Pune, Delhi NCR, Mumbai, Bengaluru, Hyderabad, Kolkata',\n",
       " 'Faridabad, Delhi NCR, Greater Noida',\n",
       " 'Delhi NCR',\n",
       " 'Noida',\n",
       " 'Noida',\n",
       " 'Delhi',\n",
       " 'Gurgaon Gurugram',\n",
       " 'Gurgaon Gurugram',\n",
       " 'Gurgaon Gurugram',\n",
       " 'Delhi NCR(Jasola)',\n",
       " 'Delhi NCR, Delhi',\n",
       " 'Chennai, Pune, Delhi NCR, Mumbai, Bengaluru, Hyderabad, Kolkata',\n",
       " 'Gurgaon',\n",
       " 'Gurgaon',\n",
       " 'Gurgaon',\n",
       " 'Delhi',\n",
       " 'Delhi',\n",
       " 'Delhi',\n",
       " 'Faridabad, Delhi NCR, Gurgaon']"
      ]
     },
     "execution_count": 225,
     "metadata": {},
     "output_type": "execute_result"
    }
   ],
   "source": [
    "location"
   ]
  },
  {
   "cell_type": "code",
   "execution_count": 226,
   "metadata": {},
   "outputs": [],
   "source": [
    "#now we will fetch the experience required"
   ]
  },
  {
   "cell_type": "code",
   "execution_count": 227,
   "metadata": {},
   "outputs": [],
   "source": [
    "exp=[]"
   ]
  },
  {
   "cell_type": "code",
   "execution_count": 228,
   "metadata": {},
   "outputs": [],
   "source": [
    "ex=driver.find_elements_by_xpath(\"//span[@class='ellipsis fleft fs12 lh16']\")"
   ]
  },
  {
   "cell_type": "code",
   "execution_count": 229,
   "metadata": {},
   "outputs": [
    {
     "data": {
      "text/plain": [
       "[<selenium.webdriver.remote.webelement.WebElement (session=\"cd84623f957c11f38d1bb7658ba5e199\", element=\"2d380e4b-1d1f-4372-b8af-407e1ad954eb\")>,\n",
       " <selenium.webdriver.remote.webelement.WebElement (session=\"cd84623f957c11f38d1bb7658ba5e199\", element=\"698ddc16-6011-4533-ae23-d13021670539\")>,\n",
       " <selenium.webdriver.remote.webelement.WebElement (session=\"cd84623f957c11f38d1bb7658ba5e199\", element=\"b909c535-18b6-4bc3-b4b9-84bc14f299f9\")>]"
      ]
     },
     "execution_count": 229,
     "metadata": {},
     "output_type": "execute_result"
    }
   ],
   "source": [
    "ex[0:3]"
   ]
  },
  {
   "cell_type": "code",
   "execution_count": 230,
   "metadata": {},
   "outputs": [],
   "source": [
    "for i in ex:\n",
    "    exp.append(i.text)"
   ]
  },
  {
   "cell_type": "code",
   "execution_count": 231,
   "metadata": {},
   "outputs": [
    {
     "data": {
      "text/plain": [
       "['0-0 Yrs',\n",
       " '2,25,000 - 4,75,000 PA.',\n",
       " 'Delhi NCR, Ghaziabad, Gurgaon',\n",
       " '6-7 Yrs',\n",
       " 'Not disclosed']"
      ]
     },
     "execution_count": 231,
     "metadata": {},
     "output_type": "execute_result"
    }
   ],
   "source": [
    "exp[0:5]"
   ]
  },
  {
   "cell_type": "code",
   "execution_count": 232,
   "metadata": {},
   "outputs": [
    {
     "data": {
      "text/plain": [
       "['0-0 Yrs',\n",
       " '2,25,000 - 4,75,000 PA.',\n",
       " 'Delhi NCR, Ghaziabad, Gurgaon',\n",
       " '6-7 Yrs',\n",
       " 'Not disclosed',\n",
       " 'Chennai, Pune, Delhi NCR, Mumbai, Bengaluru, Hyderabad, Kolkata',\n",
       " '0-0 Yrs',\n",
       " '2,25,000 - 4,75,000 PA.',\n",
       " 'Faridabad, Delhi NCR, Greater Noida',\n",
       " '0-3 Yrs',\n",
       " '3,50,000 - 5,50,000 PA.',\n",
       " 'Delhi NCR',\n",
       " '1-5 Yrs',\n",
       " 'Not disclosed',\n",
       " 'Noida',\n",
       " '3-8 Yrs',\n",
       " 'Not disclosed',\n",
       " 'Noida',\n",
       " '3-6 Yrs',\n",
       " 'Not disclosed',\n",
       " 'Delhi',\n",
       " '4-8 Yrs',\n",
       " 'Not disclosed',\n",
       " 'Gurgaon Gurugram',\n",
       " '4-8 Yrs',\n",
       " 'Not disclosed',\n",
       " 'Gurgaon Gurugram',\n",
       " '1-5 Yrs',\n",
       " 'Not disclosed',\n",
       " 'Gurgaon Gurugram',\n",
       " '2-5 Yrs',\n",
       " '2,75,000 - 3,25,000 PA.',\n",
       " 'Delhi NCR(Jasola)',\n",
       " '0-3 Yrs',\n",
       " 'Not disclosed',\n",
       " 'Delhi NCR, Delhi',\n",
       " '2-6 Yrs',\n",
       " 'Not disclosed',\n",
       " 'Chennai, Pune, Delhi NCR, Mumbai, Bengaluru, Hyderabad, Kolkata',\n",
       " '1-3 Yrs',\n",
       " 'Not disclosed',\n",
       " 'Gurgaon',\n",
       " '3-5 Yrs',\n",
       " 'Not disclosed',\n",
       " 'Gurgaon',\n",
       " '1-3 Yrs',\n",
       " 'Not disclosed',\n",
       " 'Gurgaon',\n",
       " '1-5 Yrs',\n",
       " 'Not disclosed',\n",
       " 'Delhi',\n",
       " '2-6 Yrs',\n",
       " 'Not disclosed',\n",
       " 'Delhi',\n",
       " '2-6 Yrs',\n",
       " 'Not disclosed',\n",
       " 'Delhi',\n",
       " '0-0 Yrs',\n",
       " '2,25,000 - 4,75,000 PA.',\n",
       " 'Faridabad, Delhi NCR, Gurgaon']"
      ]
     },
     "execution_count": 232,
     "metadata": {},
     "output_type": "execute_result"
    }
   ],
   "source": [
    "exp"
   ]
  },
  {
   "cell_type": "code",
   "execution_count": 233,
   "metadata": {},
   "outputs": [],
   "source": [
    "exp=exp[0::3]"
   ]
  },
  {
   "cell_type": "code",
   "execution_count": 234,
   "metadata": {},
   "outputs": [
    {
     "data": {
      "text/plain": [
       "['0-0 Yrs',\n",
       " '6-7 Yrs',\n",
       " '0-0 Yrs',\n",
       " '0-3 Yrs',\n",
       " '1-5 Yrs',\n",
       " '3-8 Yrs',\n",
       " '3-6 Yrs',\n",
       " '4-8 Yrs',\n",
       " '4-8 Yrs',\n",
       " '1-5 Yrs',\n",
       " '2-5 Yrs',\n",
       " '0-3 Yrs',\n",
       " '2-6 Yrs',\n",
       " '1-3 Yrs',\n",
       " '3-5 Yrs',\n",
       " '1-3 Yrs',\n",
       " '1-5 Yrs',\n",
       " '2-6 Yrs',\n",
       " '2-6 Yrs',\n",
       " '0-0 Yrs']"
      ]
     },
     "execution_count": 234,
     "metadata": {},
     "output_type": "execute_result"
    }
   ],
   "source": [
    "exp"
   ]
  },
  {
   "cell_type": "code",
   "execution_count": 235,
   "metadata": {},
   "outputs": [],
   "source": [
    "#now we will save the results in a data frame"
   ]
  },
  {
   "cell_type": "code",
   "execution_count": 236,
   "metadata": {},
   "outputs": [],
   "source": [
    "import pandas as pd"
   ]
  },
  {
   "cell_type": "code",
   "execution_count": 237,
   "metadata": {},
   "outputs": [],
   "source": [
    "df=pd.DataFrame({})"
   ]
  },
  {
   "cell_type": "code",
   "execution_count": 238,
   "metadata": {},
   "outputs": [],
   "source": [
    "df['company name']=company[0:10]\n",
    "df['job title']=titles[0:10]\n",
    "df['Experience Required']=exp[0:10]\n",
    "df['Job Location']=location[0:10]"
   ]
  },
  {
   "cell_type": "code",
   "execution_count": 239,
   "metadata": {},
   "outputs": [
    {
     "data": {
      "text/html": [
       "<div>\n",
       "<style scoped>\n",
       "    .dataframe tbody tr th:only-of-type {\n",
       "        vertical-align: middle;\n",
       "    }\n",
       "\n",
       "    .dataframe tbody tr th {\n",
       "        vertical-align: top;\n",
       "    }\n",
       "\n",
       "    .dataframe thead th {\n",
       "        text-align: right;\n",
       "    }\n",
       "</style>\n",
       "<table border=\"1\" class=\"dataframe\">\n",
       "  <thead>\n",
       "    <tr style=\"text-align: right;\">\n",
       "      <th></th>\n",
       "      <th>company name</th>\n",
       "      <th>job title</th>\n",
       "      <th>Experience Required</th>\n",
       "      <th>Job Location</th>\n",
       "    </tr>\n",
       "  </thead>\n",
       "  <tbody>\n",
       "    <tr>\n",
       "      <th>0</th>\n",
       "      <td>GABA Consultancy services</td>\n",
       "      <td>Only Fresher / Data Scientist / Data Analyst /...</td>\n",
       "      <td>0-0 Yrs</td>\n",
       "      <td>Delhi NCR, Ghaziabad, Gurgaon</td>\n",
       "    </tr>\n",
       "    <tr>\n",
       "      <th>1</th>\n",
       "      <td>Ojas Innovative Technologies Private Limited</td>\n",
       "      <td>Data scientist opening</td>\n",
       "      <td>6-7 Yrs</td>\n",
       "      <td>Chennai, Pune, Delhi NCR, Mumbai, Bengaluru, H...</td>\n",
       "    </tr>\n",
       "    <tr>\n",
       "      <th>2</th>\n",
       "      <td>GABA Consultancy services</td>\n",
       "      <td>Only Fresher / Data Scientist / Data Analyst /...</td>\n",
       "      <td>0-0 Yrs</td>\n",
       "      <td>Faridabad, Delhi NCR, Greater Noida</td>\n",
       "    </tr>\n",
       "    <tr>\n",
       "      <th>3</th>\n",
       "      <td>Freelancer Anubhav Sharma</td>\n",
       "      <td>Data Analyst / Data Scientist | Delhi / Noida ...</td>\n",
       "      <td>0-3 Yrs</td>\n",
       "      <td>Delhi NCR</td>\n",
       "    </tr>\n",
       "    <tr>\n",
       "      <th>4</th>\n",
       "      <td>AlgoScale Technologies Private Limited</td>\n",
       "      <td>Data Scientist</td>\n",
       "      <td>1-5 Yrs</td>\n",
       "      <td>Noida</td>\n",
       "    </tr>\n",
       "    <tr>\n",
       "      <th>5</th>\n",
       "      <td>GLOBALLOGIC TECHNOLOGIES PRIVATE LIMITED</td>\n",
       "      <td>Data Scientist</td>\n",
       "      <td>3-8 Yrs</td>\n",
       "      <td>Noida</td>\n",
       "    </tr>\n",
       "    <tr>\n",
       "      <th>6</th>\n",
       "      <td>EchoIndia</td>\n",
       "      <td>Data Scientist/Analyst - Machine Learning/Deep...</td>\n",
       "      <td>3-6 Yrs</td>\n",
       "      <td>Delhi</td>\n",
       "    </tr>\n",
       "    <tr>\n",
       "      <th>7</th>\n",
       "      <td>Elixir Web Solutions</td>\n",
       "      <td>Data Scientist - NLP/ML/Python</td>\n",
       "      <td>4-8 Yrs</td>\n",
       "      <td>Gurgaon Gurugram</td>\n",
       "    </tr>\n",
       "    <tr>\n",
       "      <th>8</th>\n",
       "      <td>Elixir Web Solutions</td>\n",
       "      <td>Data Scientist - NLP/ML/Python</td>\n",
       "      <td>4-8 Yrs</td>\n",
       "      <td>Gurgaon Gurugram</td>\n",
       "    </tr>\n",
       "    <tr>\n",
       "      <th>9</th>\n",
       "      <td>CARS24</td>\n",
       "      <td>Data Scientist / Data Analyst</td>\n",
       "      <td>1-5 Yrs</td>\n",
       "      <td>Gurgaon Gurugram</td>\n",
       "    </tr>\n",
       "  </tbody>\n",
       "</table>\n",
       "</div>"
      ],
      "text/plain": [
       "                                   company name  \\\n",
       "0                     GABA Consultancy services   \n",
       "1  Ojas Innovative Technologies Private Limited   \n",
       "2                     GABA Consultancy services   \n",
       "3                     Freelancer Anubhav Sharma   \n",
       "4        AlgoScale Technologies Private Limited   \n",
       "5      GLOBALLOGIC TECHNOLOGIES PRIVATE LIMITED   \n",
       "6                                     EchoIndia   \n",
       "7                          Elixir Web Solutions   \n",
       "8                          Elixir Web Solutions   \n",
       "9                                        CARS24   \n",
       "\n",
       "                                           job title Experience Required  \\\n",
       "0  Only Fresher / Data Scientist / Data Analyst /...             0-0 Yrs   \n",
       "1                             Data scientist opening             6-7 Yrs   \n",
       "2  Only Fresher / Data Scientist / Data Analyst /...             0-0 Yrs   \n",
       "3  Data Analyst / Data Scientist | Delhi / Noida ...             0-3 Yrs   \n",
       "4                                     Data Scientist             1-5 Yrs   \n",
       "5                                     Data Scientist             3-8 Yrs   \n",
       "6  Data Scientist/Analyst - Machine Learning/Deep...             3-6 Yrs   \n",
       "7                     Data Scientist - NLP/ML/Python             4-8 Yrs   \n",
       "8                     Data Scientist - NLP/ML/Python             4-8 Yrs   \n",
       "9                      Data Scientist / Data Analyst             1-5 Yrs   \n",
       "\n",
       "                                        Job Location  \n",
       "0                      Delhi NCR, Ghaziabad, Gurgaon  \n",
       "1  Chennai, Pune, Delhi NCR, Mumbai, Bengaluru, H...  \n",
       "2                Faridabad, Delhi NCR, Greater Noida  \n",
       "3                                          Delhi NCR  \n",
       "4                                              Noida  \n",
       "5                                              Noida  \n",
       "6                                              Delhi  \n",
       "7                                   Gurgaon Gurugram  \n",
       "8                                   Gurgaon Gurugram  \n",
       "9                                   Gurgaon Gurugram  "
      ]
     },
     "execution_count": 239,
     "metadata": {},
     "output_type": "execute_result"
    }
   ],
   "source": [
    "df"
   ]
  },
  {
   "cell_type": "code",
   "execution_count": null,
   "metadata": {},
   "outputs": [],
   "source": []
  }
 ],
 "metadata": {
  "kernelspec": {
   "display_name": "Python 3",
   "language": "python",
   "name": "python3"
  },
  "language_info": {
   "codemirror_mode": {
    "name": "ipython",
    "version": 3
   },
   "file_extension": ".py",
   "mimetype": "text/x-python",
   "name": "python",
   "nbconvert_exporter": "python",
   "pygments_lexer": "ipython3",
   "version": "3.7.6"
  }
 },
 "nbformat": 4,
 "nbformat_minor": 4
}
