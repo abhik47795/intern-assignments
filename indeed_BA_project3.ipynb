{
 "cells": [
  {
   "cell_type": "code",
   "execution_count": 3,
   "metadata": {},
   "outputs": [],
   "source": [
    "import selenium\n",
    "from bs4 import BeautifulSoup\n",
    "import requests\n",
    "from selenium import webdriver\n",
    "from datetime import date\n",
    "from datetime import datetime\n",
    "import time"
   ]
  },
  {
   "cell_type": "code",
   "execution_count": 4,
   "metadata": {},
   "outputs": [],
   "source": [
    "driver=webdriver.Chrome(r\"E:\\DATA SCIENCE\\chromedriver.exe\")"
   ]
  },
  {
   "cell_type": "code",
   "execution_count": 5,
   "metadata": {},
   "outputs": [],
   "source": [
    "driver.get('https://in.indeed.com/jobs?q=Business+Analyst&l=Mumbai,+Maharashtra&radius=0')"
   ]
  },
  {
   "cell_type": "code",
   "execution_count": 6,
   "metadata": {},
   "outputs": [],
   "source": [
    "dt=[]\n",
    "time=[]\n",
    "titles=[]\n",
    "companies=[]\n",
    "locations=[]\n",
    "Hir=[]\n",
    "links =[]\n",
    "ratings=[]\n",
    "salaries = []\n",
    "descriptions=[]"
   ]
  },
  {
   "cell_type": "code",
   "execution_count": 7,
   "metadata": {},
   "outputs": [],
   "source": [
    "pages=[10,20,30,40,50,60,70,80,90,100,110,120,130,140,150,160,170,180,190]"
   ]
  },
  {
   "cell_type": "code",
   "execution_count": 8,
   "metadata": {},
   "outputs": [],
   "source": [
    "summary=[]"
   ]
  },
  {
   "cell_type": "code",
   "execution_count": 9,
   "metadata": {},
   "outputs": [],
   "source": [
    "for i in pages:\n",
    "    page = requests.get('https://in.indeed.com/jobs?q=Business+Analyst&l=Mumbai%2C+Maharashtra&radius=0&start={}'.format(i)).text\n",
    "    soup = BeautifulSoup(page, 'html.parser')\n",
    "    Summary = soup.find_all('div', class_='summary')\n",
    "    for i in Summary:\n",
    "        summary.append(i.text.strip())"
   ]
  },
  {
   "cell_type": "code",
   "execution_count": 10,
   "metadata": {},
   "outputs": [
    {
     "data": {
      "text/plain": [
       "275"
      ]
     },
     "execution_count": 10,
     "metadata": {},
     "output_type": "execute_result"
    }
   ],
   "source": [
    "len(summary)"
   ]
  },
  {
   "cell_type": "code",
   "execution_count": 11,
   "metadata": {},
   "outputs": [
    {
     "name": "stdout",
     "output_type": "stream",
     "text": [
      "Page: 2\n",
      "Page: 3\n",
      "Page: 4\n",
      "Page: 5\n",
      "Page: 6\n",
      "Page: 7\n",
      "Page: 8\n",
      "Page: 9\n",
      "Page: 10\n",
      "Page: 11\n",
      "Page: 12\n",
      "Page: 13\n",
      "Page: 14\n",
      "Page: 15\n",
      "Page: 16\n",
      "Page: 17\n",
      "Page: 18\n",
      "Page: 19\n",
      "Page: 20\n"
     ]
    }
   ],
   "source": [
    "for i in range(0,19):\n",
    "    \n",
    "    jobs = driver.find_elements_by_xpath('//div[contains(@class,\"clickcard\")]')\n",
    "    \n",
    "    for job in jobs:\n",
    "       \n",
    "        now=datetime.now()\n",
    "        time.append(now.strftime(\"%H:%M:%S\"))\n",
    "        today=datetime.today()\n",
    "        dt.append(today.strftime(\"%y-%m-%d\"))\n",
    "        try:\n",
    "            rating = job.find_element_by_xpath('.//span[@class=\"ratingsContent\"]').text\n",
    "        except:\n",
    "            rating = \"None\"\n",
    "        ratings.append(rating)\n",
    " \n",
    "        try:\n",
    "            salary = job.find_element_by_xpath('.//span[@class=\"salaryText\"]').text\n",
    "        except:\n",
    "            salary = \"None\"\n",
    "      \n",
    "        salaries.append(salary)\n",
    "        \n",
    "        try:\n",
    "            hir=job.find_element_by_xpath('.//td[@class=\"jobCardShelfItem urgentlyHiring\"]').text\n",
    "        except:\n",
    "            hir=\"none\"\n",
    "            \n",
    "        Hir.append(hir)\n",
    "        \n",
    "        try:\n",
    "            location = job.find_element_by_xpath('.//span[contains(@class,\"location\")]').text\n",
    "        except:\n",
    "            location = \"None\"\n",
    "        \n",
    "        locations.append(location)\n",
    "        \n",
    "        try:\n",
    "            title  = job.find_element_by_xpath('.//h2[@class=\"title\"]//a').text\n",
    "        except:\n",
    "            title = job.find_element_by_xpath('.//h2[@class=\"title\"]//a').get_attribute(name=\"title\")\n",
    "        titles.append(title)\n",
    "        links.append(job.find_element_by_xpath('.//h2[@class=\"title\"]//a').get_attribute(name=\"href\"))\n",
    "        companies.append(job.find_element_by_xpath('.//span[@class=\"company\"]').text)\n",
    "        \n",
    "    \n",
    "    try:\n",
    "        next_page = driver.find_element_by_xpath('//a[@aria-label={}]//span[@class=\"pn\"]'.format(i+2))\n",
    "        next_page.click()\n",
    "\n",
    "    except:\n",
    "        next_page = driver.find_element_by_xpath('//a[@aria-label=\"Next\"]//span[@class=\"np\"]')\n",
    "        next_page.click()\n",
    "        \n",
    "    \n",
    "    print(\"Page: {}\".format(str(i+2)))"
   ]
  },
  {
   "cell_type": "code",
   "execution_count": 21,
   "metadata": {},
   "outputs": [
    {
     "data": {
      "text/plain": [
       "275"
      ]
     },
     "execution_count": 21,
     "metadata": {},
     "output_type": "execute_result"
    }
   ],
   "source": [
    "len(titles)"
   ]
  },
  {
   "cell_type": "code",
   "execution_count": 22,
   "metadata": {},
   "outputs": [
    {
     "data": {
      "text/plain": [
       "275"
      ]
     },
     "execution_count": 22,
     "metadata": {},
     "output_type": "execute_result"
    }
   ],
   "source": [
    "len(companies)"
   ]
  },
  {
   "cell_type": "code",
   "execution_count": 23,
   "metadata": {},
   "outputs": [
    {
     "data": {
      "text/plain": [
       "275"
      ]
     },
     "execution_count": 23,
     "metadata": {},
     "output_type": "execute_result"
    }
   ],
   "source": [
    "len(ratings)"
   ]
  },
  {
   "cell_type": "code",
   "execution_count": 24,
   "metadata": {},
   "outputs": [
    {
     "data": {
      "text/plain": [
       "275"
      ]
     },
     "execution_count": 24,
     "metadata": {},
     "output_type": "execute_result"
    }
   ],
   "source": [
    "len(Hir)"
   ]
  },
  {
   "cell_type": "code",
   "execution_count": 25,
   "metadata": {},
   "outputs": [
    {
     "data": {
      "text/plain": [
       "275"
      ]
     },
     "execution_count": 25,
     "metadata": {},
     "output_type": "execute_result"
    }
   ],
   "source": [
    "len(dt)"
   ]
  },
  {
   "cell_type": "code",
   "execution_count": 26,
   "metadata": {},
   "outputs": [
    {
     "data": {
      "text/plain": [
       "275"
      ]
     },
     "execution_count": 26,
     "metadata": {},
     "output_type": "execute_result"
    }
   ],
   "source": [
    "len(time)"
   ]
  },
  {
   "cell_type": "code",
   "execution_count": 27,
   "metadata": {},
   "outputs": [
    {
     "data": {
      "text/plain": [
       "275"
      ]
     },
     "execution_count": 27,
     "metadata": {},
     "output_type": "execute_result"
    }
   ],
   "source": [
    "len(links)"
   ]
  },
  {
   "cell_type": "code",
   "execution_count": 28,
   "metadata": {},
   "outputs": [
    {
     "data": {
      "text/plain": [
       "275"
      ]
     },
     "execution_count": 28,
     "metadata": {},
     "output_type": "execute_result"
    }
   ],
   "source": [
    "len(locations)"
   ]
  },
  {
   "cell_type": "code",
   "execution_count": 29,
   "metadata": {},
   "outputs": [
    {
     "data": {
      "text/plain": [
       "275"
      ]
     },
     "execution_count": 29,
     "metadata": {},
     "output_type": "execute_result"
    }
   ],
   "source": [
    "len(salaries)"
   ]
  },
  {
   "cell_type": "code",
   "execution_count": 30,
   "metadata": {},
   "outputs": [],
   "source": [
    "import pandas as pd"
   ]
  },
  {
   "cell_type": "code",
   "execution_count": 31,
   "metadata": {},
   "outputs": [],
   "source": [
    "df=pd.DataFrame({})"
   ]
  },
  {
   "cell_type": "code",
   "execution_count": 33,
   "metadata": {},
   "outputs": [],
   "source": [
    "df['Titles']=titles\n",
    "df['Companies']=companies\n",
    "df['Locations']=locations\n",
    "df['Links']=links\n",
    "df['Ratings']=ratings\n",
    "df['Salaries']=salaries\n",
    "df['Descriptions']=summary\n",
    "df['Urgent Hiring']=Hir\n",
    "df[\"time\"]=time\n",
    "df[\"date\"]=dt"
   ]
  },
  {
   "cell_type": "code",
   "execution_count": 34,
   "metadata": {},
   "outputs": [
    {
     "data": {
      "text/html": [
       "<div>\n",
       "<style scoped>\n",
       "    .dataframe tbody tr th:only-of-type {\n",
       "        vertical-align: middle;\n",
       "    }\n",
       "\n",
       "    .dataframe tbody tr th {\n",
       "        vertical-align: top;\n",
       "    }\n",
       "\n",
       "    .dataframe thead th {\n",
       "        text-align: right;\n",
       "    }\n",
       "</style>\n",
       "<table border=\"1\" class=\"dataframe\">\n",
       "  <thead>\n",
       "    <tr style=\"text-align: right;\">\n",
       "      <th></th>\n",
       "      <th>Titles</th>\n",
       "      <th>Companies</th>\n",
       "      <th>Locations</th>\n",
       "      <th>Links</th>\n",
       "      <th>Ratings</th>\n",
       "      <th>Salaries</th>\n",
       "      <th>Descriptions</th>\n",
       "      <th>Urgent Hiring</th>\n",
       "      <th>time</th>\n",
       "      <th>date</th>\n",
       "    </tr>\n",
       "  </thead>\n",
       "  <tbody>\n",
       "    <tr>\n",
       "      <th>0</th>\n",
       "      <td>Business Analyst</td>\n",
       "      <td>Mirum Digital Pvt. Ltd.</td>\n",
       "      <td>Mumbai, Maharashtra</td>\n",
       "      <td>https://in.indeed.com/rc/clk?jk=7fedabcef27ecf...</td>\n",
       "      <td>None</td>\n",
       "      <td>₹7,00,000 a year</td>\n",
       "      <td>Effective project management and multi-assignm...</td>\n",
       "      <td>none</td>\n",
       "      <td>20:50:31</td>\n",
       "      <td>21-01-11</td>\n",
       "    </tr>\n",
       "    <tr>\n",
       "      <th>1</th>\n",
       "      <td>Business Analyst - Strategy Office</td>\n",
       "      <td>Avanse Financial Services Private Limited</td>\n",
       "      <td>None</td>\n",
       "      <td>https://in.indeed.com/pagead/clk?mo=r&amp;ad=-6NYl...</td>\n",
       "      <td>None</td>\n",
       "      <td>None</td>\n",
       "      <td>As a business analyst, you will be a leading c...</td>\n",
       "      <td>none</td>\n",
       "      <td>20:50:31</td>\n",
       "      <td>21-01-11</td>\n",
       "    </tr>\n",
       "    <tr>\n",
       "      <th>2</th>\n",
       "      <td>Analyst - Business Consulting Risk - TMT - Ris...</td>\n",
       "      <td>Ernst &amp; Young</td>\n",
       "      <td>Mumbai, Maharashtra</td>\n",
       "      <td>https://in.indeed.com/rc/clk?jk=8d97437977fb02...</td>\n",
       "      <td>4.0</td>\n",
       "      <td>None</td>\n",
       "      <td>Business analyst: 2 years (Preferred).\\nTransl...</td>\n",
       "      <td>none</td>\n",
       "      <td>20:50:31</td>\n",
       "      <td>21-01-11</td>\n",
       "    </tr>\n",
       "    <tr>\n",
       "      <th>3</th>\n",
       "      <td>Newgen Software Technologies - Business Analyst</td>\n",
       "      <td>Newgen Software Technologies</td>\n",
       "      <td>Mumbai, Maharashtra</td>\n",
       "      <td>https://in.indeed.com/company/Newgen-Software-...</td>\n",
       "      <td>3.5</td>\n",
       "      <td>None</td>\n",
       "      <td>Understanding the use cases and process detail...</td>\n",
       "      <td>none</td>\n",
       "      <td>20:50:32</td>\n",
       "      <td>21-01-11</td>\n",
       "    </tr>\n",
       "    <tr>\n",
       "      <th>4</th>\n",
       "      <td>Business Analyst</td>\n",
       "      <td>Datamatics</td>\n",
       "      <td>Mumbai, Maharashtra</td>\n",
       "      <td>https://in.indeed.com/rc/clk?jk=2dd3f14eee66e6...</td>\n",
       "      <td>3.5</td>\n",
       "      <td>None</td>\n",
       "      <td>This structure encourages legal teams and busi...</td>\n",
       "      <td>none</td>\n",
       "      <td>20:50:32</td>\n",
       "      <td>21-01-11</td>\n",
       "    </tr>\n",
       "    <tr>\n",
       "      <th>...</th>\n",
       "      <td>...</td>\n",
       "      <td>...</td>\n",
       "      <td>...</td>\n",
       "      <td>...</td>\n",
       "      <td>...</td>\n",
       "      <td>...</td>\n",
       "      <td>...</td>\n",
       "      <td>...</td>\n",
       "      <td>...</td>\n",
       "      <td>...</td>\n",
       "    </tr>\n",
       "    <tr>\n",
       "      <th>270</th>\n",
       "      <td>Business Analyst I</td>\n",
       "      <td>JPMorgan Chase Bank, N.A.</td>\n",
       "      <td>Mumbai, Maharashtra</td>\n",
       "      <td>https://in.indeed.com/rc/clk?jk=c72f8910eece0d...</td>\n",
       "      <td>3.9</td>\n",
       "      <td>None</td>\n",
       "      <td>5-10yrs Business Analyst /Data Analyst with ex...</td>\n",
       "      <td>none</td>\n",
       "      <td>20:51:19</td>\n",
       "      <td>21-01-11</td>\n",
       "    </tr>\n",
       "    <tr>\n",
       "      <th>271</th>\n",
       "      <td>Business Analyst</td>\n",
       "      <td>Morningstar</td>\n",
       "      <td>Mumbai, Maharashtra</td>\n",
       "      <td>https://in.indeed.com/rc/clk?jk=24dabee9aad56b...</td>\n",
       "      <td>3.9</td>\n",
       "      <td>None</td>\n",
       "      <td>Every day FedEx delivers for its customers wit...</td>\n",
       "      <td>none</td>\n",
       "      <td>20:51:19</td>\n",
       "      <td>21-01-11</td>\n",
       "    </tr>\n",
       "    <tr>\n",
       "      <th>272</th>\n",
       "      <td>Business Analyst - Speech Analytics</td>\n",
       "      <td>Sitel</td>\n",
       "      <td>Mumbai, Maharashtra</td>\n",
       "      <td>https://in.indeed.com/rc/clk?jk=dbf3cd77cac827...</td>\n",
       "      <td>3.5</td>\n",
       "      <td>None</td>\n",
       "      <td>Experienced in understanding the business need...</td>\n",
       "      <td>none</td>\n",
       "      <td>20:51:19</td>\n",
       "      <td>21-01-11</td>\n",
       "    </tr>\n",
       "    <tr>\n",
       "      <th>273</th>\n",
       "      <td>Business Analyst | 2 - 5 years | Thane</td>\n",
       "      <td>Applied Cloud Computing Pvt. Ltd.</td>\n",
       "      <td>Mumbai, Maharashtra</td>\n",
       "      <td>https://in.indeed.com/company/Applied-Cloud-Co...</td>\n",
       "      <td>None</td>\n",
       "      <td>₹2,50,000 a year</td>\n",
       "      <td>Must have Skills : Individual Life Insurance, ...</td>\n",
       "      <td>Urgently hiring</td>\n",
       "      <td>20:51:20</td>\n",
       "      <td>21-01-11</td>\n",
       "    </tr>\n",
       "    <tr>\n",
       "      <th>274</th>\n",
       "      <td>Business Data Analyst / Business Systems Analyst</td>\n",
       "      <td>JPMorgan Chase Bank, N.A.</td>\n",
       "      <td>Mumbai, Maharashtra</td>\n",
       "      <td>https://in.indeed.com/rc/clk?jk=de3b5c23bb95f4...</td>\n",
       "      <td>3.9</td>\n",
       "      <td>None</td>\n",
       "      <td>Must have Skills : Individual Life Insurance, ...</td>\n",
       "      <td>none</td>\n",
       "      <td>20:51:20</td>\n",
       "      <td>21-01-11</td>\n",
       "    </tr>\n",
       "  </tbody>\n",
       "</table>\n",
       "<p>275 rows × 10 columns</p>\n",
       "</div>"
      ],
      "text/plain": [
       "                                                Titles  \\\n",
       "0                                     Business Analyst   \n",
       "1                   Business Analyst - Strategy Office   \n",
       "2    Analyst - Business Consulting Risk - TMT - Ris...   \n",
       "3      Newgen Software Technologies - Business Analyst   \n",
       "4                                     Business Analyst   \n",
       "..                                                 ...   \n",
       "270                                 Business Analyst I   \n",
       "271                                   Business Analyst   \n",
       "272                Business Analyst - Speech Analytics   \n",
       "273             Business Analyst | 2 - 5 years | Thane   \n",
       "274   Business Data Analyst / Business Systems Analyst   \n",
       "\n",
       "                                     Companies            Locations  \\\n",
       "0                      Mirum Digital Pvt. Ltd.  Mumbai, Maharashtra   \n",
       "1    Avanse Financial Services Private Limited                 None   \n",
       "2                                Ernst & Young  Mumbai, Maharashtra   \n",
       "3                 Newgen Software Technologies  Mumbai, Maharashtra   \n",
       "4                                   Datamatics  Mumbai, Maharashtra   \n",
       "..                                         ...                  ...   \n",
       "270                  JPMorgan Chase Bank, N.A.  Mumbai, Maharashtra   \n",
       "271                                Morningstar  Mumbai, Maharashtra   \n",
       "272                                      Sitel  Mumbai, Maharashtra   \n",
       "273          Applied Cloud Computing Pvt. Ltd.  Mumbai, Maharashtra   \n",
       "274                  JPMorgan Chase Bank, N.A.  Mumbai, Maharashtra   \n",
       "\n",
       "                                                 Links Ratings  \\\n",
       "0    https://in.indeed.com/rc/clk?jk=7fedabcef27ecf...    None   \n",
       "1    https://in.indeed.com/pagead/clk?mo=r&ad=-6NYl...    None   \n",
       "2    https://in.indeed.com/rc/clk?jk=8d97437977fb02...     4.0   \n",
       "3    https://in.indeed.com/company/Newgen-Software-...     3.5   \n",
       "4    https://in.indeed.com/rc/clk?jk=2dd3f14eee66e6...     3.5   \n",
       "..                                                 ...     ...   \n",
       "270  https://in.indeed.com/rc/clk?jk=c72f8910eece0d...     3.9   \n",
       "271  https://in.indeed.com/rc/clk?jk=24dabee9aad56b...     3.9   \n",
       "272  https://in.indeed.com/rc/clk?jk=dbf3cd77cac827...     3.5   \n",
       "273  https://in.indeed.com/company/Applied-Cloud-Co...    None   \n",
       "274  https://in.indeed.com/rc/clk?jk=de3b5c23bb95f4...     3.9   \n",
       "\n",
       "             Salaries                                       Descriptions  \\\n",
       "0    ₹7,00,000 a year  Effective project management and multi-assignm...   \n",
       "1                None  As a business analyst, you will be a leading c...   \n",
       "2                None  Business analyst: 2 years (Preferred).\\nTransl...   \n",
       "3                None  Understanding the use cases and process detail...   \n",
       "4                None  This structure encourages legal teams and busi...   \n",
       "..                ...                                                ...   \n",
       "270              None  5-10yrs Business Analyst /Data Analyst with ex...   \n",
       "271              None  Every day FedEx delivers for its customers wit...   \n",
       "272              None  Experienced in understanding the business need...   \n",
       "273  ₹2,50,000 a year  Must have Skills : Individual Life Insurance, ...   \n",
       "274              None  Must have Skills : Individual Life Insurance, ...   \n",
       "\n",
       "       Urgent Hiring      time      date  \n",
       "0               none  20:50:31  21-01-11  \n",
       "1               none  20:50:31  21-01-11  \n",
       "2               none  20:50:31  21-01-11  \n",
       "3               none  20:50:32  21-01-11  \n",
       "4               none  20:50:32  21-01-11  \n",
       "..               ...       ...       ...  \n",
       "270             none  20:51:19  21-01-11  \n",
       "271             none  20:51:19  21-01-11  \n",
       "272             none  20:51:19  21-01-11  \n",
       "273  Urgently hiring  20:51:20  21-01-11  \n",
       "274             none  20:51:20  21-01-11  \n",
       "\n",
       "[275 rows x 10 columns]"
      ]
     },
     "execution_count": 34,
     "metadata": {},
     "output_type": "execute_result"
    }
   ],
   "source": [
    "df"
   ]
  },
  {
   "cell_type": "code",
   "execution_count": 35,
   "metadata": {},
   "outputs": [],
   "source": [
    "df.to_csv('indeed_BA_project3.csv')"
   ]
  },
  {
   "cell_type": "code",
   "execution_count": null,
   "metadata": {},
   "outputs": [],
   "source": []
  }
 ],
 "metadata": {
  "kernelspec": {
   "display_name": "Python 3",
   "language": "python",
   "name": "python3"
  },
  "language_info": {
   "codemirror_mode": {
    "name": "ipython",
    "version": 3
   },
   "file_extension": ".py",
   "mimetype": "text/x-python",
   "name": "python",
   "nbconvert_exporter": "python",
   "pygments_lexer": "ipython3",
   "version": "3.7.6"
  }
 },
 "nbformat": 4,
 "nbformat_minor": 4
}
