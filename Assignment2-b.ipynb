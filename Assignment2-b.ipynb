{
 "cells": [
  {
   "cell_type": "markdown",
   "metadata": {},
   "source": [
    "# Write a python program to scrape data for “Data Scientist” Job position in “Bangalore” location. You have to scrape the job-title, job-location, company_name, full job-description. You have to scrape first 10 jobs data"
   ]
  },
  {
   "cell_type": "code",
   "execution_count": 53,
   "metadata": {},
   "outputs": [],
   "source": [
    "#importing all useful libraries"
   ]
  },
  {
   "cell_type": "code",
   "execution_count": 54,
   "metadata": {},
   "outputs": [],
   "source": [
    "import selenium\n",
    "from selenium import webdriver"
   ]
  },
  {
   "cell_type": "code",
   "execution_count": 55,
   "metadata": {},
   "outputs": [],
   "source": [
    "#getting driver from the required location"
   ]
  },
  {
   "cell_type": "code",
   "execution_count": 56,
   "metadata": {},
   "outputs": [],
   "source": [
    "driver=webdriver.Chrome(r'D:\\G\\DATA SCIENCE\\chromedriver.exe')"
   ]
  },
  {
   "cell_type": "code",
   "execution_count": 57,
   "metadata": {},
   "outputs": [],
   "source": [
    "url='https://www.naukri.com/data-scientist-jobs-in-bangalore?k=data%20scientist&l=bangalore'"
   ]
  },
  {
   "cell_type": "code",
   "execution_count": 58,
   "metadata": {},
   "outputs": [],
   "source": [
    "driver.get(url)"
   ]
  },
  {
   "cell_type": "code",
   "execution_count": 59,
   "metadata": {},
   "outputs": [],
   "source": [
    "title=[]\n",
    "name=[]\n",
    "location=[]"
   ]
  },
  {
   "cell_type": "code",
   "execution_count": 60,
   "metadata": {},
   "outputs": [],
   "source": [
    "titles=driver.find_elements_by_xpath(\"//a[@class='title fw500 ellipsis']\")"
   ]
  },
  {
   "cell_type": "code",
   "execution_count": 61,
   "metadata": {},
   "outputs": [
    {
     "data": {
      "text/plain": [
       "[<selenium.webdriver.remote.webelement.WebElement (session=\"133fdd1f6754af859bac15429055bc4b\", element=\"1fe61a0b-03f6-4b82-940b-8f7a7d4d1d99\")>,\n",
       " <selenium.webdriver.remote.webelement.WebElement (session=\"133fdd1f6754af859bac15429055bc4b\", element=\"6104d84f-b509-45b4-af00-fc17b5e80f99\")>,\n",
       " <selenium.webdriver.remote.webelement.WebElement (session=\"133fdd1f6754af859bac15429055bc4b\", element=\"75dead72-4a5b-4731-b6c7-63202d7d883f\")>]"
      ]
     },
     "execution_count": 61,
     "metadata": {},
     "output_type": "execute_result"
    }
   ],
   "source": [
    "titles[0:3]"
   ]
  },
  {
   "cell_type": "code",
   "execution_count": 62,
   "metadata": {},
   "outputs": [],
   "source": [
    "for i in titles:\n",
    "    title.append(i.text)"
   ]
  },
  {
   "cell_type": "code",
   "execution_count": 63,
   "metadata": {},
   "outputs": [
    {
     "data": {
      "text/plain": [
       "['Immediate opening For Data Scientist/Data Analyst',\n",
       " 'Senior Data Scientist',\n",
       " 'Data Scientist- Computer Vision & Image Processing',\n",
       " 'Senior Data Scientist- Bangalore/ Chennai',\n",
       " 'Senior Data Scientist',\n",
       " 'Sr. Data Scientist',\n",
       " 'AI Resident - Data Scientist',\n",
       " 'Data scientist',\n",
       " 'Lead Data Scientist',\n",
       " 'Senior Data Scientist For Bangalore']"
      ]
     },
     "execution_count": 63,
     "metadata": {},
     "output_type": "execute_result"
    }
   ],
   "source": [
    "title=title[0:10]\n",
    "title"
   ]
  },
  {
   "cell_type": "code",
   "execution_count": 64,
   "metadata": {},
   "outputs": [],
   "source": [
    "loc=driver.find_elements_by_xpath(\"//li[@class='fleft grey-text br2 placeHolderLi location']\")"
   ]
  },
  {
   "cell_type": "code",
   "execution_count": 65,
   "metadata": {},
   "outputs": [
    {
     "data": {
      "text/plain": [
       "[<selenium.webdriver.remote.webelement.WebElement (session=\"133fdd1f6754af859bac15429055bc4b\", element=\"e9dadb62-51b9-40fb-b895-9a27bf32d4a6\")>,\n",
       " <selenium.webdriver.remote.webelement.WebElement (session=\"133fdd1f6754af859bac15429055bc4b\", element=\"5e3742d0-6b1a-4921-98d4-b3209ce5080e\")>,\n",
       " <selenium.webdriver.remote.webelement.WebElement (session=\"133fdd1f6754af859bac15429055bc4b\", element=\"745cf325-da45-487b-9390-23f6fd3486a8\")>]"
      ]
     },
     "execution_count": 65,
     "metadata": {},
     "output_type": "execute_result"
    }
   ],
   "source": [
    "loc[0:3]"
   ]
  },
  {
   "cell_type": "code",
   "execution_count": 66,
   "metadata": {},
   "outputs": [],
   "source": [
    "for i in loc:\n",
    "    location.append(i.text)"
   ]
  },
  {
   "cell_type": "code",
   "execution_count": 67,
   "metadata": {},
   "outputs": [
    {
     "data": {
      "text/plain": [
       "['Chennai, Pune, Bengaluru, Hyderabad',\n",
       " 'Bengaluru',\n",
       " 'Bengaluru',\n",
       " 'Chennai, Bengaluru',\n",
       " 'Bengaluru',\n",
       " 'Bengaluru',\n",
       " 'Bengaluru',\n",
       " 'Bengaluru',\n",
       " 'Chennai, Mumbai, Bengaluru, Hyderabad',\n",
       " 'Bengaluru(1st Stage Indira Nagar +1)']"
      ]
     },
     "execution_count": 67,
     "metadata": {},
     "output_type": "execute_result"
    }
   ],
   "source": [
    "location=location[0:10]\n",
    "location"
   ]
  },
  {
   "cell_type": "code",
   "execution_count": 68,
   "metadata": {},
   "outputs": [],
   "source": [
    "company=driver.find_elements_by_xpath(\"//a[@class='subTitle ellipsis fleft']\")"
   ]
  },
  {
   "cell_type": "code",
   "execution_count": 69,
   "metadata": {},
   "outputs": [
    {
     "data": {
      "text/plain": [
       "[<selenium.webdriver.remote.webelement.WebElement (session=\"133fdd1f6754af859bac15429055bc4b\", element=\"53f25b21-fcbb-4900-8303-d8bbc94ebfd5\")>,\n",
       " <selenium.webdriver.remote.webelement.WebElement (session=\"133fdd1f6754af859bac15429055bc4b\", element=\"860e336b-c615-4dc5-bea9-9af2d8798d6e\")>,\n",
       " <selenium.webdriver.remote.webelement.WebElement (session=\"133fdd1f6754af859bac15429055bc4b\", element=\"c6dd256f-335c-4f69-a736-760e5dbfa586\")>,\n",
       " <selenium.webdriver.remote.webelement.WebElement (session=\"133fdd1f6754af859bac15429055bc4b\", element=\"4877c7df-c7d3-4882-97ac-a6b049cedb66\")>]"
      ]
     },
     "execution_count": 69,
     "metadata": {},
     "output_type": "execute_result"
    }
   ],
   "source": [
    "company[0:4]"
   ]
  },
  {
   "cell_type": "code",
   "execution_count": 70,
   "metadata": {},
   "outputs": [],
   "source": [
    "for i in company:\n",
    "    name.append(i.text)"
   ]
  },
  {
   "cell_type": "code",
   "execution_count": 71,
   "metadata": {},
   "outputs": [],
   "source": [
    "name=name[0:10]"
   ]
  },
  {
   "cell_type": "code",
   "execution_count": 72,
   "metadata": {},
   "outputs": [
    {
     "data": {
      "text/plain": [
       "['CAIA-Center For Artificial Intelligence & Advanced Analytics',\n",
       " 'Flipkart',\n",
       " '24/7 Customer',\n",
       " 'RANDSTAD INDIA PVT LTD',\n",
       " 'ORMAE LLP',\n",
       " 'NetApp',\n",
       " 'Shell India Markets Private Limited',\n",
       " 'IBM India Pvt. Limited',\n",
       " 'Leading Data Science Firm',\n",
       " 'Kinara Capital']"
      ]
     },
     "execution_count": 72,
     "metadata": {},
     "output_type": "execute_result"
    }
   ],
   "source": [
    "name"
   ]
  },
  {
   "cell_type": "code",
   "execution_count": 73,
   "metadata": {},
   "outputs": [],
   "source": [
    "#desc=[]\n",
    "#des=driver.find_elements_by_xpath(\"//section[@class='job=desc']\")"
   ]
  },
  {
   "cell_type": "code",
   "execution_count": 74,
   "metadata": {},
   "outputs": [],
   "source": [
    "#des"
   ]
  },
  {
   "cell_type": "code",
   "execution_count": 75,
   "metadata": {},
   "outputs": [
    {
     "data": {
      "text/plain": [
       "<selenium.webdriver.remote.webelement.WebElement (session=\"133fdd1f6754af859bac15429055bc4b\", element=\"1fe61a0b-03f6-4b82-940b-8f7a7d4d1d99\")>"
      ]
     },
     "execution_count": 75,
     "metadata": {},
     "output_type": "execute_result"
    }
   ],
   "source": [
    "#elm=driver.find_element_by_xpath(\"//a[@class='title fw500 ellipsis']\")\n",
    "#elm"
   ]
  },
  {
   "cell_type": "code",
   "execution_count": 76,
   "metadata": {},
   "outputs": [
    {
     "data": {
      "text/plain": [
       "[]"
      ]
     },
     "execution_count": 76,
     "metadata": {},
     "output_type": "execute_result"
    }
   ],
   "source": [
    "#url_next_page=elm.get_attribute(\"href\")\n",
    "#driver.get(url_next_page)\n",
    "#desc=[]\n",
    "#des=driver.find_elements_by_xpath(\"//section[@class='job=desc']\")\n",
    "#des"
   ]
  },
  {
   "cell_type": "code",
   "execution_count": 77,
   "metadata": {},
   "outputs": [],
   "source": [
    "import pandas as pd"
   ]
  },
  {
   "cell_type": "code",
   "execution_count": 78,
   "metadata": {},
   "outputs": [],
   "source": [
    "df=pd.DataFrame({})"
   ]
  },
  {
   "cell_type": "code",
   "execution_count": 79,
   "metadata": {},
   "outputs": [
    {
     "data": {
      "text/html": [
       "<div>\n",
       "<style scoped>\n",
       "    .dataframe tbody tr th:only-of-type {\n",
       "        vertical-align: middle;\n",
       "    }\n",
       "\n",
       "    .dataframe tbody tr th {\n",
       "        vertical-align: top;\n",
       "    }\n",
       "\n",
       "    .dataframe thead th {\n",
       "        text-align: right;\n",
       "    }\n",
       "</style>\n",
       "<table border=\"1\" class=\"dataframe\">\n",
       "  <thead>\n",
       "    <tr style=\"text-align: right;\">\n",
       "      <th></th>\n",
       "      <th>Company Name</th>\n",
       "      <th>Title</th>\n",
       "      <th>Location</th>\n",
       "    </tr>\n",
       "  </thead>\n",
       "  <tbody>\n",
       "    <tr>\n",
       "      <th>0</th>\n",
       "      <td>CAIA-Center For Artificial Intelligence &amp; Adva...</td>\n",
       "      <td>Immediate opening For Data Scientist/Data Analyst</td>\n",
       "      <td>Chennai, Pune, Bengaluru, Hyderabad</td>\n",
       "    </tr>\n",
       "    <tr>\n",
       "      <th>1</th>\n",
       "      <td>Flipkart</td>\n",
       "      <td>Senior Data Scientist</td>\n",
       "      <td>Bengaluru</td>\n",
       "    </tr>\n",
       "    <tr>\n",
       "      <th>2</th>\n",
       "      <td>24/7 Customer</td>\n",
       "      <td>Data Scientist- Computer Vision &amp; Image Proces...</td>\n",
       "      <td>Bengaluru</td>\n",
       "    </tr>\n",
       "    <tr>\n",
       "      <th>3</th>\n",
       "      <td>RANDSTAD INDIA PVT LTD</td>\n",
       "      <td>Senior Data Scientist- Bangalore/ Chennai</td>\n",
       "      <td>Chennai, Bengaluru</td>\n",
       "    </tr>\n",
       "    <tr>\n",
       "      <th>4</th>\n",
       "      <td>ORMAE LLP</td>\n",
       "      <td>Senior Data Scientist</td>\n",
       "      <td>Bengaluru</td>\n",
       "    </tr>\n",
       "    <tr>\n",
       "      <th>5</th>\n",
       "      <td>NetApp</td>\n",
       "      <td>Sr. Data Scientist</td>\n",
       "      <td>Bengaluru</td>\n",
       "    </tr>\n",
       "    <tr>\n",
       "      <th>6</th>\n",
       "      <td>Shell India Markets Private Limited</td>\n",
       "      <td>AI Resident - Data Scientist</td>\n",
       "      <td>Bengaluru</td>\n",
       "    </tr>\n",
       "    <tr>\n",
       "      <th>7</th>\n",
       "      <td>IBM India Pvt. Limited</td>\n",
       "      <td>Data scientist</td>\n",
       "      <td>Bengaluru</td>\n",
       "    </tr>\n",
       "    <tr>\n",
       "      <th>8</th>\n",
       "      <td>Leading Data Science Firm</td>\n",
       "      <td>Lead Data Scientist</td>\n",
       "      <td>Chennai, Mumbai, Bengaluru, Hyderabad</td>\n",
       "    </tr>\n",
       "    <tr>\n",
       "      <th>9</th>\n",
       "      <td>Kinara Capital</td>\n",
       "      <td>Senior Data Scientist For Bangalore</td>\n",
       "      <td>Bengaluru(1st Stage Indira Nagar +1)</td>\n",
       "    </tr>\n",
       "  </tbody>\n",
       "</table>\n",
       "</div>"
      ],
      "text/plain": [
       "                                        Company Name  \\\n",
       "0  CAIA-Center For Artificial Intelligence & Adva...   \n",
       "1                                           Flipkart   \n",
       "2                                      24/7 Customer   \n",
       "3                             RANDSTAD INDIA PVT LTD   \n",
       "4                                          ORMAE LLP   \n",
       "5                                             NetApp   \n",
       "6                Shell India Markets Private Limited   \n",
       "7                             IBM India Pvt. Limited   \n",
       "8                          Leading Data Science Firm   \n",
       "9                                     Kinara Capital   \n",
       "\n",
       "                                               Title  \\\n",
       "0  Immediate opening For Data Scientist/Data Analyst   \n",
       "1                              Senior Data Scientist   \n",
       "2  Data Scientist- Computer Vision & Image Proces...   \n",
       "3          Senior Data Scientist- Bangalore/ Chennai   \n",
       "4                              Senior Data Scientist   \n",
       "5                                 Sr. Data Scientist   \n",
       "6                       AI Resident - Data Scientist   \n",
       "7                                     Data scientist   \n",
       "8                                Lead Data Scientist   \n",
       "9                Senior Data Scientist For Bangalore   \n",
       "\n",
       "                                Location  \n",
       "0    Chennai, Pune, Bengaluru, Hyderabad  \n",
       "1                              Bengaluru  \n",
       "2                              Bengaluru  \n",
       "3                     Chennai, Bengaluru  \n",
       "4                              Bengaluru  \n",
       "5                              Bengaluru  \n",
       "6                              Bengaluru  \n",
       "7                              Bengaluru  \n",
       "8  Chennai, Mumbai, Bengaluru, Hyderabad  \n",
       "9   Bengaluru(1st Stage Indira Nagar +1)  "
      ]
     },
     "execution_count": 79,
     "metadata": {},
     "output_type": "execute_result"
    }
   ],
   "source": [
    "df['Company Name']=name\n",
    "df['Title']=title\n",
    "df['Location']=location\n",
    "df"
   ]
  },
  {
   "cell_type": "code",
   "execution_count": null,
   "metadata": {},
   "outputs": [],
   "source": []
  }
 ],
 "metadata": {
  "kernelspec": {
   "display_name": "Python 3",
   "language": "python",
   "name": "python3"
  },
  "language_info": {
   "codemirror_mode": {
    "name": "ipython",
    "version": 3
   },
   "file_extension": ".py",
   "mimetype": "text/x-python",
   "name": "python",
   "nbconvert_exporter": "python",
   "pygments_lexer": "ipython3",
   "version": "3.7.6"
  }
 },
 "nbformat": 4,
 "nbformat_minor": 4
}
