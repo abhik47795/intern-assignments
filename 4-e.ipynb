{
 "cells": [
  {
   "cell_type": "raw",
   "metadata": {},
   "source": [
    "Scrape the details of trending repositories on Github.com.\n",
    "Url = https://github.com/\n",
    "You have to find the following details:\n",
    "A) Repository title\n",
    "B) Repository description\n",
    "C) Contributors count\n",
    "D) Language used\n",
    "\n",
    "Note: - From the home page you have to click on the trending option from Explore menu through code."
   ]
  },
  {
   "cell_type": "code",
   "execution_count": 37,
   "metadata": {},
   "outputs": [],
   "source": [
    "#importing all the required libraries"
   ]
  },
  {
   "cell_type": "code",
   "execution_count": 2,
   "metadata": {},
   "outputs": [],
   "source": [
    "import selenium\n",
    "from selenium import webdriver\n",
    "from selenium.common.exceptions import NoSuchElementException"
   ]
  },
  {
   "cell_type": "code",
   "execution_count": 3,
   "metadata": {},
   "outputs": [],
   "source": [
    "driver=webdriver.Chrome(r\"E:\\DATA SCIENCE\\chromedriver.exe\")"
   ]
  },
  {
   "cell_type": "code",
   "execution_count": 4,
   "metadata": {},
   "outputs": [],
   "source": [
    "url='https://github.com/'"
   ]
  },
  {
   "cell_type": "code",
   "execution_count": 5,
   "metadata": {},
   "outputs": [],
   "source": [
    "driver.get(url)"
   ]
  },
  {
   "cell_type": "code",
   "execution_count": 6,
   "metadata": {},
   "outputs": [],
   "source": [
    "Title=[]\n",
    "Desc=[]\n",
    "Count=[]\n",
    "Language=[]"
   ]
  },
  {
   "cell_type": "code",
   "execution_count": null,
   "metadata": {},
   "outputs": [],
   "source": [
    "#navigating in the above url using the below "
   ]
  },
  {
   "cell_type": "code",
   "execution_count": 7,
   "metadata": {},
   "outputs": [],
   "source": [
    "try:\n",
    "        driver.find_element_by_xpath('/html/body/div[1]/header/div/div[2]/nav/ul/li[4]/details/summary').click()\n",
    "except nosuchelementexception:\n",
    "       pass"
   ]
  },
  {
   "cell_type": "code",
   "execution_count": 8,
   "metadata": {},
   "outputs": [],
   "source": [
    "try:\n",
    "        driver.find_element_by_xpath('/html/body/div[1]/header/div/div[2]/nav/ul/li[4]/details/div/ul[2]/li[3]/a').click()\n",
    "except nosuchelementexception:\n",
    "       pass"
   ]
  },
  {
   "cell_type": "code",
   "execution_count": 9,
   "metadata": {},
   "outputs": [],
   "source": [
    "title=driver.find_elements_by_xpath(\"//span[@class='text-normal']\")"
   ]
  },
  {
   "cell_type": "code",
   "execution_count": 10,
   "metadata": {},
   "outputs": [
    {
     "data": {
      "text/plain": [
       "[<selenium.webdriver.remote.webelement.WebElement (session=\"398afcc4c41afa714a637dd46bcf0569\", element=\"eeecf566-242b-4262-8101-e1c1cb0adf67\")>,\n",
       " <selenium.webdriver.remote.webelement.WebElement (session=\"398afcc4c41afa714a637dd46bcf0569\", element=\"bc7c35b0-25fd-417f-8685-8a632781dcb8\")>]"
      ]
     },
     "execution_count": 10,
     "metadata": {},
     "output_type": "execute_result"
    }
   ],
   "source": [
    "title[0:2]"
   ]
  },
  {
   "cell_type": "code",
   "execution_count": 11,
   "metadata": {},
   "outputs": [],
   "source": [
    "for i in title:\n",
    "    Title.append(i.text)"
   ]
  },
  {
   "cell_type": "code",
   "execution_count": 12,
   "metadata": {},
   "outputs": [
    {
     "data": {
      "text/plain": [
       "['loadimpact /',\n",
       " 'coolsnowwolf /',\n",
       " 'ottomated /',\n",
       " 'hakimel /',\n",
       " 'DustinBrett /',\n",
       " 'flutter /',\n",
       " 'Pierian-Data /',\n",
       " 'an-tao /',\n",
       " 'python-telegram-bot /',\n",
       " 'xiaorouji /',\n",
       " 'redcode-labs /',\n",
       " 'EricJMarti /',\n",
       " 'arendst /',\n",
       " 'ben-rogerson /',\n",
       " 'NiuTrans /',\n",
       " 'GitSquared /',\n",
       " 'S1ckB0y1337 /',\n",
       " 'Solido /',\n",
       " 'huggingface /',\n",
       " 'MustangYM /',\n",
       " 'sindresorhus /',\n",
       " 'lydiahallie /',\n",
       " '0x90n /',\n",
       " 'kamranahmedse /',\n",
       " 'pi-hole /']"
      ]
     },
     "execution_count": 12,
     "metadata": {},
     "output_type": "execute_result"
    }
   ],
   "source": [
    "Title"
   ]
  },
  {
   "cell_type": "code",
   "execution_count": 13,
   "metadata": {},
   "outputs": [
    {
     "data": {
      "text/plain": [
       "25"
      ]
     },
     "execution_count": 13,
     "metadata": {},
     "output_type": "execute_result"
    }
   ],
   "source": [
    "len(Title)"
   ]
  },
  {
   "cell_type": "code",
   "execution_count": 14,
   "metadata": {},
   "outputs": [],
   "source": [
    "desc=driver.find_elements_by_xpath(\"//p[@class='col-9 text-gray my-1 pr-4']\")"
   ]
  },
  {
   "cell_type": "code",
   "execution_count": 15,
   "metadata": {},
   "outputs": [],
   "source": [
    "for i in desc:\n",
    "    Desc.append(i.text)"
   ]
  },
  {
   "cell_type": "code",
   "execution_count": 16,
   "metadata": {},
   "outputs": [
    {
     "data": {
      "text/plain": [
       "['A modern load testing tool, using Go and JavaScript - https://k6.io',\n",
       " \"Lean's OpenWrt source\",\n",
       " 'Free, open, Among Us Proximity Chat',\n",
       " 'The HTML Presentation Framework',\n",
       " 'Desktop environment in the browser.',\n",
       " 'Flutter makes it easy and fast to build beautiful apps for mobile and beyond.',\n",
       " 'Course Files for Complete Python 3 Bootcamp Course on Udemy',\n",
       " 'Drogon: A C++14/17 based HTTP web application framework running on Linux/macOS/Unix/Windows',\n",
       " \"We have made you a wrapper you can't refuse\",\n",
       " 'A library for constructing self-spreading binaries',\n",
       " '⚡️ Get notified as soon as your next CPU/GPU is in stock',\n",
       " 'Alternative firmware for ESP8266 with easy configuration using webUI, OTA updates, automation using timers or rules, expandability and entirely local control over MQTT, HTTP, Serial or KNX. Full documentation at',\n",
       " '🦹\\u200d♂️ Twin blends the magic of Tailwind with the flexibility of css-in-js (emotion, styled-components and goober) at build time.',\n",
       " 'A collection of 400+ survey papers on Natural Language Processing (NLP) and Machine Learning (ML)',\n",
       " 'A cross-platform, customizable science fiction terminal emulator with advanced monitoring & touchscreen support.',\n",
       " 'A cheat sheet that contains common enumeration and attack methods for Windows Active Directory.',\n",
       " 'An awesome list that curates the best Flutter libraries, tools, tutorials, articles and more.',\n",
       " '🤗 Fast, efficient, open-access datasets and evaluation metrics in PyTorch, TensorFlow, NumPy and Pandas',\n",
       " 'Mac微信功能拓展/微信插件/微信小助手(A plugin for Mac WeChat)',\n",
       " '😎 Awesome lists about all kinds of interesting topics',\n",
       " 'A long list of (advanced) JavaScript questions, and their explanations ✨',\n",
       " 'All the deals for InfoSec related software/tools this Black Friday',\n",
       " 'Roadmap to becoming a web developer in 2020',\n",
       " 'A black hole for Internet advertisements']"
      ]
     },
     "execution_count": 16,
     "metadata": {},
     "output_type": "execute_result"
    }
   ],
   "source": [
    "Desc"
   ]
  },
  {
   "cell_type": "code",
   "execution_count": 17,
   "metadata": {},
   "outputs": [
    {
     "data": {
      "text/plain": [
       "24"
      ]
     },
     "execution_count": 17,
     "metadata": {},
     "output_type": "execute_result"
    }
   ],
   "source": [
    "len(Desc)"
   ]
  },
  {
   "cell_type": "code",
   "execution_count": 18,
   "metadata": {},
   "outputs": [],
   "source": [
    "count=driver.find_elements_by_xpath(\"//a[@class='muted-link d-inline-block mr-3']\")"
   ]
  },
  {
   "cell_type": "code",
   "execution_count": 19,
   "metadata": {},
   "outputs": [],
   "source": [
    "for i in count:\n",
    "    Count.append(i.text)"
   ]
  },
  {
   "cell_type": "code",
   "execution_count": 20,
   "metadata": {},
   "outputs": [
    {
     "data": {
      "text/plain": [
       "['9,656',\n",
       " '474',\n",
       " '13,408',\n",
       " '12,131',\n",
       " '237',\n",
       " '19',\n",
       " '54,151',\n",
       " '15,177',\n",
       " '484',\n",
       " '24',\n",
       " '107,806',\n",
       " '15,097',\n",
       " '13,284',\n",
       " '47,758',\n",
       " '4,094',\n",
       " '335',\n",
       " '12,473',\n",
       " '2,683',\n",
       " '1,384',\n",
       " '1,104',\n",
       " '156',\n",
       " '11',\n",
       " '84',\n",
       " '15',\n",
       " '13,659',\n",
       " '3,003',\n",
       " '1,413',\n",
       " '47',\n",
       " '725',\n",
       " '102',\n",
       " '23,771',\n",
       " '1,332',\n",
       " '975',\n",
       " '255',\n",
       " '32,322',\n",
       " '4,710',\n",
       " '4,985',\n",
       " '385',\n",
       " '12,094',\n",
       " '1,821',\n",
       " '147,235',\n",
       " '19,284',\n",
       " '25,660',\n",
       " '3,318',\n",
       " '398',\n",
       " '55',\n",
       " '137,441',\n",
       " '20,642',\n",
       " '26,298',\n",
       " '1,807']"
      ]
     },
     "execution_count": 20,
     "metadata": {},
     "output_type": "execute_result"
    }
   ],
   "source": [
    "Count"
   ]
  },
  {
   "cell_type": "code",
   "execution_count": 21,
   "metadata": {},
   "outputs": [],
   "source": [
    "b=Count[1::2]"
   ]
  },
  {
   "cell_type": "code",
   "execution_count": 22,
   "metadata": {},
   "outputs": [
    {
     "data": {
      "text/plain": [
       "['474',\n",
       " '12,131',\n",
       " '19',\n",
       " '15,177',\n",
       " '24',\n",
       " '15,097',\n",
       " '47,758',\n",
       " '335',\n",
       " '2,683',\n",
       " '1,104',\n",
       " '11',\n",
       " '15',\n",
       " '3,003',\n",
       " '47',\n",
       " '102',\n",
       " '1,332',\n",
       " '255',\n",
       " '4,710',\n",
       " '385',\n",
       " '1,821',\n",
       " '19,284',\n",
       " '3,318',\n",
       " '55',\n",
       " '20,642',\n",
       " '1,807']"
      ]
     },
     "execution_count": 22,
     "metadata": {},
     "output_type": "execute_result"
    }
   ],
   "source": [
    "b"
   ]
  },
  {
   "cell_type": "code",
   "execution_count": 23,
   "metadata": {},
   "outputs": [
    {
     "data": {
      "text/plain": [
       "['474',\n",
       " '12,131',\n",
       " '19',\n",
       " '15,177',\n",
       " '24',\n",
       " '15,097',\n",
       " '47,758',\n",
       " '335',\n",
       " '2,683',\n",
       " '1,104',\n",
       " '11',\n",
       " '15',\n",
       " '3,003',\n",
       " '47',\n",
       " '102',\n",
       " '1,332',\n",
       " '255',\n",
       " '4,710',\n",
       " '385',\n",
       " '1,821',\n",
       " '19,284',\n",
       " '3,318',\n",
       " '55',\n",
       " '20,642',\n",
       " '1,807']"
      ]
     },
     "execution_count": 23,
     "metadata": {},
     "output_type": "execute_result"
    }
   ],
   "source": [
    "c=b[0:25]\n",
    "c"
   ]
  },
  {
   "cell_type": "code",
   "execution_count": 24,
   "metadata": {},
   "outputs": [
    {
     "data": {
      "text/plain": [
       "25"
      ]
     },
     "execution_count": 24,
     "metadata": {},
     "output_type": "execute_result"
    }
   ],
   "source": [
    "len(c)"
   ]
  },
  {
   "cell_type": "code",
   "execution_count": 31,
   "metadata": {},
   "outputs": [],
   "source": [
    "language=driver.find_elements_by_xpath(\"//span[@class='d-inline-block ml-0 mr-3']\")"
   ]
  },
  {
   "cell_type": "code",
   "execution_count": 26,
   "metadata": {},
   "outputs": [],
   "source": [
    "for i in language:\n",
    "    if i.text is None :\n",
    "        Language.append(\"--\") \n",
    "    else:\n",
    "        Language.append(i.text)"
   ]
  },
  {
   "cell_type": "code",
   "execution_count": 27,
   "metadata": {
    "scrolled": true
   },
   "outputs": [
    {
     "data": {
      "text/plain": [
       "['Go',\n",
       " 'C',\n",
       " 'TypeScript',\n",
       " 'JavaScript',\n",
       " 'JavaScript',\n",
       " 'Dart',\n",
       " 'Jupyter Notebook',\n",
       " 'C++',\n",
       " 'Python',\n",
       " 'HTML',\n",
       " 'Go',\n",
       " 'Python',\n",
       " 'C',\n",
       " 'JavaScript',\n",
       " 'JavaScript',\n",
       " 'Dart',\n",
       " 'Python',\n",
       " 'Objective-C',\n",
       " 'Shell']"
      ]
     },
     "execution_count": 27,
     "metadata": {},
     "output_type": "execute_result"
    }
   ],
   "source": [
    "Language"
   ]
  },
  {
   "cell_type": "code",
   "execution_count": 28,
   "metadata": {},
   "outputs": [
    {
     "data": {
      "text/plain": [
       "19"
      ]
     },
     "execution_count": 28,
     "metadata": {},
     "output_type": "execute_result"
    }
   ],
   "source": [
    "len(Language)"
   ]
  },
  {
   "cell_type": "code",
   "execution_count": null,
   "metadata": {},
   "outputs": [],
   "source": [
    "#creating a data frame"
   ]
  },
  {
   "cell_type": "code",
   "execution_count": 32,
   "metadata": {},
   "outputs": [],
   "source": [
    "import pandas as pd"
   ]
  },
  {
   "cell_type": "code",
   "execution_count": 33,
   "metadata": {},
   "outputs": [],
   "source": [
    "df=pd.DataFrame({})"
   ]
  },
  {
   "cell_type": "code",
   "execution_count": 35,
   "metadata": {},
   "outputs": [],
   "source": [
    "df['Repository title']=Title[0:19]\n",
    "df['Repository description']=Desc[0:19]\n",
    "df['Contributors count']=c[0:19]\n",
    "df['Language used']=Language"
   ]
  },
  {
   "cell_type": "code",
   "execution_count": 36,
   "metadata": {},
   "outputs": [
    {
     "data": {
      "text/html": [
       "<div>\n",
       "<style scoped>\n",
       "    .dataframe tbody tr th:only-of-type {\n",
       "        vertical-align: middle;\n",
       "    }\n",
       "\n",
       "    .dataframe tbody tr th {\n",
       "        vertical-align: top;\n",
       "    }\n",
       "\n",
       "    .dataframe thead th {\n",
       "        text-align: right;\n",
       "    }\n",
       "</style>\n",
       "<table border=\"1\" class=\"dataframe\">\n",
       "  <thead>\n",
       "    <tr style=\"text-align: right;\">\n",
       "      <th></th>\n",
       "      <th>Repository title</th>\n",
       "      <th>Repository description</th>\n",
       "      <th>Contributors count</th>\n",
       "      <th>Language used</th>\n",
       "    </tr>\n",
       "  </thead>\n",
       "  <tbody>\n",
       "    <tr>\n",
       "      <th>0</th>\n",
       "      <td>loadimpact /</td>\n",
       "      <td>A modern load testing tool, using Go and JavaS...</td>\n",
       "      <td>474</td>\n",
       "      <td>Go</td>\n",
       "    </tr>\n",
       "    <tr>\n",
       "      <th>1</th>\n",
       "      <td>coolsnowwolf /</td>\n",
       "      <td>Lean's OpenWrt source</td>\n",
       "      <td>12,131</td>\n",
       "      <td>C</td>\n",
       "    </tr>\n",
       "    <tr>\n",
       "      <th>2</th>\n",
       "      <td>ottomated /</td>\n",
       "      <td>Free, open, Among Us Proximity Chat</td>\n",
       "      <td>19</td>\n",
       "      <td>TypeScript</td>\n",
       "    </tr>\n",
       "    <tr>\n",
       "      <th>3</th>\n",
       "      <td>hakimel /</td>\n",
       "      <td>The HTML Presentation Framework</td>\n",
       "      <td>15,177</td>\n",
       "      <td>JavaScript</td>\n",
       "    </tr>\n",
       "    <tr>\n",
       "      <th>4</th>\n",
       "      <td>DustinBrett /</td>\n",
       "      <td>Desktop environment in the browser.</td>\n",
       "      <td>24</td>\n",
       "      <td>JavaScript</td>\n",
       "    </tr>\n",
       "    <tr>\n",
       "      <th>5</th>\n",
       "      <td>flutter /</td>\n",
       "      <td>Flutter makes it easy and fast to build beauti...</td>\n",
       "      <td>15,097</td>\n",
       "      <td>Dart</td>\n",
       "    </tr>\n",
       "    <tr>\n",
       "      <th>6</th>\n",
       "      <td>Pierian-Data /</td>\n",
       "      <td>Course Files for Complete Python 3 Bootcamp Co...</td>\n",
       "      <td>47,758</td>\n",
       "      <td>Jupyter Notebook</td>\n",
       "    </tr>\n",
       "    <tr>\n",
       "      <th>7</th>\n",
       "      <td>an-tao /</td>\n",
       "      <td>Drogon: A C++14/17 based HTTP web application ...</td>\n",
       "      <td>335</td>\n",
       "      <td>C++</td>\n",
       "    </tr>\n",
       "    <tr>\n",
       "      <th>8</th>\n",
       "      <td>python-telegram-bot /</td>\n",
       "      <td>We have made you a wrapper you can't refuse</td>\n",
       "      <td>2,683</td>\n",
       "      <td>Python</td>\n",
       "    </tr>\n",
       "    <tr>\n",
       "      <th>9</th>\n",
       "      <td>xiaorouji /</td>\n",
       "      <td>A library for constructing self-spreading bina...</td>\n",
       "      <td>1,104</td>\n",
       "      <td>HTML</td>\n",
       "    </tr>\n",
       "    <tr>\n",
       "      <th>10</th>\n",
       "      <td>redcode-labs /</td>\n",
       "      <td>⚡️ Get notified as soon as your next CPU/GPU i...</td>\n",
       "      <td>11</td>\n",
       "      <td>Go</td>\n",
       "    </tr>\n",
       "    <tr>\n",
       "      <th>11</th>\n",
       "      <td>EricJMarti /</td>\n",
       "      <td>Alternative firmware for ESP8266 with easy con...</td>\n",
       "      <td>15</td>\n",
       "      <td>Python</td>\n",
       "    </tr>\n",
       "    <tr>\n",
       "      <th>12</th>\n",
       "      <td>arendst /</td>\n",
       "      <td>🦹‍♂️ Twin blends the magic of Tailwind with th...</td>\n",
       "      <td>3,003</td>\n",
       "      <td>C</td>\n",
       "    </tr>\n",
       "    <tr>\n",
       "      <th>13</th>\n",
       "      <td>ben-rogerson /</td>\n",
       "      <td>A collection of 400+ survey papers on Natural ...</td>\n",
       "      <td>47</td>\n",
       "      <td>JavaScript</td>\n",
       "    </tr>\n",
       "    <tr>\n",
       "      <th>14</th>\n",
       "      <td>NiuTrans /</td>\n",
       "      <td>A cross-platform, customizable science fiction...</td>\n",
       "      <td>102</td>\n",
       "      <td>JavaScript</td>\n",
       "    </tr>\n",
       "    <tr>\n",
       "      <th>15</th>\n",
       "      <td>GitSquared /</td>\n",
       "      <td>A cheat sheet that contains common enumeration...</td>\n",
       "      <td>1,332</td>\n",
       "      <td>Dart</td>\n",
       "    </tr>\n",
       "    <tr>\n",
       "      <th>16</th>\n",
       "      <td>S1ckB0y1337 /</td>\n",
       "      <td>An awesome list that curates the best Flutter ...</td>\n",
       "      <td>255</td>\n",
       "      <td>Python</td>\n",
       "    </tr>\n",
       "    <tr>\n",
       "      <th>17</th>\n",
       "      <td>Solido /</td>\n",
       "      <td>🤗 Fast, efficient, open-access datasets and ev...</td>\n",
       "      <td>4,710</td>\n",
       "      <td>Objective-C</td>\n",
       "    </tr>\n",
       "    <tr>\n",
       "      <th>18</th>\n",
       "      <td>huggingface /</td>\n",
       "      <td>Mac微信功能拓展/微信插件/微信小助手(A plugin for Mac WeChat)</td>\n",
       "      <td>385</td>\n",
       "      <td>Shell</td>\n",
       "    </tr>\n",
       "  </tbody>\n",
       "</table>\n",
       "</div>"
      ],
      "text/plain": [
       "         Repository title                             Repository description  \\\n",
       "0            loadimpact /  A modern load testing tool, using Go and JavaS...   \n",
       "1          coolsnowwolf /                              Lean's OpenWrt source   \n",
       "2             ottomated /                Free, open, Among Us Proximity Chat   \n",
       "3               hakimel /                    The HTML Presentation Framework   \n",
       "4           DustinBrett /                Desktop environment in the browser.   \n",
       "5               flutter /  Flutter makes it easy and fast to build beauti...   \n",
       "6          Pierian-Data /  Course Files for Complete Python 3 Bootcamp Co...   \n",
       "7                an-tao /  Drogon: A C++14/17 based HTTP web application ...   \n",
       "8   python-telegram-bot /        We have made you a wrapper you can't refuse   \n",
       "9             xiaorouji /  A library for constructing self-spreading bina...   \n",
       "10         redcode-labs /  ⚡️ Get notified as soon as your next CPU/GPU i...   \n",
       "11           EricJMarti /  Alternative firmware for ESP8266 with easy con...   \n",
       "12              arendst /  🦹‍♂️ Twin blends the magic of Tailwind with th...   \n",
       "13         ben-rogerson /  A collection of 400+ survey papers on Natural ...   \n",
       "14             NiuTrans /  A cross-platform, customizable science fiction...   \n",
       "15           GitSquared /  A cheat sheet that contains common enumeration...   \n",
       "16          S1ckB0y1337 /  An awesome list that curates the best Flutter ...   \n",
       "17               Solido /  🤗 Fast, efficient, open-access datasets and ev...   \n",
       "18          huggingface /      Mac微信功能拓展/微信插件/微信小助手(A plugin for Mac WeChat)   \n",
       "\n",
       "   Contributors count     Language used  \n",
       "0                 474                Go  \n",
       "1              12,131                 C  \n",
       "2                  19        TypeScript  \n",
       "3              15,177        JavaScript  \n",
       "4                  24        JavaScript  \n",
       "5              15,097              Dart  \n",
       "6              47,758  Jupyter Notebook  \n",
       "7                 335               C++  \n",
       "8               2,683            Python  \n",
       "9               1,104              HTML  \n",
       "10                 11                Go  \n",
       "11                 15            Python  \n",
       "12              3,003                 C  \n",
       "13                 47        JavaScript  \n",
       "14                102        JavaScript  \n",
       "15              1,332              Dart  \n",
       "16                255            Python  \n",
       "17              4,710       Objective-C  \n",
       "18                385             Shell  "
      ]
     },
     "execution_count": 36,
     "metadata": {},
     "output_type": "execute_result"
    }
   ],
   "source": [
    "df"
   ]
  },
  {
   "cell_type": "code",
   "execution_count": null,
   "metadata": {},
   "outputs": [],
   "source": []
  }
 ],
 "metadata": {
  "kernelspec": {
   "display_name": "Python 3",
   "language": "python",
   "name": "python3"
  },
  "language_info": {
   "codemirror_mode": {
    "name": "ipython",
    "version": 3
   },
   "file_extension": ".py",
   "mimetype": "text/x-python",
   "name": "python",
   "nbconvert_exporter": "python",
   "pygments_lexer": "ipython3",
   "version": "3.7.6"
  }
 },
 "nbformat": 4,
 "nbformat_minor": 4
}
