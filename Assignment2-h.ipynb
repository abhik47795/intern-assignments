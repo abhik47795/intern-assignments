{
 "cells": [
  {
   "cell_type": "raw",
   "metadata": {},
   "source": [
    "Scrape data for first 100 sneakers you find when you visit flipkart.com and search for “sneakers” in the search field.\n",
    "You have to scrape 4 attributes of each sneaker :\n",
    "1. Brand\n",
    "2. Product Description\n",
    "3. Price\n",
    "4. discount %"
   ]
  },
  {
   "cell_type": "code",
   "execution_count": 24,
   "metadata": {},
   "outputs": [],
   "source": [
    "#importing all the useful libraries"
   ]
  },
  {
   "cell_type": "code",
   "execution_count": 25,
   "metadata": {},
   "outputs": [],
   "source": [
    "import selenium\n",
    "from selenium import webdriver"
   ]
  },
  {
   "cell_type": "code",
   "execution_count": 26,
   "metadata": {},
   "outputs": [],
   "source": [
    "driver=webdriver.Chrome(r'D:\\G\\DATA SCIENCE\\chromedriver.exe')"
   ]
  },
  {
   "cell_type": "code",
   "execution_count": 27,
   "metadata": {},
   "outputs": [],
   "source": [
    "url='https://www.flipkart.com/search?q=sneakers+for+men&sid=osp%2Ccil%2Ce1f&as=on&as-show=on&otracker=AS_QueryStore_OrganicAutoSuggest_1_8_na_na_na&otracker1=AS_QueryStore_OrganicAutoSuggest_1_8_na_na_na&as-pos=1&as-type=RECENT&suggestionId=sneakers+for+men%7CMen%27s+Casual+Shoes&requestId=bcb5d14d-6cfa-4f8f-bb7b-91190489d1de&as-backfill=on'"
   ]
  },
  {
   "cell_type": "code",
   "execution_count": 28,
   "metadata": {},
   "outputs": [],
   "source": [
    "driver.get(url)"
   ]
  },
  {
   "cell_type": "code",
   "execution_count": 29,
   "metadata": {},
   "outputs": [],
   "source": [
    "brand=[]\n",
    "desc=[]\n",
    "price=[]\n",
    "disc=[]"
   ]
  },
  {
   "cell_type": "code",
   "execution_count": 30,
   "metadata": {},
   "outputs": [],
   "source": [
    "brands=driver.find_elements_by_xpath(\"//div[@class='_2B_pmu']\")"
   ]
  },
  {
   "cell_type": "code",
   "execution_count": 31,
   "metadata": {},
   "outputs": [
    {
     "data": {
      "text/plain": [
       "[<selenium.webdriver.remote.webelement.WebElement (session=\"68f78e6a8d965e519bf8ae688c60ec80\", element=\"2f2eedbd-93f6-4921-b0d8-0698175394ee\")>,\n",
       " <selenium.webdriver.remote.webelement.WebElement (session=\"68f78e6a8d965e519bf8ae688c60ec80\", element=\"c6d1d109-8f9e-4c55-93f9-0e1b7d2198ed\")>,\n",
       " <selenium.webdriver.remote.webelement.WebElement (session=\"68f78e6a8d965e519bf8ae688c60ec80\", element=\"b3a2da21-b1c2-4e31-96f4-16e7ad3acb1a\")>,\n",
       " <selenium.webdriver.remote.webelement.WebElement (session=\"68f78e6a8d965e519bf8ae688c60ec80\", element=\"df7c1069-ef24-46d3-af77-590b52737483\")>]"
      ]
     },
     "execution_count": 31,
     "metadata": {},
     "output_type": "execute_result"
    }
   ],
   "source": [
    "brands[0:4]"
   ]
  },
  {
   "cell_type": "code",
   "execution_count": 32,
   "metadata": {},
   "outputs": [],
   "source": [
    "for i in brands:\n",
    "    brand.append(i.text)"
   ]
  },
  {
   "cell_type": "code",
   "execution_count": 52,
   "metadata": {},
   "outputs": [],
   "source": [
    "brand=brand[0:34]"
   ]
  },
  {
   "cell_type": "code",
   "execution_count": 34,
   "metadata": {},
   "outputs": [],
   "source": [
    "des=driver.find_elements_by_xpath(\"//a[@class='_2mylT6']\")"
   ]
  },
  {
   "cell_type": "code",
   "execution_count": 35,
   "metadata": {},
   "outputs": [
    {
     "data": {
      "text/plain": [
       "[<selenium.webdriver.remote.webelement.WebElement (session=\"68f78e6a8d965e519bf8ae688c60ec80\", element=\"534192e1-4017-480a-8384-7ac658564f69\")>,\n",
       " <selenium.webdriver.remote.webelement.WebElement (session=\"68f78e6a8d965e519bf8ae688c60ec80\", element=\"73b6bc37-a411-44aa-bc2b-b0626e6737f7\")>,\n",
       " <selenium.webdriver.remote.webelement.WebElement (session=\"68f78e6a8d965e519bf8ae688c60ec80\", element=\"97ed70ae-6d8a-403f-b38c-e09fd83676d4\")>,\n",
       " <selenium.webdriver.remote.webelement.WebElement (session=\"68f78e6a8d965e519bf8ae688c60ec80\", element=\"68e48b63-e219-4f96-9617-64b8422d1178\")>]"
      ]
     },
     "execution_count": 35,
     "metadata": {},
     "output_type": "execute_result"
    }
   ],
   "source": [
    "des[0:4]"
   ]
  },
  {
   "cell_type": "code",
   "execution_count": 36,
   "metadata": {},
   "outputs": [],
   "source": [
    "for i in des:\n",
    "    desc.append(i.text)"
   ]
  },
  {
   "cell_type": "code",
   "execution_count": 50,
   "metadata": {},
   "outputs": [
    {
     "data": {
      "text/plain": [
       "34"
      ]
     },
     "execution_count": 50,
     "metadata": {},
     "output_type": "execute_result"
    }
   ],
   "source": [
    "desc[0:4]"
   ]
  },
  {
   "cell_type": "code",
   "execution_count": 38,
   "metadata": {},
   "outputs": [],
   "source": [
    "cost=driver.find_elements_by_xpath(\"//div[@class='_1vC4OE']\")"
   ]
  },
  {
   "cell_type": "code",
   "execution_count": 39,
   "metadata": {},
   "outputs": [],
   "source": [
    "for i in cost:\n",
    "    price.append(i.text)"
   ]
  },
  {
   "cell_type": "code",
   "execution_count": 51,
   "metadata": {},
   "outputs": [],
   "source": [
    "price=price[0:34]"
   ]
  },
  {
   "cell_type": "code",
   "execution_count": 41,
   "metadata": {},
   "outputs": [],
   "source": [
    "dis=driver.find_elements_by_xpath(\"//div[@class='VGWI6T']\")"
   ]
  },
  {
   "cell_type": "code",
   "execution_count": 42,
   "metadata": {},
   "outputs": [],
   "source": [
    "for i in dis:\n",
    "    disc.append(i.text)"
   ]
  },
  {
   "cell_type": "code",
   "execution_count": 53,
   "metadata": {},
   "outputs": [],
   "source": [
    "disc=disc[0:34]"
   ]
  },
  {
   "cell_type": "code",
   "execution_count": 54,
   "metadata": {},
   "outputs": [],
   "source": [
    "import pandas as pd"
   ]
  },
  {
   "cell_type": "code",
   "execution_count": 55,
   "metadata": {},
   "outputs": [],
   "source": [
    "df=pd.DataFrame({})"
   ]
  },
  {
   "cell_type": "code",
   "execution_count": 56,
   "metadata": {},
   "outputs": [
    {
     "name": "stdout",
     "output_type": "stream",
     "text": [
      "34 34 34 34\n"
     ]
    }
   ],
   "source": [
    "print(len(brand),len(desc),len(price),len(disc))"
   ]
  },
  {
   "cell_type": "code",
   "execution_count": 57,
   "metadata": {},
   "outputs": [],
   "source": [
    "df['Brand']=brand\n",
    "df['Description']=desc\n",
    "df['Price']=price\n",
    "df['Discount']=disc"
   ]
  },
  {
   "cell_type": "code",
   "execution_count": 58,
   "metadata": {},
   "outputs": [
    {
     "data": {
      "text/html": [
       "<div>\n",
       "<style scoped>\n",
       "    .dataframe tbody tr th:only-of-type {\n",
       "        vertical-align: middle;\n",
       "    }\n",
       "\n",
       "    .dataframe tbody tr th {\n",
       "        vertical-align: top;\n",
       "    }\n",
       "\n",
       "    .dataframe thead th {\n",
       "        text-align: right;\n",
       "    }\n",
       "</style>\n",
       "<table border=\"1\" class=\"dataframe\">\n",
       "  <thead>\n",
       "    <tr style=\"text-align: right;\">\n",
       "      <th></th>\n",
       "      <th>Brand</th>\n",
       "      <th>Description</th>\n",
       "      <th>Price</th>\n",
       "      <th>Discount</th>\n",
       "    </tr>\n",
       "  </thead>\n",
       "  <tbody>\n",
       "    <tr>\n",
       "      <th>0</th>\n",
       "      <td>Nike</td>\n",
       "      <td>SB Charge Canvas Sneakers For Men</td>\n",
       "      <td>₹2,697</td>\n",
       "      <td>40% off</td>\n",
       "    </tr>\n",
       "    <tr>\n",
       "      <th>1</th>\n",
       "      <td>DIGITRENDZZ</td>\n",
       "      <td>Sneakers For Men</td>\n",
       "      <td>₹379</td>\n",
       "      <td>62% off</td>\n",
       "    </tr>\n",
       "    <tr>\n",
       "      <th>2</th>\n",
       "      <td>Chevit</td>\n",
       "      <td>Combo Pack of 4 Casual Sneakers With Sneakers ...</td>\n",
       "      <td>₹461</td>\n",
       "      <td>76% off</td>\n",
       "    </tr>\n",
       "    <tr>\n",
       "      <th>3</th>\n",
       "      <td>Chevit</td>\n",
       "      <td>171 Smart Tan Lace-Ups Casuals for Men Sneaker...</td>\n",
       "      <td>₹236</td>\n",
       "      <td>52% off</td>\n",
       "    </tr>\n",
       "    <tr>\n",
       "      <th>4</th>\n",
       "      <td>Chevit</td>\n",
       "      <td>Chevit Latest Fashion Combo Pack of 2 Pairs Ca...</td>\n",
       "      <td>₹525</td>\n",
       "      <td>64% off</td>\n",
       "    </tr>\n",
       "    <tr>\n",
       "      <th>5</th>\n",
       "      <td>Hotstyle</td>\n",
       "      <td>Sneakers For Men</td>\n",
       "      <td>₹240</td>\n",
       "      <td>51% off</td>\n",
       "    </tr>\n",
       "    <tr>\n",
       "      <th>6</th>\n",
       "      <td>Chevit</td>\n",
       "      <td>170 Smart Grey Lace-Ups Casuals for Men Sneake...</td>\n",
       "      <td>₹236</td>\n",
       "      <td>52% off</td>\n",
       "    </tr>\n",
       "    <tr>\n",
       "      <th>7</th>\n",
       "      <td>Red Tape</td>\n",
       "      <td>Casual , Partywear Sneakers Shoes For Men's An...</td>\n",
       "      <td>₹1,023</td>\n",
       "      <td>75% off</td>\n",
       "    </tr>\n",
       "    <tr>\n",
       "      <th>8</th>\n",
       "      <td>D-SNEAKERZ</td>\n",
       "      <td>Sneakers For Men</td>\n",
       "      <td>₹370</td>\n",
       "      <td>43% off</td>\n",
       "    </tr>\n",
       "    <tr>\n",
       "      <th>9</th>\n",
       "      <td>Robbie jones</td>\n",
       "      <td>168 Smart Red Lace-Ups Casuals for Men Sneaker...</td>\n",
       "      <td>₹405</td>\n",
       "      <td>59% off</td>\n",
       "    </tr>\n",
       "    <tr>\n",
       "      <th>10</th>\n",
       "      <td>Chevit</td>\n",
       "      <td>Lazy Knit Slip On IDP Sneakers For Men</td>\n",
       "      <td>₹236</td>\n",
       "      <td>52% off</td>\n",
       "    </tr>\n",
       "    <tr>\n",
       "      <th>11</th>\n",
       "      <td>Puma</td>\n",
       "      <td>Combo Pack of 2 Casual Shoes Sneakers For Men</td>\n",
       "      <td>₹1,499</td>\n",
       "      <td>50% off</td>\n",
       "    </tr>\n",
       "    <tr>\n",
       "      <th>12</th>\n",
       "      <td>Birde</td>\n",
       "      <td>Sneakers For Men</td>\n",
       "      <td>₹509</td>\n",
       "      <td>49% off</td>\n",
       "    </tr>\n",
       "    <tr>\n",
       "      <th>13</th>\n",
       "      <td>Stefano Rads</td>\n",
       "      <td>Casuals For Men</td>\n",
       "      <td>₹224</td>\n",
       "      <td>85% off</td>\n",
       "    </tr>\n",
       "    <tr>\n",
       "      <th>14</th>\n",
       "      <td>Next INN</td>\n",
       "      <td>Sneakers for men(black_8) Sneakers For Men</td>\n",
       "      <td>₹378</td>\n",
       "      <td>62% off</td>\n",
       "    </tr>\n",
       "    <tr>\n",
       "      <th>15</th>\n",
       "      <td>RICHERSON</td>\n",
       "      <td>Smash v2 CV Sneakers For Men</td>\n",
       "      <td>₹459</td>\n",
       "      <td>54% off</td>\n",
       "    </tr>\n",
       "    <tr>\n",
       "      <th>16</th>\n",
       "      <td>Essence</td>\n",
       "      <td>Sneakers For Men</td>\n",
       "      <td>₹374</td>\n",
       "      <td>62% off</td>\n",
       "    </tr>\n",
       "    <tr>\n",
       "      <th>17</th>\n",
       "      <td>Creer</td>\n",
       "      <td>Combo Pack of 5 Casual Sneakers With Sneakers ...</td>\n",
       "      <td>₹402</td>\n",
       "      <td>59% off</td>\n",
       "    </tr>\n",
       "    <tr>\n",
       "      <th>18</th>\n",
       "      <td>Believe</td>\n",
       "      <td>Sneakers For Men</td>\n",
       "      <td>₹399</td>\n",
       "      <td>60% off</td>\n",
       "    </tr>\n",
       "    <tr>\n",
       "      <th>19</th>\n",
       "      <td>Puma</td>\n",
       "      <td>White Sneaker For Men's/Boy's Sneakers For Men</td>\n",
       "      <td>₹1,749</td>\n",
       "      <td>50% off</td>\n",
       "    </tr>\n",
       "    <tr>\n",
       "      <th>20</th>\n",
       "      <td>Essence</td>\n",
       "      <td>Sneakers For Men</td>\n",
       "      <td>₹374</td>\n",
       "      <td>62% off</td>\n",
       "    </tr>\n",
       "    <tr>\n",
       "      <th>21</th>\n",
       "      <td>BRUTON</td>\n",
       "      <td>SM-439 Sneakers For Men</td>\n",
       "      <td>₹699</td>\n",
       "      <td>82% off</td>\n",
       "    </tr>\n",
       "    <tr>\n",
       "      <th>22</th>\n",
       "      <td>Robbie jones</td>\n",
       "      <td>ATLANTA NEO Sneakers For Men</td>\n",
       "      <td>₹379</td>\n",
       "      <td>62% off</td>\n",
       "    </tr>\n",
       "    <tr>\n",
       "      <th>23</th>\n",
       "      <td>BAGRIN</td>\n",
       "      <td>5011-Latest Collection Stylish Casual Loafer S...</td>\n",
       "      <td>₹319</td>\n",
       "      <td>70% off</td>\n",
       "    </tr>\n",
       "    <tr>\n",
       "      <th>24</th>\n",
       "      <td>Shoes Bank</td>\n",
       "      <td>White Sneakers Sneakers For Men</td>\n",
       "      <td>₹331</td>\n",
       "      <td>66% off</td>\n",
       "    </tr>\n",
       "    <tr>\n",
       "      <th>25</th>\n",
       "      <td>Aadi</td>\n",
       "      <td>Combo Pack of 4 Latest Collection Stylish Casu...</td>\n",
       "      <td>₹299</td>\n",
       "      <td>70% off</td>\n",
       "    </tr>\n",
       "    <tr>\n",
       "      <th>26</th>\n",
       "      <td>Sparx</td>\n",
       "      <td>Ebernon Low Sneakers For Men</td>\n",
       "      <td>₹595</td>\n",
       "      <td>14% off</td>\n",
       "    </tr>\n",
       "    <tr>\n",
       "      <th>27</th>\n",
       "      <td>Lotto</td>\n",
       "      <td>169 Smart Sky Blue Lace-Ups Casuals for Men Sn...</td>\n",
       "      <td>₹799</td>\n",
       "      <td>60% off</td>\n",
       "    </tr>\n",
       "    <tr>\n",
       "      <th>28</th>\n",
       "      <td>World Wear Footwear</td>\n",
       "      <td>Mesh Casual Stylish Partywear Casaul Shoes For...</td>\n",
       "      <td>₹228</td>\n",
       "      <td>54% off</td>\n",
       "    </tr>\n",
       "    <tr>\n",
       "      <th>29</th>\n",
       "      <td>Magnolia</td>\n",
       "      <td>Sneakers For Men</td>\n",
       "      <td>₹311</td>\n",
       "      <td>68% off</td>\n",
       "    </tr>\n",
       "    <tr>\n",
       "      <th>30</th>\n",
       "      <td>World Wear Footwear</td>\n",
       "      <td>Combo Pack of 3 Casual Shoes Sneakers For Men</td>\n",
       "      <td>₹499</td>\n",
       "      <td>75% off</td>\n",
       "    </tr>\n",
       "    <tr>\n",
       "      <th>31</th>\n",
       "      <td>Nike</td>\n",
       "      <td>Smart Casuals Canvas Shoes Combo pack of 2 Sne...</td>\n",
       "      <td>₹2,877</td>\n",
       "      <td>40% off</td>\n",
       "    </tr>\n",
       "    <tr>\n",
       "      <th>32</th>\n",
       "      <td>Chevit</td>\n",
       "      <td>jeans shoes for men Sneakers For Men</td>\n",
       "      <td>₹236</td>\n",
       "      <td>52% off</td>\n",
       "    </tr>\n",
       "    <tr>\n",
       "      <th>33</th>\n",
       "      <td>T-ROCK</td>\n",
       "      <td>New Trendy Sneakers For Men</td>\n",
       "      <td>₹349</td>\n",
       "      <td>65% off</td>\n",
       "    </tr>\n",
       "  </tbody>\n",
       "</table>\n",
       "</div>"
      ],
      "text/plain": [
       "                  Brand                                        Description  \\\n",
       "0                  Nike                  SB Charge Canvas Sneakers For Men   \n",
       "1           DIGITRENDZZ                                   Sneakers For Men   \n",
       "2                Chevit  Combo Pack of 4 Casual Sneakers With Sneakers ...   \n",
       "3                Chevit  171 Smart Tan Lace-Ups Casuals for Men Sneaker...   \n",
       "4                Chevit  Chevit Latest Fashion Combo Pack of 2 Pairs Ca...   \n",
       "5              Hotstyle                                   Sneakers For Men   \n",
       "6                Chevit  170 Smart Grey Lace-Ups Casuals for Men Sneake...   \n",
       "7              Red Tape  Casual , Partywear Sneakers Shoes For Men's An...   \n",
       "8            D-SNEAKERZ                                   Sneakers For Men   \n",
       "9          Robbie jones  168 Smart Red Lace-Ups Casuals for Men Sneaker...   \n",
       "10               Chevit             Lazy Knit Slip On IDP Sneakers For Men   \n",
       "11                 Puma      Combo Pack of 2 Casual Shoes Sneakers For Men   \n",
       "12                Birde                                   Sneakers For Men   \n",
       "13         Stefano Rads                                    Casuals For Men   \n",
       "14             Next INN         Sneakers for men(black_8) Sneakers For Men   \n",
       "15            RICHERSON                       Smash v2 CV Sneakers For Men   \n",
       "16              Essence                                   Sneakers For Men   \n",
       "17                Creer  Combo Pack of 5 Casual Sneakers With Sneakers ...   \n",
       "18              Believe                                   Sneakers For Men   \n",
       "19                 Puma     White Sneaker For Men's/Boy's Sneakers For Men   \n",
       "20              Essence                                   Sneakers For Men   \n",
       "21               BRUTON                            SM-439 Sneakers For Men   \n",
       "22         Robbie jones                       ATLANTA NEO Sneakers For Men   \n",
       "23               BAGRIN  5011-Latest Collection Stylish Casual Loafer S...   \n",
       "24           Shoes Bank                    White Sneakers Sneakers For Men   \n",
       "25                 Aadi  Combo Pack of 4 Latest Collection Stylish Casu...   \n",
       "26                Sparx                       Ebernon Low Sneakers For Men   \n",
       "27                Lotto  169 Smart Sky Blue Lace-Ups Casuals for Men Sn...   \n",
       "28  World Wear Footwear  Mesh Casual Stylish Partywear Casaul Shoes For...   \n",
       "29             Magnolia                                   Sneakers For Men   \n",
       "30  World Wear Footwear      Combo Pack of 3 Casual Shoes Sneakers For Men   \n",
       "31                 Nike  Smart Casuals Canvas Shoes Combo pack of 2 Sne...   \n",
       "32               Chevit               jeans shoes for men Sneakers For Men   \n",
       "33               T-ROCK                        New Trendy Sneakers For Men   \n",
       "\n",
       "     Price Discount  \n",
       "0   ₹2,697  40% off  \n",
       "1     ₹379  62% off  \n",
       "2     ₹461  76% off  \n",
       "3     ₹236  52% off  \n",
       "4     ₹525  64% off  \n",
       "5     ₹240  51% off  \n",
       "6     ₹236  52% off  \n",
       "7   ₹1,023  75% off  \n",
       "8     ₹370  43% off  \n",
       "9     ₹405  59% off  \n",
       "10    ₹236  52% off  \n",
       "11  ₹1,499  50% off  \n",
       "12    ₹509  49% off  \n",
       "13    ₹224  85% off  \n",
       "14    ₹378  62% off  \n",
       "15    ₹459  54% off  \n",
       "16    ₹374  62% off  \n",
       "17    ₹402  59% off  \n",
       "18    ₹399  60% off  \n",
       "19  ₹1,749  50% off  \n",
       "20    ₹374  62% off  \n",
       "21    ₹699  82% off  \n",
       "22    ₹379  62% off  \n",
       "23    ₹319  70% off  \n",
       "24    ₹331  66% off  \n",
       "25    ₹299  70% off  \n",
       "26    ₹595  14% off  \n",
       "27    ₹799  60% off  \n",
       "28    ₹228  54% off  \n",
       "29    ₹311  68% off  \n",
       "30    ₹499  75% off  \n",
       "31  ₹2,877  40% off  \n",
       "32    ₹236  52% off  \n",
       "33    ₹349  65% off  "
      ]
     },
     "execution_count": 58,
     "metadata": {},
     "output_type": "execute_result"
    }
   ],
   "source": [
    "df"
   ]
  },
  {
   "cell_type": "code",
   "execution_count": null,
   "metadata": {},
   "outputs": [],
   "source": []
  }
 ],
 "metadata": {
  "kernelspec": {
   "display_name": "Python 3",
   "language": "python",
   "name": "python3"
  },
  "language_info": {
   "codemirror_mode": {
    "name": "ipython",
    "version": 3
   },
   "file_extension": ".py",
   "mimetype": "text/x-python",
   "name": "python",
   "nbconvert_exporter": "python",
   "pygments_lexer": "ipython3",
   "version": "3.7.6"
  }
 },
 "nbformat": 4,
 "nbformat_minor": 4
}
