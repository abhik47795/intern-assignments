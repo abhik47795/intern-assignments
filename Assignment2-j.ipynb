{
 "cells": [
  {
   "cell_type": "raw",
   "metadata": {},
   "source": [
    "Go to webpage https://www.amazon.in/\n",
    "Enter “Laptop” in the search field and then click the search icon.\n",
    "Then set CPU Type filter to “Intel Core i7” and “Intel Core i9” as shown in the below image:\n",
    "After setting the filters scrape first 10 laptops data. You have to scrape 3 attributes for each laptop:\n",
    "1. title\n",
    "2. Ratings\n",
    "3. Price"
   ]
  },
  {
   "cell_type": "code",
   "execution_count": 147,
   "metadata": {},
   "outputs": [],
   "source": [
    "#importing all useful libraries"
   ]
  },
  {
   "cell_type": "code",
   "execution_count": 148,
   "metadata": {},
   "outputs": [],
   "source": [
    "import selenium\n",
    "from selenium import webdriver"
   ]
  },
  {
   "cell_type": "code",
   "execution_count": 174,
   "metadata": {},
   "outputs": [],
   "source": [
    "#calling the driver from the selected path"
   ]
  },
  {
   "cell_type": "code",
   "execution_count": 149,
   "metadata": {},
   "outputs": [],
   "source": [
    "driver=webdriver.Chrome(r'D:\\G\\DATA SCIENCE\\chromedriver.exe')"
   ]
  },
  {
   "cell_type": "code",
   "execution_count": 150,
   "metadata": {},
   "outputs": [],
   "source": [
    "url='https://www.amazon.in/s?k=laptops&i=computers&rh=n%3A1375424031%2Cp_n_feature_thirteen_browse-bin%3A12598163031%7C16757432031&dc&qid=1604426391&rnid=12598141031&ref=sr_nr_p_n_feature_thirteen_browse-bin_17'"
   ]
  },
  {
   "cell_type": "code",
   "execution_count": 175,
   "metadata": {},
   "outputs": [],
   "source": [
    "#fetting the driver to call url"
   ]
  },
  {
   "cell_type": "code",
   "execution_count": 151,
   "metadata": {},
   "outputs": [],
   "source": [
    "driver.get(url)"
   ]
  },
  {
   "cell_type": "code",
   "execution_count": 152,
   "metadata": {},
   "outputs": [],
   "source": [
    "title=[]\n",
    "ratings=[]\n",
    "cost=[]"
   ]
  },
  {
   "cell_type": "code",
   "execution_count": 173,
   "metadata": {},
   "outputs": [],
   "source": [
    "#fetching the titles from the h2 tag"
   ]
  },
  {
   "cell_type": "code",
   "execution_count": 153,
   "metadata": {},
   "outputs": [],
   "source": [
    "titles=driver.find_elements_by_xpath(\"//h2[@class='a-size-mini a-spacing-none a-color-base s-line-clamp-2']\")"
   ]
  },
  {
   "cell_type": "code",
   "execution_count": 154,
   "metadata": {},
   "outputs": [
    {
     "data": {
      "text/plain": [
       "[<selenium.webdriver.remote.webelement.WebElement (session=\"1bff038906cbffa837132b1a3e4a4cd5\", element=\"44005728-8785-401c-8ea5-c20813e6e078\")>,\n",
       " <selenium.webdriver.remote.webelement.WebElement (session=\"1bff038906cbffa837132b1a3e4a4cd5\", element=\"c0d6ffb1-1844-4dd7-acfd-c94fdf7ee638\")>,\n",
       " <selenium.webdriver.remote.webelement.WebElement (session=\"1bff038906cbffa837132b1a3e4a4cd5\", element=\"0c70f8dc-fd29-4599-bacb-784118e0f35e\")>,\n",
       " <selenium.webdriver.remote.webelement.WebElement (session=\"1bff038906cbffa837132b1a3e4a4cd5\", element=\"0acf89ca-f054-4122-9f14-9d192e100815\")>,\n",
       " <selenium.webdriver.remote.webelement.WebElement (session=\"1bff038906cbffa837132b1a3e4a4cd5\", element=\"66932280-3b3b-4e81-b811-dc182ab44b75\")>,\n",
       " <selenium.webdriver.remote.webelement.WebElement (session=\"1bff038906cbffa837132b1a3e4a4cd5\", element=\"eebbf77a-f06d-4a66-993a-4cd3ba8b979d\")>]"
      ]
     },
     "execution_count": 154,
     "metadata": {},
     "output_type": "execute_result"
    }
   ],
   "source": [
    "titles[0:6]"
   ]
  },
  {
   "cell_type": "code",
   "execution_count": 155,
   "metadata": {},
   "outputs": [],
   "source": [
    "for i in titles:\n",
    "    title.append(i.text)"
   ]
  },
  {
   "cell_type": "code",
   "execution_count": 156,
   "metadata": {},
   "outputs": [
    {
     "data": {
      "text/plain": [
       "['HP Pavilion x360 Touchscreen 2-in-1 FHD 14-inch Laptop (10th Gen Core i7-10510U/8GB/512GB SSD/Windows 10 Home/MS Office/Mineral Silver/1.58 kg), 14-dh1180tu',\n",
       " 'Lenovo Legion 5i 10th Gen Intel Core i7 15.6 inch Full HD Gaming Laptop (16GB/1TB HDD + 256GB SSD/Windows 10/120 Hz/NVIDIA GTX 1650Ti 4GB GDDR6 Graphics/Phantom Black/2.3Kg), 82AU00B9IN',\n",
       " 'Dell Inspiron 5370 13.3-inch FHD Laptop (Core i7-8550U/8GB/256GB/Windows 10 + MS Office/2GB Graphics/Silver)',\n",
       " '(Renewed) Dell Inspiron 13 5000 5390 13.3 Inch FHD Laptop ( 8th Gen i7-8565U/512 GB SSD/8 GB RAM/NVIDIA Geforce MX250 Graphics with 2 GB DDR5/Win 10 Home/Ice Lilac)',\n",
       " 'Dell Inspiron 15 5591 2-in-1 Laptop 15.6\" Intel i7-10510U 16GB RAM 512GB SSD FHD Touch Backlit Keyboard FP Reader No DVD/ODD Windows 10 Home Silver Color',\n",
       " \"(Renewed) Dell Latitude E6540 Laptop (Core i7 4th Gen/4GB/240GB SSD/WEBCAM/15.6''/DOS)\",\n",
       " '(Renewed) Dell G7 15 Gaming 7588 Laptop Intel Core 8th Generation i9-8950HK/15.6 inch FHD/1TB + 128GB SSD/16GB/6GB Nvidia Graphics/Win 10 Home SL/Licorice Black - LCD Back Cover',\n",
       " '(Renewed) Dell Latitude E7240 12.5-inch Laptop (4th Gen Intel Core i7/8GB/256GB SSD/Windows 10/Integrated Graphics), Black',\n",
       " 'Asus S433FL-EB197TS Laptop (Intel Core i7-10510U/8 GB/512 GB SSD/Intel UHD Graphics/Windows 10 Home/Full HD), 35.56 cm (14 inch)',\n",
       " '(Renewed) Dell Inspiron 14 7000 7490 14 Inch FHD Laptop ( 10th Gen i7-10510U/512 GB SSD/16 GB RAM/NVIDIA Geforce MX250 Graphics with 2 GB DDR5/Win 10 Home/Silver)']"
      ]
     },
     "execution_count": 156,
     "metadata": {},
     "output_type": "execute_result"
    }
   ],
   "source": [
    "title=title[0:10]\n",
    "title"
   ]
  },
  {
   "cell_type": "code",
   "execution_count": 172,
   "metadata": {},
   "outputs": [],
   "source": [
    "#now we will extract the price from span tag"
   ]
  },
  {
   "cell_type": "code",
   "execution_count": 157,
   "metadata": {},
   "outputs": [],
   "source": [
    "price=driver.find_elements_by_xpath(\"//span[@class='a-price-whole']\")"
   ]
  },
  {
   "cell_type": "code",
   "execution_count": 158,
   "metadata": {},
   "outputs": [
    {
     "data": {
      "text/plain": [
       "[<selenium.webdriver.remote.webelement.WebElement (session=\"1bff038906cbffa837132b1a3e4a4cd5\", element=\"fff806a8-679a-4ba3-a459-d0a3fbd183e1\")>,\n",
       " <selenium.webdriver.remote.webelement.WebElement (session=\"1bff038906cbffa837132b1a3e4a4cd5\", element=\"54a042fd-7dda-4288-8270-0fb270edf00d\")>,\n",
       " <selenium.webdriver.remote.webelement.WebElement (session=\"1bff038906cbffa837132b1a3e4a4cd5\", element=\"86af007f-6453-4e25-a46f-b6bfec36053f\")>]"
      ]
     },
     "execution_count": 158,
     "metadata": {},
     "output_type": "execute_result"
    }
   ],
   "source": [
    "price[0:3]"
   ]
  },
  {
   "cell_type": "code",
   "execution_count": 159,
   "metadata": {},
   "outputs": [],
   "source": [
    "for i in price:\n",
    "    cost.append(i.text)"
   ]
  },
  {
   "cell_type": "code",
   "execution_count": 160,
   "metadata": {},
   "outputs": [
    {
     "data": {
      "text/plain": [
       "['77,299',\n",
       " '95,990',\n",
       " '68,490',\n",
       " '89,490',\n",
       " '72,999',\n",
       " '31,490',\n",
       " '1,41,200',\n",
       " '39,998',\n",
       " '76,958',\n",
       " '1,00,990']"
      ]
     },
     "execution_count": 160,
     "metadata": {},
     "output_type": "execute_result"
    }
   ],
   "source": [
    "cost=cost[0:10]\n",
    "cost"
   ]
  },
  {
   "cell_type": "code",
   "execution_count": 171,
   "metadata": {},
   "outputs": [],
   "source": [
    "#now we will fetch the ratings"
   ]
  },
  {
   "cell_type": "code",
   "execution_count": 161,
   "metadata": {},
   "outputs": [],
   "source": [
    "ra=driver.find_elements_by_xpath(\"//div[@class='a-row a-size-small']\")"
   ]
  },
  {
   "cell_type": "code",
   "execution_count": 162,
   "metadata": {},
   "outputs": [
    {
     "data": {
      "text/plain": [
       "[<selenium.webdriver.remote.webelement.WebElement (session=\"1bff038906cbffa837132b1a3e4a4cd5\", element=\"76119671-5ebe-4960-822d-6a2fc6808c05\")>,\n",
       " <selenium.webdriver.remote.webelement.WebElement (session=\"1bff038906cbffa837132b1a3e4a4cd5\", element=\"61af117a-125f-480a-ae8a-08ac8dd3d329\")>,\n",
       " <selenium.webdriver.remote.webelement.WebElement (session=\"1bff038906cbffa837132b1a3e4a4cd5\", element=\"659d201f-36de-4210-b5a8-4ca2615efdc4\")>,\n",
       " <selenium.webdriver.remote.webelement.WebElement (session=\"1bff038906cbffa837132b1a3e4a4cd5\", element=\"8621f75d-8735-4949-a87d-68e22a17211e\")>]"
      ]
     },
     "execution_count": 162,
     "metadata": {},
     "output_type": "execute_result"
    }
   ],
   "source": [
    "ra[0:4]"
   ]
  },
  {
   "cell_type": "code",
   "execution_count": 163,
   "metadata": {},
   "outputs": [],
   "source": [
    "for i in ra:\n",
    "    ratings.append(i.text)"
   ]
  },
  {
   "cell_type": "code",
   "execution_count": 165,
   "metadata": {},
   "outputs": [
    {
     "data": {
      "text/plain": [
       "['26', '45', '21', '3', '1', '1', '1', '9', '27', '4']"
      ]
     },
     "execution_count": 165,
     "metadata": {},
     "output_type": "execute_result"
    }
   ],
   "source": [
    "ratings=ratings[0:10]\n",
    "ratings"
   ]
  },
  {
   "cell_type": "code",
   "execution_count": 166,
   "metadata": {},
   "outputs": [],
   "source": [
    "#now we will crate a dataframe and store the result"
   ]
  },
  {
   "cell_type": "code",
   "execution_count": 167,
   "metadata": {},
   "outputs": [],
   "source": [
    "import pandas as pd"
   ]
  },
  {
   "cell_type": "code",
   "execution_count": 168,
   "metadata": {},
   "outputs": [],
   "source": [
    "df=pd.DataFrame({})"
   ]
  },
  {
   "cell_type": "code",
   "execution_count": 169,
   "metadata": {},
   "outputs": [],
   "source": [
    "df['Title']=title\n",
    "df['Price']=cost\n",
    "df['Ratings']=ratings"
   ]
  },
  {
   "cell_type": "code",
   "execution_count": 170,
   "metadata": {},
   "outputs": [
    {
     "data": {
      "text/html": [
       "<div>\n",
       "<style scoped>\n",
       "    .dataframe tbody tr th:only-of-type {\n",
       "        vertical-align: middle;\n",
       "    }\n",
       "\n",
       "    .dataframe tbody tr th {\n",
       "        vertical-align: top;\n",
       "    }\n",
       "\n",
       "    .dataframe thead th {\n",
       "        text-align: right;\n",
       "    }\n",
       "</style>\n",
       "<table border=\"1\" class=\"dataframe\">\n",
       "  <thead>\n",
       "    <tr style=\"text-align: right;\">\n",
       "      <th></th>\n",
       "      <th>Title</th>\n",
       "      <th>Price</th>\n",
       "      <th>Ratings</th>\n",
       "    </tr>\n",
       "  </thead>\n",
       "  <tbody>\n",
       "    <tr>\n",
       "      <th>0</th>\n",
       "      <td>HP Pavilion x360 Touchscreen 2-in-1 FHD 14-inc...</td>\n",
       "      <td>77,299</td>\n",
       "      <td>26</td>\n",
       "    </tr>\n",
       "    <tr>\n",
       "      <th>1</th>\n",
       "      <td>Lenovo Legion 5i 10th Gen Intel Core i7 15.6 i...</td>\n",
       "      <td>95,990</td>\n",
       "      <td>45</td>\n",
       "    </tr>\n",
       "    <tr>\n",
       "      <th>2</th>\n",
       "      <td>Dell Inspiron 5370 13.3-inch FHD Laptop (Core ...</td>\n",
       "      <td>68,490</td>\n",
       "      <td>21</td>\n",
       "    </tr>\n",
       "    <tr>\n",
       "      <th>3</th>\n",
       "      <td>(Renewed) Dell Inspiron 13 5000 5390 13.3 Inch...</td>\n",
       "      <td>89,490</td>\n",
       "      <td>3</td>\n",
       "    </tr>\n",
       "    <tr>\n",
       "      <th>4</th>\n",
       "      <td>Dell Inspiron 15 5591 2-in-1 Laptop 15.6\" Inte...</td>\n",
       "      <td>72,999</td>\n",
       "      <td>1</td>\n",
       "    </tr>\n",
       "    <tr>\n",
       "      <th>5</th>\n",
       "      <td>(Renewed) Dell Latitude E6540 Laptop (Core i7 ...</td>\n",
       "      <td>31,490</td>\n",
       "      <td>1</td>\n",
       "    </tr>\n",
       "    <tr>\n",
       "      <th>6</th>\n",
       "      <td>(Renewed) Dell G7 15 Gaming 7588 Laptop Intel ...</td>\n",
       "      <td>1,41,200</td>\n",
       "      <td>1</td>\n",
       "    </tr>\n",
       "    <tr>\n",
       "      <th>7</th>\n",
       "      <td>(Renewed) Dell Latitude E7240 12.5-inch Laptop...</td>\n",
       "      <td>39,998</td>\n",
       "      <td>9</td>\n",
       "    </tr>\n",
       "    <tr>\n",
       "      <th>8</th>\n",
       "      <td>Asus S433FL-EB197TS Laptop (Intel Core i7-1051...</td>\n",
       "      <td>76,958</td>\n",
       "      <td>27</td>\n",
       "    </tr>\n",
       "    <tr>\n",
       "      <th>9</th>\n",
       "      <td>(Renewed) Dell Inspiron 14 7000 7490 14 Inch F...</td>\n",
       "      <td>1,00,990</td>\n",
       "      <td>4</td>\n",
       "    </tr>\n",
       "  </tbody>\n",
       "</table>\n",
       "</div>"
      ],
      "text/plain": [
       "                                               Title     Price Ratings\n",
       "0  HP Pavilion x360 Touchscreen 2-in-1 FHD 14-inc...    77,299      26\n",
       "1  Lenovo Legion 5i 10th Gen Intel Core i7 15.6 i...    95,990      45\n",
       "2  Dell Inspiron 5370 13.3-inch FHD Laptop (Core ...    68,490      21\n",
       "3  (Renewed) Dell Inspiron 13 5000 5390 13.3 Inch...    89,490       3\n",
       "4  Dell Inspiron 15 5591 2-in-1 Laptop 15.6\" Inte...    72,999       1\n",
       "5  (Renewed) Dell Latitude E6540 Laptop (Core i7 ...    31,490       1\n",
       "6  (Renewed) Dell G7 15 Gaming 7588 Laptop Intel ...  1,41,200       1\n",
       "7  (Renewed) Dell Latitude E7240 12.5-inch Laptop...    39,998       9\n",
       "8  Asus S433FL-EB197TS Laptop (Intel Core i7-1051...    76,958      27\n",
       "9  (Renewed) Dell Inspiron 14 7000 7490 14 Inch F...  1,00,990       4"
      ]
     },
     "execution_count": 170,
     "metadata": {},
     "output_type": "execute_result"
    }
   ],
   "source": [
    "df"
   ]
  },
  {
   "cell_type": "code",
   "execution_count": null,
   "metadata": {},
   "outputs": [],
   "source": []
  }
 ],
 "metadata": {
  "kernelspec": {
   "display_name": "Python 3",
   "language": "python",
   "name": "python3"
  },
  "language_info": {
   "codemirror_mode": {
    "name": "ipython",
    "version": 3
   },
   "file_extension": ".py",
   "mimetype": "text/x-python",
   "name": "python",
   "nbconvert_exporter": "python",
   "pygments_lexer": "ipython3",
   "version": "3.7.6"
  }
 },
 "nbformat": 4,
 "nbformat_minor": 4
}
