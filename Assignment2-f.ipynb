{
 "cells": [
  {
   "cell_type": "raw",
   "metadata": {},
   "source": [
    "Scrape data of first 100 sunglasses listings on flipkart.com. You have to scrape four attributes:\n",
    "1. Brand\n",
    "2. Product Description\n",
    "3. Price\n",
    "4. Discount %"
   ]
  },
  {
   "cell_type": "code",
   "execution_count": 123,
   "metadata": {},
   "outputs": [],
   "source": [
    "#importing all the useful libraries"
   ]
  },
  {
   "cell_type": "code",
   "execution_count": 124,
   "metadata": {},
   "outputs": [],
   "source": [
    "import selenium\n",
    "from selenium import webdriver"
   ]
  },
  {
   "cell_type": "code",
   "execution_count": 125,
   "metadata": {},
   "outputs": [],
   "source": [
    "#driver=webdriver.Chrome(r'C:\\Users\\User 14\\Downloads\\Chromedriver_win32\\chromedriver.exe')\n",
    "driver=webdriver.Chrome(r'D:\\G\\DATA SCIENCE\\chromedriver.exe')"
   ]
  },
  {
   "cell_type": "code",
   "execution_count": 126,
   "metadata": {},
   "outputs": [],
   "source": [
    "url='https://www.flipkart.com/search?q=sunglasses&sid=26x&as=on&as-show=on&otracker=AS_QueryStore_HistoryAutoSuggest_1_10_na_na_na&otracker1=AS_QueryStore_HistoryAutoSuggest_1_10_na_na_na&as-pos=1&as-type=HISTORY&suggestionId=sunglasses%7CSunglasses&requestId=cb0d8e60-844e-4c7f-bff9-3d671df5a7d9&as-backfill=on'"
   ]
  },
  {
   "cell_type": "code",
   "execution_count": 127,
   "metadata": {},
   "outputs": [],
   "source": [
    "#making the driver to call the url"
   ]
  },
  {
   "cell_type": "code",
   "execution_count": 128,
   "metadata": {},
   "outputs": [],
   "source": [
    "driver.get(url)"
   ]
  },
  {
   "cell_type": "code",
   "execution_count": 129,
   "metadata": {},
   "outputs": [],
   "source": [
    "Brand=[]\n",
    "Desc=[]\n",
    "Price=[]\n",
    "Discount=[]"
   ]
  },
  {
   "cell_type": "code",
   "execution_count": 130,
   "metadata": {},
   "outputs": [],
   "source": [
    "name=driver.find_elements_by_xpath(\"//div[@class='_2B_pmu']\")"
   ]
  },
  {
   "cell_type": "code",
   "execution_count": 131,
   "metadata": {},
   "outputs": [
    {
     "data": {
      "text/plain": [
       "[<selenium.webdriver.remote.webelement.WebElement (session=\"7a5b630983ad2104547ee8a52f2784f7\", element=\"2f5dc73a-f2fc-47f7-aa8e-281bad5045a0\")>,\n",
       " <selenium.webdriver.remote.webelement.WebElement (session=\"7a5b630983ad2104547ee8a52f2784f7\", element=\"11a2cc85-6d56-460e-a415-f06489841801\")>,\n",
       " <selenium.webdriver.remote.webelement.WebElement (session=\"7a5b630983ad2104547ee8a52f2784f7\", element=\"7e9232a7-79fd-4cb4-b3b7-96d9a23ddee9\")>,\n",
       " <selenium.webdriver.remote.webelement.WebElement (session=\"7a5b630983ad2104547ee8a52f2784f7\", element=\"cf2e2fd7-bba0-4814-b0ed-3e9deae51cbd\")>]"
      ]
     },
     "execution_count": 131,
     "metadata": {},
     "output_type": "execute_result"
    }
   ],
   "source": [
    "name[0:4]"
   ]
  },
  {
   "cell_type": "code",
   "execution_count": 132,
   "metadata": {},
   "outputs": [],
   "source": [
    "for i in name:\n",
    "    Brand.append(i.text)"
   ]
  },
  {
   "cell_type": "code",
   "execution_count": 133,
   "metadata": {},
   "outputs": [
    {
     "data": {
      "text/plain": [
       "['Fastrack',\n",
       " 'Fossil',\n",
       " 'Fastrack',\n",
       " 'Elligator',\n",
       " 'Collet',\n",
       " 'PIRASO',\n",
       " 'Deixels',\n",
       " 'Fastrack',\n",
       " 'shah collections',\n",
       " 'Royal Son',\n",
       " 'FDA COLLECTION',\n",
       " 'Fossil',\n",
       " 'winsome',\n",
       " 'funglasses',\n",
       " 'Winsome',\n",
       " 'Fossil',\n",
       " 'peter india',\n",
       " 'like future',\n",
       " 'Phenomenal',\n",
       " 'Fossil',\n",
       " 'FDA COLLECTION',\n",
       " 'Fastrack',\n",
       " 'Elligator',\n",
       " 'Pierre Cardin',\n",
       " 'Riffko',\n",
       " 'Royal Son',\n",
       " 'Fastrack',\n",
       " 'Fossil',\n",
       " 'shadz',\n",
       " 'David Martin',\n",
       " 'dannilo',\n",
       " 'Fossil',\n",
       " 'Silver Kartz',\n",
       " 'Dannilo',\n",
       " 'PIRASO',\n",
       " 'PIRASO',\n",
       " 'I Flash',\n",
       " 'zarsha',\n",
       " 'INSH',\n",
       " 'Fossil']"
      ]
     },
     "execution_count": 133,
     "metadata": {},
     "output_type": "execute_result"
    }
   ],
   "source": [
    "Brand"
   ]
  },
  {
   "cell_type": "code",
   "execution_count": 134,
   "metadata": {},
   "outputs": [],
   "source": [
    "Brand=Brand[0:37]"
   ]
  },
  {
   "cell_type": "code",
   "execution_count": 135,
   "metadata": {},
   "outputs": [],
   "source": [
    "desc=driver.find_elements_by_xpath(\"//a[@class='_2mylT6']\")"
   ]
  },
  {
   "cell_type": "code",
   "execution_count": 136,
   "metadata": {},
   "outputs": [
    {
     "data": {
      "text/plain": [
       "[<selenium.webdriver.remote.webelement.WebElement (session=\"7a5b630983ad2104547ee8a52f2784f7\", element=\"cd861633-dce7-4999-9fa3-a4ab3ec0465c\")>,\n",
       " <selenium.webdriver.remote.webelement.WebElement (session=\"7a5b630983ad2104547ee8a52f2784f7\", element=\"cb51105d-fad1-4574-8c26-a95beb399a20\")>,\n",
       " <selenium.webdriver.remote.webelement.WebElement (session=\"7a5b630983ad2104547ee8a52f2784f7\", element=\"861253ca-87e7-4e89-83c4-d88d3999be3a\")>,\n",
       " <selenium.webdriver.remote.webelement.WebElement (session=\"7a5b630983ad2104547ee8a52f2784f7\", element=\"4535aeb4-eceb-42da-943a-f89371c26fe4\")>]"
      ]
     },
     "execution_count": 136,
     "metadata": {},
     "output_type": "execute_result"
    }
   ],
   "source": [
    "desc[0:4]"
   ]
  },
  {
   "cell_type": "code",
   "execution_count": 137,
   "metadata": {},
   "outputs": [],
   "source": [
    "for i in desc:\n",
    "    Desc.append(i.text)"
   ]
  },
  {
   "cell_type": "code",
   "execution_count": 138,
   "metadata": {},
   "outputs": [
    {
     "data": {
      "text/plain": [
       "['UV Protection Round Sunglasses (52)',\n",
       " 'UV Protection Round Sunglasses (51)',\n",
       " 'UV Protection Wayfarer Sunglasses (Free Size)',\n",
       " 'UV Protection Round Sunglasses (54)']"
      ]
     },
     "execution_count": 138,
     "metadata": {},
     "output_type": "execute_result"
    }
   ],
   "source": [
    "Desc[0:4]"
   ]
  },
  {
   "cell_type": "code",
   "execution_count": 139,
   "metadata": {},
   "outputs": [
    {
     "data": {
      "text/plain": [
       "37"
      ]
     },
     "execution_count": 139,
     "metadata": {},
     "output_type": "execute_result"
    }
   ],
   "source": [
    "len(Desc)"
   ]
  },
  {
   "cell_type": "code",
   "execution_count": 140,
   "metadata": {},
   "outputs": [],
   "source": [
    "price=driver.find_elements_by_xpath(\"//div[@class='_1vC4OE']\")"
   ]
  },
  {
   "cell_type": "code",
   "execution_count": 141,
   "metadata": {},
   "outputs": [
    {
     "data": {
      "text/plain": [
       "[<selenium.webdriver.remote.webelement.WebElement (session=\"7a5b630983ad2104547ee8a52f2784f7\", element=\"5b9b05f4-949a-439d-9000-acb3455fb7f5\")>,\n",
       " <selenium.webdriver.remote.webelement.WebElement (session=\"7a5b630983ad2104547ee8a52f2784f7\", element=\"e9002164-6562-4bee-8b23-de37657461a9\")>,\n",
       " <selenium.webdriver.remote.webelement.WebElement (session=\"7a5b630983ad2104547ee8a52f2784f7\", element=\"a4e7f042-beeb-4ac4-a275-a846f7d0a485\")>,\n",
       " <selenium.webdriver.remote.webelement.WebElement (session=\"7a5b630983ad2104547ee8a52f2784f7\", element=\"7445ddec-90f1-49a7-8bd2-b113f11a3a53\")>]"
      ]
     },
     "execution_count": 141,
     "metadata": {},
     "output_type": "execute_result"
    }
   ],
   "source": [
    "price[0:4]"
   ]
  },
  {
   "cell_type": "code",
   "execution_count": 142,
   "metadata": {},
   "outputs": [],
   "source": [
    "for i in price:\n",
    "    Price.append(i.text)"
   ]
  },
  {
   "cell_type": "code",
   "execution_count": 143,
   "metadata": {},
   "outputs": [],
   "source": [
    "Price[0:4]\n",
    "len(Price)\n",
    "Price=Price[0:37]"
   ]
  },
  {
   "cell_type": "code",
   "execution_count": 144,
   "metadata": {},
   "outputs": [],
   "source": [
    "discount=driver.find_elements_by_xpath(\"//div[@class='VGWI6T']\")"
   ]
  },
  {
   "cell_type": "code",
   "execution_count": 145,
   "metadata": {},
   "outputs": [],
   "source": [
    "for i in discount:\n",
    "    Discount.append(i.text)"
   ]
  },
  {
   "cell_type": "code",
   "execution_count": 146,
   "metadata": {},
   "outputs": [
    {
     "data": {
      "text/plain": [
       "['20% off',\n",
       " '40% off',\n",
       " '25% off',\n",
       " '87% off',\n",
       " '86% off',\n",
       " '87% off',\n",
       " '89% off',\n",
       " '20% off',\n",
       " '80% off',\n",
       " '84% off',\n",
       " '83% off',\n",
       " '55% off',\n",
       " '75% off',\n",
       " '83% off',\n",
       " '83% off',\n",
       " '55% off',\n",
       " '88% off',\n",
       " '83% off',\n",
       " '80% off',\n",
       " '50% off',\n",
       " '82% off',\n",
       " '40% off',\n",
       " '73% off',\n",
       " '50% off',\n",
       " '84% off',\n",
       " '82% off',\n",
       " '25% off',\n",
       " '20% off',\n",
       " '86% off',\n",
       " '85% off',\n",
       " '81% off',\n",
       " '45% off',\n",
       " '82% off',\n",
       " '76% off',\n",
       " '87% off',\n",
       " '81% off',\n",
       " '86% off',\n",
       " '83% off',\n",
       " '85% off',\n",
       " '45% off']"
      ]
     },
     "execution_count": 146,
     "metadata": {},
     "output_type": "execute_result"
    }
   ],
   "source": [
    "Discount"
   ]
  },
  {
   "cell_type": "code",
   "execution_count": 147,
   "metadata": {},
   "outputs": [],
   "source": [
    "Discount=Discount[0:37]"
   ]
  },
  {
   "cell_type": "code",
   "execution_count": 148,
   "metadata": {},
   "outputs": [],
   "source": [
    "#elm=driver.find_element_by_xpath(\"//a[@class='_3fVaIS']\")\n",
    "#elm"
   ]
  },
  {
   "cell_type": "code",
   "execution_count": 149,
   "metadata": {},
   "outputs": [],
   "source": [
    "#url_next_page=elm.get_attribute(\"href\")\n",
    "#driver.get(url_next_page)"
   ]
  },
  {
   "cell_type": "code",
   "execution_count": 150,
   "metadata": {},
   "outputs": [],
   "source": [
    "import pandas as pd"
   ]
  },
  {
   "cell_type": "code",
   "execution_count": 151,
   "metadata": {},
   "outputs": [],
   "source": [
    "df=pd.DataFrame({})"
   ]
  },
  {
   "cell_type": "code",
   "execution_count": 152,
   "metadata": {},
   "outputs": [],
   "source": [
    "df['Brand']=Brand\n",
    "df['Description']=Desc\n",
    "df['Price']=Price\n",
    "df['Discount']=Discount"
   ]
  },
  {
   "cell_type": "code",
   "execution_count": 154,
   "metadata": {},
   "outputs": [
    {
     "data": {
      "text/html": [
       "<div>\n",
       "<style scoped>\n",
       "    .dataframe tbody tr th:only-of-type {\n",
       "        vertical-align: middle;\n",
       "    }\n",
       "\n",
       "    .dataframe tbody tr th {\n",
       "        vertical-align: top;\n",
       "    }\n",
       "\n",
       "    .dataframe thead th {\n",
       "        text-align: right;\n",
       "    }\n",
       "</style>\n",
       "<table border=\"1\" class=\"dataframe\">\n",
       "  <thead>\n",
       "    <tr style=\"text-align: right;\">\n",
       "      <th></th>\n",
       "      <th>Brand</th>\n",
       "      <th>Description</th>\n",
       "      <th>Price</th>\n",
       "      <th>Discount</th>\n",
       "    </tr>\n",
       "  </thead>\n",
       "  <tbody>\n",
       "    <tr>\n",
       "      <th>0</th>\n",
       "      <td>Fastrack</td>\n",
       "      <td>UV Protection Round Sunglasses (52)</td>\n",
       "      <td>₹1,039</td>\n",
       "      <td>20% off</td>\n",
       "    </tr>\n",
       "    <tr>\n",
       "      <th>1</th>\n",
       "      <td>Fossil</td>\n",
       "      <td>UV Protection Round Sunglasses (51)</td>\n",
       "      <td>₹2,640</td>\n",
       "      <td>40% off</td>\n",
       "    </tr>\n",
       "    <tr>\n",
       "      <th>2</th>\n",
       "      <td>Fastrack</td>\n",
       "      <td>UV Protection Wayfarer Sunglasses (Free Size)</td>\n",
       "      <td>₹674</td>\n",
       "      <td>25% off</td>\n",
       "    </tr>\n",
       "    <tr>\n",
       "      <th>3</th>\n",
       "      <td>Elligator</td>\n",
       "      <td>UV Protection Round Sunglasses (54)</td>\n",
       "      <td>₹312</td>\n",
       "      <td>87% off</td>\n",
       "    </tr>\n",
       "    <tr>\n",
       "      <th>4</th>\n",
       "      <td>Collet</td>\n",
       "      <td>Gradient, Mirrored, UV Protection Aviator Sung...</td>\n",
       "      <td>₹199</td>\n",
       "      <td>86% off</td>\n",
       "    </tr>\n",
       "    <tr>\n",
       "      <th>5</th>\n",
       "      <td>PIRASO</td>\n",
       "      <td>UV Protection Aviator Sunglasses (54)</td>\n",
       "      <td>₹194</td>\n",
       "      <td>87% off</td>\n",
       "    </tr>\n",
       "    <tr>\n",
       "      <th>6</th>\n",
       "      <td>Deixels</td>\n",
       "      <td>UV Protection Wayfarer Sunglasses (Free Size)</td>\n",
       "      <td>₹189</td>\n",
       "      <td>89% off</td>\n",
       "    </tr>\n",
       "    <tr>\n",
       "      <th>7</th>\n",
       "      <td>Fastrack</td>\n",
       "      <td>UV Protection Round Sunglasses (52)</td>\n",
       "      <td>₹1,039</td>\n",
       "      <td>20% off</td>\n",
       "    </tr>\n",
       "    <tr>\n",
       "      <th>8</th>\n",
       "      <td>shah collections</td>\n",
       "      <td>UV Protection Round Sunglasses (Free Size)</td>\n",
       "      <td>₹331</td>\n",
       "      <td>80% off</td>\n",
       "    </tr>\n",
       "    <tr>\n",
       "      <th>9</th>\n",
       "      <td>Royal Son</td>\n",
       "      <td>UV Protection Wayfarer Sunglasses (55)</td>\n",
       "      <td>₹206</td>\n",
       "      <td>84% off</td>\n",
       "    </tr>\n",
       "    <tr>\n",
       "      <th>10</th>\n",
       "      <td>FDA COLLECTION</td>\n",
       "      <td>Gradient, Mirrored, UV Protection Round, Round...</td>\n",
       "      <td>₹210</td>\n",
       "      <td>83% off</td>\n",
       "    </tr>\n",
       "    <tr>\n",
       "      <th>11</th>\n",
       "      <td>Fossil</td>\n",
       "      <td>Others Rectangular Sunglasses (52)</td>\n",
       "      <td>₹1,980</td>\n",
       "      <td>55% off</td>\n",
       "    </tr>\n",
       "    <tr>\n",
       "      <th>12</th>\n",
       "      <td>winsome</td>\n",
       "      <td>UV Protection Round Sunglasses (54)</td>\n",
       "      <td>₹124</td>\n",
       "      <td>75% off</td>\n",
       "    </tr>\n",
       "    <tr>\n",
       "      <th>13</th>\n",
       "      <td>funglasses</td>\n",
       "      <td>UV Protection Round Sunglasses (54)</td>\n",
       "      <td>₹161</td>\n",
       "      <td>83% off</td>\n",
       "    </tr>\n",
       "    <tr>\n",
       "      <th>14</th>\n",
       "      <td>Winsome</td>\n",
       "      <td>Mirrored Round Sunglasses (51)</td>\n",
       "      <td>₹160</td>\n",
       "      <td>83% off</td>\n",
       "    </tr>\n",
       "    <tr>\n",
       "      <th>15</th>\n",
       "      <td>Fossil</td>\n",
       "      <td>UV Protection Spectacle Sunglasses (Free Size)</td>\n",
       "      <td>₹1,980</td>\n",
       "      <td>55% off</td>\n",
       "    </tr>\n",
       "    <tr>\n",
       "      <th>16</th>\n",
       "      <td>peter india</td>\n",
       "      <td>Mirrored Aviator Sunglasses (Free Size)</td>\n",
       "      <td>₹149</td>\n",
       "      <td>88% off</td>\n",
       "    </tr>\n",
       "    <tr>\n",
       "      <th>17</th>\n",
       "      <td>like future</td>\n",
       "      <td>UV Protection, Mirrored Retro Square Sunglasse...</td>\n",
       "      <td>₹181</td>\n",
       "      <td>83% off</td>\n",
       "    </tr>\n",
       "    <tr>\n",
       "      <th>18</th>\n",
       "      <td>Phenomenal</td>\n",
       "      <td>Others Rectangular Sunglasses (54)</td>\n",
       "      <td>₹399</td>\n",
       "      <td>80% off</td>\n",
       "    </tr>\n",
       "    <tr>\n",
       "      <th>19</th>\n",
       "      <td>Fossil</td>\n",
       "      <td>Gradient, Mirrored, UV Protection, Polarized R...</td>\n",
       "      <td>₹2,200</td>\n",
       "      <td>50% off</td>\n",
       "    </tr>\n",
       "    <tr>\n",
       "      <th>20</th>\n",
       "      <td>FDA COLLECTION</td>\n",
       "      <td>Gradient, UV Protection Wayfarer Sunglasses (F...</td>\n",
       "      <td>₹175</td>\n",
       "      <td>82% off</td>\n",
       "    </tr>\n",
       "    <tr>\n",
       "      <th>21</th>\n",
       "      <td>Fastrack</td>\n",
       "      <td>UV Protection Round Sunglasses (54)</td>\n",
       "      <td>₹479</td>\n",
       "      <td>40% off</td>\n",
       "    </tr>\n",
       "    <tr>\n",
       "      <th>22</th>\n",
       "      <td>Elligator</td>\n",
       "      <td>UV Protection Retro Square Sunglasses (57)</td>\n",
       "      <td>₹346</td>\n",
       "      <td>73% off</td>\n",
       "    </tr>\n",
       "    <tr>\n",
       "      <th>23</th>\n",
       "      <td>Pierre Cardin</td>\n",
       "      <td>UV Protection, Gradient Wayfarer Sunglasses (55)</td>\n",
       "      <td>₹2,800</td>\n",
       "      <td>50% off</td>\n",
       "    </tr>\n",
       "    <tr>\n",
       "      <th>24</th>\n",
       "      <td>Riffko</td>\n",
       "      <td>UV Protection Wayfarer Sunglasses (Free Size)</td>\n",
       "      <td>₹189</td>\n",
       "      <td>84% off</td>\n",
       "    </tr>\n",
       "    <tr>\n",
       "      <th>25</th>\n",
       "      <td>Royal Son</td>\n",
       "      <td>Mirrored, UV Protection Round Sunglasses (50)</td>\n",
       "      <td>₹171</td>\n",
       "      <td>82% off</td>\n",
       "    </tr>\n",
       "    <tr>\n",
       "      <th>26</th>\n",
       "      <td>Fastrack</td>\n",
       "      <td>UV Protection, Polarized Retro Square Sunglass...</td>\n",
       "      <td>₹674</td>\n",
       "      <td>25% off</td>\n",
       "    </tr>\n",
       "    <tr>\n",
       "      <th>27</th>\n",
       "      <td>Fossil</td>\n",
       "      <td>Gradient, UV Protection Aviator Sunglasses (58)</td>\n",
       "      <td>₹3,520</td>\n",
       "      <td>20% off</td>\n",
       "    </tr>\n",
       "    <tr>\n",
       "      <th>28</th>\n",
       "      <td>shadz</td>\n",
       "      <td>Others Round Sunglasses (Free Size)</td>\n",
       "      <td>₹180</td>\n",
       "      <td>86% off</td>\n",
       "    </tr>\n",
       "    <tr>\n",
       "      <th>29</th>\n",
       "      <td>David Martin</td>\n",
       "      <td>Mirrored, UV Protection Rectangular Sunglasses...</td>\n",
       "      <td>₹164</td>\n",
       "      <td>85% off</td>\n",
       "    </tr>\n",
       "    <tr>\n",
       "      <th>30</th>\n",
       "      <td>dannilo</td>\n",
       "      <td>UV Protection Oval Sunglasses (56)</td>\n",
       "      <td>₹189</td>\n",
       "      <td>81% off</td>\n",
       "    </tr>\n",
       "    <tr>\n",
       "      <th>31</th>\n",
       "      <td>Fossil</td>\n",
       "      <td>Mirrored Wayfarer Sunglasses (Free Size)</td>\n",
       "      <td>₹2,420</td>\n",
       "      <td>45% off</td>\n",
       "    </tr>\n",
       "    <tr>\n",
       "      <th>32</th>\n",
       "      <td>Silver Kartz</td>\n",
       "      <td>UV Protection Aviator Sunglasses (54)</td>\n",
       "      <td>₹209</td>\n",
       "      <td>82% off</td>\n",
       "    </tr>\n",
       "    <tr>\n",
       "      <th>33</th>\n",
       "      <td>Dannilo</td>\n",
       "      <td>UV Protection Aviator Sunglasses (Free Size)</td>\n",
       "      <td>₹236</td>\n",
       "      <td>76% off</td>\n",
       "    </tr>\n",
       "    <tr>\n",
       "      <th>34</th>\n",
       "      <td>PIRASO</td>\n",
       "      <td>Gradient, UV Protection, Polarized, Riding Gla...</td>\n",
       "      <td>₹194</td>\n",
       "      <td>87% off</td>\n",
       "    </tr>\n",
       "    <tr>\n",
       "      <th>35</th>\n",
       "      <td>PIRASO</td>\n",
       "      <td>UV Protection Rectangular Sunglasses (54)</td>\n",
       "      <td>₹296</td>\n",
       "      <td>81% off</td>\n",
       "    </tr>\n",
       "    <tr>\n",
       "      <th>36</th>\n",
       "      <td>I Flash</td>\n",
       "      <td>Others Rectangular Sunglasses (59)</td>\n",
       "      <td>₹165</td>\n",
       "      <td>86% off</td>\n",
       "    </tr>\n",
       "  </tbody>\n",
       "</table>\n",
       "</div>"
      ],
      "text/plain": [
       "               Brand                                        Description  \\\n",
       "0           Fastrack                UV Protection Round Sunglasses (52)   \n",
       "1             Fossil                UV Protection Round Sunglasses (51)   \n",
       "2           Fastrack      UV Protection Wayfarer Sunglasses (Free Size)   \n",
       "3          Elligator                UV Protection Round Sunglasses (54)   \n",
       "4             Collet  Gradient, Mirrored, UV Protection Aviator Sung...   \n",
       "5             PIRASO              UV Protection Aviator Sunglasses (54)   \n",
       "6            Deixels      UV Protection Wayfarer Sunglasses (Free Size)   \n",
       "7           Fastrack                UV Protection Round Sunglasses (52)   \n",
       "8   shah collections         UV Protection Round Sunglasses (Free Size)   \n",
       "9          Royal Son             UV Protection Wayfarer Sunglasses (55)   \n",
       "10    FDA COLLECTION  Gradient, Mirrored, UV Protection Round, Round...   \n",
       "11            Fossil                 Others Rectangular Sunglasses (52)   \n",
       "12           winsome                UV Protection Round Sunglasses (54)   \n",
       "13        funglasses                UV Protection Round Sunglasses (54)   \n",
       "14           Winsome                     Mirrored Round Sunglasses (51)   \n",
       "15            Fossil     UV Protection Spectacle Sunglasses (Free Size)   \n",
       "16       peter india            Mirrored Aviator Sunglasses (Free Size)   \n",
       "17       like future  UV Protection, Mirrored Retro Square Sunglasse...   \n",
       "18        Phenomenal                 Others Rectangular Sunglasses (54)   \n",
       "19            Fossil  Gradient, Mirrored, UV Protection, Polarized R...   \n",
       "20    FDA COLLECTION  Gradient, UV Protection Wayfarer Sunglasses (F...   \n",
       "21          Fastrack                UV Protection Round Sunglasses (54)   \n",
       "22         Elligator         UV Protection Retro Square Sunglasses (57)   \n",
       "23     Pierre Cardin   UV Protection, Gradient Wayfarer Sunglasses (55)   \n",
       "24            Riffko      UV Protection Wayfarer Sunglasses (Free Size)   \n",
       "25         Royal Son      Mirrored, UV Protection Round Sunglasses (50)   \n",
       "26          Fastrack  UV Protection, Polarized Retro Square Sunglass...   \n",
       "27            Fossil    Gradient, UV Protection Aviator Sunglasses (58)   \n",
       "28             shadz                Others Round Sunglasses (Free Size)   \n",
       "29      David Martin  Mirrored, UV Protection Rectangular Sunglasses...   \n",
       "30           dannilo                 UV Protection Oval Sunglasses (56)   \n",
       "31            Fossil           Mirrored Wayfarer Sunglasses (Free Size)   \n",
       "32      Silver Kartz              UV Protection Aviator Sunglasses (54)   \n",
       "33           Dannilo       UV Protection Aviator Sunglasses (Free Size)   \n",
       "34            PIRASO  Gradient, UV Protection, Polarized, Riding Gla...   \n",
       "35            PIRASO          UV Protection Rectangular Sunglasses (54)   \n",
       "36           I Flash                 Others Rectangular Sunglasses (59)   \n",
       "\n",
       "     Price Discount  \n",
       "0   ₹1,039  20% off  \n",
       "1   ₹2,640  40% off  \n",
       "2     ₹674  25% off  \n",
       "3     ₹312  87% off  \n",
       "4     ₹199  86% off  \n",
       "5     ₹194  87% off  \n",
       "6     ₹189  89% off  \n",
       "7   ₹1,039  20% off  \n",
       "8     ₹331  80% off  \n",
       "9     ₹206  84% off  \n",
       "10    ₹210  83% off  \n",
       "11  ₹1,980  55% off  \n",
       "12    ₹124  75% off  \n",
       "13    ₹161  83% off  \n",
       "14    ₹160  83% off  \n",
       "15  ₹1,980  55% off  \n",
       "16    ₹149  88% off  \n",
       "17    ₹181  83% off  \n",
       "18    ₹399  80% off  \n",
       "19  ₹2,200  50% off  \n",
       "20    ₹175  82% off  \n",
       "21    ₹479  40% off  \n",
       "22    ₹346  73% off  \n",
       "23  ₹2,800  50% off  \n",
       "24    ₹189  84% off  \n",
       "25    ₹171  82% off  \n",
       "26    ₹674  25% off  \n",
       "27  ₹3,520  20% off  \n",
       "28    ₹180  86% off  \n",
       "29    ₹164  85% off  \n",
       "30    ₹189  81% off  \n",
       "31  ₹2,420  45% off  \n",
       "32    ₹209  82% off  \n",
       "33    ₹236  76% off  \n",
       "34    ₹194  87% off  \n",
       "35    ₹296  81% off  \n",
       "36    ₹165  86% off  "
      ]
     },
     "execution_count": 154,
     "metadata": {},
     "output_type": "execute_result"
    }
   ],
   "source": [
    "df"
   ]
  },
  {
   "cell_type": "code",
   "execution_count": null,
   "metadata": {},
   "outputs": [],
   "source": []
  }
 ],
 "metadata": {
  "kernelspec": {
   "display_name": "Python 3",
   "language": "python",
   "name": "python3"
  },
  "language_info": {
   "codemirror_mode": {
    "name": "ipython",
    "version": 3
   },
   "file_extension": ".py",
   "mimetype": "text/x-python",
   "name": "python",
   "nbconvert_exporter": "python",
   "pygments_lexer": "ipython3",
   "version": "3.7.6"
  }
 },
 "nbformat": 4,
 "nbformat_minor": 4
}
