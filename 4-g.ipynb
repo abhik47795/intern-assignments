{
 "cells": [
  {
   "cell_type": "raw",
   "metadata": {},
   "source": [
    "Scrape the details of Data science recruiters from naukri.com.\n",
    "Url = https://www.naukri.com/\n",
    "You have to find the following details:\n",
    "A) Name\n",
    "B) Designation\n",
    "C) Company\n",
    "D) Skills they hire for\n",
    "E) Location\n",
    "Note: - From naukri.com homepage click on the recruiters option and the on the search pane type Data science and click on search. All this should be done through code"
   ]
  },
  {
   "cell_type": "code",
   "execution_count": 231,
   "metadata": {},
   "outputs": [],
   "source": [
    "#import all the required libraries\n",
    "import pandas as pd\n",
    "import selenium\n",
    "from selenium import webdriver\n",
    "from selenium.common.exceptions import StaleElementReferenceException, NoSuchElementException"
   ]
  },
  {
   "cell_type": "code",
   "execution_count": 232,
   "metadata": {},
   "outputs": [],
   "source": [
    "driver=webdriver.Chrome(r\"E:\\DATA SCIENCE\\chromedriver.exe\")"
   ]
  },
  {
   "cell_type": "code",
   "execution_count": 233,
   "metadata": {},
   "outputs": [],
   "source": [
    "url='https://www.naukri.com/'"
   ]
  },
  {
   "cell_type": "code",
   "execution_count": 234,
   "metadata": {},
   "outputs": [],
   "source": [
    "#calling driver to get the url"
   ]
  },
  {
   "cell_type": "code",
   "execution_count": 235,
   "metadata": {},
   "outputs": [],
   "source": [
    "driver.get(url)"
   ]
  },
  {
   "cell_type": "code",
   "execution_count": 236,
   "metadata": {},
   "outputs": [],
   "source": [
    "try:\n",
    "        driver.find_element_by_xpath('//*[@id=\"root\"]/div[1]/div/ul[1]/li[2]/a/div').click()\n",
    "except NoSuchElementException:\n",
    "       pass"
   ]
  },
  {
   "cell_type": "code",
   "execution_count": 275,
   "metadata": {},
   "outputs": [],
   "source": [
    "try:\n",
    "       driver.find_element_by_xpath('//*[@id=\"skill\"]').send_keys('Data Science')\n",
    "except NoSuchElementException:\n",
    "       pass"
   ]
  },
  {
   "cell_type": "code",
   "execution_count": 238,
   "metadata": {},
   "outputs": [],
   "source": [
    "try:\n",
    "       driver.find_element_by_xpath('//*[@id=\"qsbFormBtn\"]').click()\n",
    "except NoSuchElementException:\n",
    "       pass"
   ]
  },
  {
   "cell_type": "code",
   "execution_count": 239,
   "metadata": {},
   "outputs": [],
   "source": [
    "Name=[]\n",
    "Desig=[]\n",
    "Company=[]\n",
    "Location=[]\n",
    "Skills=[]"
   ]
  },
  {
   "cell_type": "code",
   "execution_count": 240,
   "metadata": {},
   "outputs": [],
   "source": [
    "#will extract the information using beautiful soup and will extract one by one the required data"
   ]
  },
  {
   "cell_type": "code",
   "execution_count": 241,
   "metadata": {},
   "outputs": [],
   "source": [
    "import bs4\n",
    "from bs4 import BeautifulSoup\n",
    "import requests"
   ]
  },
  {
   "cell_type": "code",
   "execution_count": 242,
   "metadata": {},
   "outputs": [],
   "source": [
    "url='https://www.naukri.com/data-science-recruiters'"
   ]
  },
  {
   "cell_type": "code",
   "execution_count": 243,
   "metadata": {},
   "outputs": [
    {
     "data": {
      "text/plain": [
       "<Response [200]>"
      ]
     },
     "execution_count": 243,
     "metadata": {},
     "output_type": "execute_result"
    }
   ],
   "source": [
    "page=requests.get(url)\n",
    "page"
   ]
  },
  {
   "cell_type": "code",
   "execution_count": 244,
   "metadata": {},
   "outputs": [],
   "source": [
    "soup=BeautifulSoup(page.text,'html.parser')"
   ]
  },
  {
   "cell_type": "code",
   "execution_count": 245,
   "metadata": {},
   "outputs": [],
   "source": [
    "name=soup.find_all('span',class_='fl ellipsis')"
   ]
  },
  {
   "cell_type": "code",
   "execution_count": 246,
   "metadata": {},
   "outputs": [
    {
     "data": {
      "text/plain": [
       "[<span class=\"fl ellipsis\">Aakash Harit</span>,\n",
       " <span class=\"fl ellipsis\">shravan Kumar Gaddam</span>]"
      ]
     },
     "execution_count": 246,
     "metadata": {},
     "output_type": "execute_result"
    }
   ],
   "source": [
    "name[0:2]"
   ]
  },
  {
   "cell_type": "code",
   "execution_count": 247,
   "metadata": {},
   "outputs": [],
   "source": [
    "for i in name:\n",
    "    Name.append(i.text)"
   ]
  },
  {
   "cell_type": "code",
   "execution_count": 248,
   "metadata": {},
   "outputs": [
    {
     "data": {
      "text/plain": [
       "['Aakash Harit', 'shravan Kumar Gaddam']"
      ]
     },
     "execution_count": 248,
     "metadata": {},
     "output_type": "execute_result"
    }
   ],
   "source": [
    "Name[0:2]"
   ]
  },
  {
   "cell_type": "code",
   "execution_count": 249,
   "metadata": {},
   "outputs": [],
   "source": [
    "desig=soup.find_all('span',class_='ellipsis clr')"
   ]
  },
  {
   "cell_type": "code",
   "execution_count": 250,
   "metadata": {},
   "outputs": [
    {
     "data": {
      "text/plain": [
       "[<span class=\"ellipsis clr\" title=\"HR Manager\">HR Manager</span>,\n",
       " <span class=\"ellipsis clr\" title=\"Company Recruiter\">Company Recruiter</span>]"
      ]
     },
     "execution_count": 250,
     "metadata": {},
     "output_type": "execute_result"
    }
   ],
   "source": [
    "desig[0:2]"
   ]
  },
  {
   "cell_type": "code",
   "execution_count": 251,
   "metadata": {},
   "outputs": [],
   "source": [
    "for i in desig:\n",
    "    Desig.append(i.text)"
   ]
  },
  {
   "cell_type": "code",
   "execution_count": 252,
   "metadata": {},
   "outputs": [
    {
     "data": {
      "text/plain": [
       "['HR Manager', 'Company Recruiter']"
      ]
     },
     "execution_count": 252,
     "metadata": {},
     "output_type": "execute_result"
    }
   ],
   "source": [
    "Desig[0:2]"
   ]
  },
  {
   "cell_type": "code",
   "execution_count": 253,
   "metadata": {},
   "outputs": [],
   "source": [
    "company=soup.find_all('a',class_='ellipsis')"
   ]
  },
  {
   "cell_type": "code",
   "execution_count": 254,
   "metadata": {},
   "outputs": [
    {
     "data": {
      "text/plain": [
       "[<a class=\"ellipsis\" href=\"https://www.naukri.com/recruiters/aakashharit-1986742?xid=160667711735583000&amp;xp=1\" target=\"_blank\" title=\"Aakash Harit\"><span class=\"fl ellipsis\">Aakash Harit</span></a>,\n",
       " <a class=\"ellipsis\" href=\"https://www.naukri.com/data-science-network-recruiters?qsp=1\" title=\"Data Science Network\"><i class=\"cmpIcn\"></i>Data Science Network</a>]"
      ]
     },
     "execution_count": 254,
     "metadata": {},
     "output_type": "execute_result"
    }
   ],
   "source": [
    "company[0:2]"
   ]
  },
  {
   "cell_type": "code",
   "execution_count": 255,
   "metadata": {},
   "outputs": [],
   "source": [
    "for i in company:\n",
    "    Company.append(i.text)"
   ]
  },
  {
   "cell_type": "code",
   "execution_count": 256,
   "metadata": {},
   "outputs": [
    {
     "data": {
      "text/plain": [
       "['Aakash Harit', 'Data Science Network']"
      ]
     },
     "execution_count": 256,
     "metadata": {},
     "output_type": "execute_result"
    }
   ],
   "source": [
    "Company[0:2]"
   ]
  },
  {
   "cell_type": "code",
   "execution_count": 257,
   "metadata": {},
   "outputs": [
    {
     "data": {
      "text/plain": [
       "['Aakash Harit',\n",
       " 'Data Science Network',\n",
       " 'shravan Kumar Gaddam',\n",
       " 'Shore Infotech India Pvt. Ltd',\n",
       " 'Talent Acquisition Executive',\n",
       " 'XenonStack',\n",
       " 'Anik Agrawal',\n",
       " 'Enerlytics Software Solutions Pvt Ltd',\n",
       " 'MARSIAN Technologies LLP',\n",
       " 'MARSIAN Technologies LLP',\n",
       " 'subhas patel',\n",
       " 'LibraryXProject',\n",
       " 'Abhishek - Only Analytics Hiring - India and ',\n",
       " 'Apidel Technologies Division of Transpower',\n",
       " 'Institute for Financial Management and Resear',\n",
       " 'IFMR',\n",
       " 'Balu Ramesh',\n",
       " 'Techvantage Systems Pvt Ltd',\n",
       " 'Asif Lucknowi',\n",
       " 'Weupskill- Live Wire India',\n",
       " 'InstaFinancials',\n",
       " 'CBL Data Science Private Limited',\n",
       " 'Kalpana Dumpala',\n",
       " 'Innominds Software',\n",
       " 'Mubarak',\n",
       " 'MoneyTap',\n",
       " 'Kushal Rastogi',\n",
       " 'QuantMagnum Technologies Pvt. Ltd.',\n",
       " 'Manisha Yadav',\n",
       " 'Easi Tax',\n",
       " 'Kapil Devang',\n",
       " 'BISP Solutions',\n",
       " 'Riya Rajesh',\n",
       " 'Novelworx Digital Solutions',\n",
       " 'Rakhi',\n",
       " 'Walkingtext Private Limited',\n",
       " 'Mahesh Babu Channa',\n",
       " 'SocialPrachar.com',\n",
       " 'Rashmi Bhattacharjee',\n",
       " 'AXESTRACK SOFTWARE SOLUTIONS PRIVATE...',\n",
       " 'Faizan Kareem',\n",
       " 'FirstTech Consaltants Pvt.Ltd',\n",
       " 'Rithika dadwal',\n",
       " 'Affine Analytics',\n",
       " 'Azahar Shaikh',\n",
       " 'NEAL ANALYTICS SERVICES PVT LTD',\n",
       " 'Pooja Seth',\n",
       " 'RAPS iTech',\n",
       " 'Sandhya Khandagale',\n",
       " 'Compumatrice Multimedia Pvt Ltd',\n",
       " 'Shaun Rao',\n",
       " 'Exela Technologies',\n",
       " 'Manas',\n",
       " 'Autumn Leaf Consulting Services Private...',\n",
       " 'Srikanth Bellup',\n",
       " 'TeachR Robotics Pvt. Ltd',\n",
       " 'kumar',\n",
       " 'trainin',\n",
       " 'Sunil Vedula',\n",
       " 'Nanoprecise Sci Corp',\n",
       " 'Rajat Kumar',\n",
       " 'R.S Consultancy &amp; Services',\n",
       " 'Jayanth N',\n",
       " 'Dollarbird Information Services Pvt, Ltd',\n",
       " 'Prateek Kumar',\n",
       " 'Trisect',\n",
       " 'SREEDHAR',\n",
       " 'JOBSMILL BUSINESS SOLUTIONS PRIVATE LIMITED',\n",
       " 'Amit Sharma',\n",
       " 'ASCO consulting',\n",
       " 'Kanan',\n",
       " 'NY INST',\n",
       " 'Shashikant Chaudhary',\n",
       " '3D India Staffing Research &amp; Consulting...',\n",
       " 'Brad',\n",
       " 'O.C. Tanner',\n",
       " 'Rutuja Pawar',\n",
       " 'Demand Matrix',\n",
       " 'Madhusudhan Sridhar',\n",
       " 'MADHUSUDHAN SRIDHAR',\n",
       " 'Ankit Sinha',\n",
       " 'Suntech Global',\n",
       " 'Gaurav Chouhan',\n",
       " 'Strategic Consulting Lab',\n",
       " 'Rashi Kacker',\n",
       " 'Impel Labs Pvt. Ltd.',\n",
       " 'Ashwini',\n",
       " 'MRP Advisers',\n",
       " 'Balaji Kolli',\n",
       " 'Saras Solutions India Pvt Ltd',\n",
       " 'Rajani Nagaraj',\n",
       " 'WildJasmine',\n",
       " 'ROHIT Kumar',\n",
       " 'LNT Private Limited',\n",
       " 'Amir Chowdhury',\n",
       " 'Granular.ai',\n",
       " 'Shailja Mishra',\n",
       " 'Certybox Pvt.Ltd.',\n",
       " 'Sunny Sharma',\n",
       " 'Western Service Providers']"
      ]
     },
     "execution_count": 257,
     "metadata": {},
     "output_type": "execute_result"
    }
   ],
   "source": [
    "Company"
   ]
  },
  {
   "cell_type": "code",
   "execution_count": 258,
   "metadata": {},
   "outputs": [],
   "source": [
    "b=Company[1::2]"
   ]
  },
  {
   "cell_type": "code",
   "execution_count": 259,
   "metadata": {},
   "outputs": [
    {
     "data": {
      "text/plain": [
       "50"
      ]
     },
     "execution_count": 259,
     "metadata": {},
     "output_type": "execute_result"
    }
   ],
   "source": [
    "len(b)"
   ]
  },
  {
   "cell_type": "code",
   "execution_count": 260,
   "metadata": {},
   "outputs": [],
   "source": [
    "location=soup.find_all('small',class_='ellipsis')\n",
    "for i in location:\n",
    "    if i.text is None :\n",
    "        Location.append(\"--\") \n",
    "    else:\n",
    "        Location.append(i.text)"
   ]
  },
  {
   "cell_type": "code",
   "execution_count": 261,
   "metadata": {},
   "outputs": [
    {
     "data": {
      "text/plain": [
       "[<small class=\"ellipsis\">Delhi</small>,\n",
       " <small class=\"ellipsis\">Hyderabad / Secunderabad</small>,\n",
       " <small class=\"ellipsis\">Chandigarh</small>,\n",
       " <small class=\"ellipsis\">Ahmedabad</small>,\n",
       " <small class=\"ellipsis\">Pune</small>,\n",
       " <small class=\"ellipsis\">UK - (london)</small>,\n",
       " <small class=\"ellipsis\">Vadodara / Baroda</small>,\n",
       " <small class=\"ellipsis\">Chennai</small>,\n",
       " <small class=\"ellipsis\">Trivandrum</small>,\n",
       " <small class=\"ellipsis\">Indore</small>,\n",
       " <small class=\"ellipsis\">Bengaluru / Bangalore</small>,\n",
       " <small class=\"ellipsis\">Hyderabad / Secunderabad</small>,\n",
       " <small class=\"ellipsis\">Bengaluru / Bangalore</small>,\n",
       " <small class=\"ellipsis\">Mumbai</small>,\n",
       " <small class=\"ellipsis\">Navi Mumbai</small>,\n",
       " <small class=\"ellipsis\">Bhopal</small>,\n",
       " <small class=\"ellipsis\">Cochin</small>,\n",
       " <small class=\"ellipsis\">Bengaluru / Bangalore</small>,\n",
       " <small class=\"ellipsis\">Hyderabad / Secunderabad</small>,\n",
       " <small class=\"ellipsis\">Delhi</small>,\n",
       " <small class=\"ellipsis\">Hyderabad / Secunderabad</small>,\n",
       " <small class=\"ellipsis\">Pune</small>,\n",
       " <small class=\"ellipsis\">Pune</small>,\n",
       " <small class=\"ellipsis\">Chandigarh</small>,\n",
       " <small class=\"ellipsis\">Pune</small>,\n",
       " <small class=\"ellipsis\">Pune</small>,\n",
       " <small class=\"ellipsis\">Bengaluru / Bangalore</small>,\n",
       " <small class=\"ellipsis\">Hyderabad / Secunderabad</small>,\n",
       " <small class=\"ellipsis\">Bengaluru / Bangalore</small>,\n",
       " <small class=\"ellipsis\">Delhi</small>,\n",
       " <small class=\"ellipsis\">Mysoru / Mysore</small>,\n",
       " <small class=\"ellipsis\">Noida</small>,\n",
       " <small class=\"ellipsis\">Hyderabad / Secunderabad</small>,\n",
       " <small class=\"ellipsis\">New Delhi</small>,\n",
       " <small class=\"ellipsis\">Chennai</small>,\n",
       " <small class=\"ellipsis\">Aligarh</small>,\n",
       " <small class=\"ellipsis\">Salt Lake City</small>,\n",
       " <small class=\"ellipsis\">Pune</small>,\n",
       " <small class=\"ellipsis\">Bengaluru / Bangalore</small>,\n",
       " <small class=\"ellipsis\">Mumbai</small>,\n",
       " <small class=\"ellipsis\">Indore</small>,\n",
       " <small class=\"ellipsis\">Bengaluru / Bangalore</small>,\n",
       " <small class=\"ellipsis\">MYSORE</small>,\n",
       " <small class=\"ellipsis\">Hyderabad / Secunderabad</small>,\n",
       " <small class=\"ellipsis\">Bengaluru / Bangalore</small>,\n",
       " <small class=\"ellipsis\">Mumbai</small>,\n",
       " <small class=\"ellipsis\">Noida</small>,\n",
       " <small class=\"ellipsis\">Mumbai</small>]"
      ]
     },
     "execution_count": 261,
     "metadata": {},
     "output_type": "execute_result"
    }
   ],
   "source": [
    "location"
   ]
  },
  {
   "cell_type": "code",
   "execution_count": 262,
   "metadata": {},
   "outputs": [
    {
     "data": {
      "text/plain": [
       "['Delhi',\n",
       " 'Hyderabad / Secunderabad',\n",
       " 'Chandigarh',\n",
       " 'Ahmedabad',\n",
       " 'Pune',\n",
       " 'UK - (london)',\n",
       " 'Vadodara / Baroda',\n",
       " 'Chennai',\n",
       " 'Trivandrum',\n",
       " 'Indore',\n",
       " 'Bengaluru / Bangalore',\n",
       " 'Hyderabad / Secunderabad',\n",
       " 'Bengaluru / Bangalore',\n",
       " 'Mumbai',\n",
       " 'Navi Mumbai',\n",
       " 'Bhopal',\n",
       " 'Cochin',\n",
       " 'Bengaluru / Bangalore',\n",
       " 'Hyderabad / Secunderabad',\n",
       " 'Delhi',\n",
       " 'Hyderabad / Secunderabad',\n",
       " 'Pune',\n",
       " 'Pune',\n",
       " 'Chandigarh',\n",
       " 'Pune',\n",
       " 'Pune',\n",
       " 'Bengaluru / Bangalore',\n",
       " 'Hyderabad / Secunderabad',\n",
       " 'Bengaluru / Bangalore',\n",
       " 'Delhi',\n",
       " 'Mysoru / Mysore',\n",
       " 'Noida',\n",
       " 'Hyderabad / Secunderabad',\n",
       " 'New Delhi',\n",
       " 'Chennai',\n",
       " 'Aligarh',\n",
       " 'Salt Lake City',\n",
       " 'Pune',\n",
       " 'Bengaluru / Bangalore',\n",
       " 'Mumbai',\n",
       " 'Indore',\n",
       " 'Bengaluru / Bangalore',\n",
       " 'MYSORE',\n",
       " 'Hyderabad / Secunderabad',\n",
       " 'Bengaluru / Bangalore',\n",
       " 'Mumbai',\n",
       " 'Noida',\n",
       " 'Mumbai']"
      ]
     },
     "execution_count": 262,
     "metadata": {},
     "output_type": "execute_result"
    }
   ],
   "source": [
    "Location"
   ]
  },
  {
   "cell_type": "code",
   "execution_count": 263,
   "metadata": {},
   "outputs": [
    {
     "data": {
      "text/plain": [
       "48"
      ]
     },
     "execution_count": 263,
     "metadata": {},
     "output_type": "execute_result"
    }
   ],
   "source": [
    "len(Location)"
   ]
  },
  {
   "cell_type": "code",
   "execution_count": 264,
   "metadata": {},
   "outputs": [],
   "source": [
    "skills=soup.find_all('div',class_='hireSec highlightable')"
   ]
  },
  {
   "cell_type": "code",
   "execution_count": 265,
   "metadata": {},
   "outputs": [
    {
     "data": {
      "text/plain": [
       "[<div class=\"hireSec highlightable\">    Classic ASP Developer,   Internet Marketing Professional,   Data Science SME,   Content Writers,   SEO Professional,   Revenue Professional    </div>,\n",
       " <div class=\"hireSec highlightable\">    .Net,   Java,   Data Science,   Linux Administration,   Sql Server Development,   Winforms,   Wcf Services,   Wpf,   Telecom Engineering,   Technical Management,   Software    </div>]"
      ]
     },
     "execution_count": 265,
     "metadata": {},
     "output_type": "execute_result"
    }
   ],
   "source": [
    "skills[0:2]"
   ]
  },
  {
   "cell_type": "code",
   "execution_count": 266,
   "metadata": {},
   "outputs": [],
   "source": [
    "for i in skills:\n",
    "    Skills.append(i.text)"
   ]
  },
  {
   "cell_type": "code",
   "execution_count": 267,
   "metadata": {},
   "outputs": [
    {
     "data": {
      "text/plain": [
       "['    Classic ASP Developer,   Internet Marketing Professional,   Data Science SME,   Content Writers,   SEO Professional,   Revenue Professional    ',\n",
       " '    .Net,   Java,   Data Science,   Linux Administration,   Sql Server Development,   Winforms,   Wcf Services,   Wpf,   Telecom Engineering,   Technical Management,   Software    ',\n",
       " '    Web Designing,   html5,   Angular.js,   seo,   hadoop,   Cloud Computing,   python,   Iphone Development,   java,   Machine Learning,   aws,   analytics,   linux,   puppet    ']"
      ]
     },
     "execution_count": 267,
     "metadata": {},
     "output_type": "execute_result"
    }
   ],
   "source": [
    "Skills[0:3]"
   ]
  },
  {
   "cell_type": "code",
   "execution_count": 268,
   "metadata": {},
   "outputs": [
    {
     "data": {
      "text/plain": [
       "50"
      ]
     },
     "execution_count": 268,
     "metadata": {},
     "output_type": "execute_result"
    }
   ],
   "source": [
    "len(Skills)"
   ]
  },
  {
   "cell_type": "code",
   "execution_count": 269,
   "metadata": {},
   "outputs": [],
   "source": [
    "import pandas as pd"
   ]
  },
  {
   "cell_type": "code",
   "execution_count": 270,
   "metadata": {},
   "outputs": [],
   "source": [
    "#creating a data frame"
   ]
  },
  {
   "cell_type": "code",
   "execution_count": 271,
   "metadata": {},
   "outputs": [],
   "source": [
    "df=pd.DataFrame({})"
   ]
  },
  {
   "cell_type": "code",
   "execution_count": 273,
   "metadata": {},
   "outputs": [],
   "source": [
    "df['Recruiter name']=Name[0:48]\n",
    "df['Designation']=Desig[0:48]\n",
    "df['Company Name']=b[0:48]\n",
    "df['Location']=Location[0:48]\n",
    "df['Skills Required']=Skills[0:48]"
   ]
  },
  {
   "cell_type": "code",
   "execution_count": 274,
   "metadata": {},
   "outputs": [
    {
     "data": {
      "text/html": [
       "<div>\n",
       "<style scoped>\n",
       "    .dataframe tbody tr th:only-of-type {\n",
       "        vertical-align: middle;\n",
       "    }\n",
       "\n",
       "    .dataframe tbody tr th {\n",
       "        vertical-align: top;\n",
       "    }\n",
       "\n",
       "    .dataframe thead th {\n",
       "        text-align: right;\n",
       "    }\n",
       "</style>\n",
       "<table border=\"1\" class=\"dataframe\">\n",
       "  <thead>\n",
       "    <tr style=\"text-align: right;\">\n",
       "      <th></th>\n",
       "      <th>Recruiter name</th>\n",
       "      <th>Designation</th>\n",
       "      <th>Company Name</th>\n",
       "      <th>Skills Required</th>\n",
       "    </tr>\n",
       "  </thead>\n",
       "  <tbody>\n",
       "    <tr>\n",
       "      <th>0</th>\n",
       "      <td>Aakash Harit</td>\n",
       "      <td>HR Manager</td>\n",
       "      <td>Data Science Network</td>\n",
       "      <td>Classic ASP Developer,   Internet Marketin...</td>\n",
       "    </tr>\n",
       "    <tr>\n",
       "      <th>1</th>\n",
       "      <td>shravan Kumar Gaddam</td>\n",
       "      <td>Company Recruiter</td>\n",
       "      <td>Shore Infotech India Pvt. Ltd</td>\n",
       "      <td>.Net,   Java,   Data Science,   Linux Admi...</td>\n",
       "    </tr>\n",
       "    <tr>\n",
       "      <th>2</th>\n",
       "      <td>Talent Acquisition Executive</td>\n",
       "      <td>Recruitment Professional</td>\n",
       "      <td>XenonStack</td>\n",
       "      <td>Web Designing,   html5,   Angular.js,   se...</td>\n",
       "    </tr>\n",
       "    <tr>\n",
       "      <th>3</th>\n",
       "      <td>Anik Agrawal</td>\n",
       "      <td>Company Recruiter</td>\n",
       "      <td>Enerlytics Software Solutions Pvt Ltd</td>\n",
       "      <td>Mean Stack,   javascript,   angularjs,   m...</td>\n",
       "    </tr>\n",
       "    <tr>\n",
       "      <th>4</th>\n",
       "      <td>MARSIAN Technologies LLP</td>\n",
       "      <td>Company HR</td>\n",
       "      <td>MARSIAN Technologies LLP</td>\n",
       "      <td>Data Science,   Artificial Intelligence,  ...</td>\n",
       "    </tr>\n",
       "    <tr>\n",
       "      <th>5</th>\n",
       "      <td>subhas patel</td>\n",
       "      <td>Founder CEO</td>\n",
       "      <td>LibraryXProject</td>\n",
       "      <td>Hadoop,   Spark,   Digital Strategy,   Dat...</td>\n",
       "    </tr>\n",
       "    <tr>\n",
       "      <th>6</th>\n",
       "      <td>Abhishek - Only Analytics Hiring - India and</td>\n",
       "      <td>Recruitment Lead Consultant</td>\n",
       "      <td>Apidel Technologies Division of Transpower</td>\n",
       "      <td>Analytics,   Business Intelligence,   Busi...</td>\n",
       "    </tr>\n",
       "    <tr>\n",
       "      <th>7</th>\n",
       "      <td>Institute for Financial Management and Resear</td>\n",
       "      <td>Programme Manager</td>\n",
       "      <td>IFMR</td>\n",
       "      <td>Data Science</td>\n",
       "    </tr>\n",
       "    <tr>\n",
       "      <th>8</th>\n",
       "      <td>Balu Ramesh</td>\n",
       "      <td>HR Administrator</td>\n",
       "      <td>Techvantage Systems Pvt Ltd</td>\n",
       "      <td>Machine Learning,   algorithms,   Go Gette...</td>\n",
       "    </tr>\n",
       "    <tr>\n",
       "      <th>9</th>\n",
       "      <td>Asif Lucknowi</td>\n",
       "      <td>Director</td>\n",
       "      <td>Weupskill- Live Wire India</td>\n",
       "      <td>Technical Training,   Software Development...</td>\n",
       "    </tr>\n",
       "    <tr>\n",
       "      <th>10</th>\n",
       "      <td>InstaFinancials</td>\n",
       "      <td>Human Resource</td>\n",
       "      <td>CBL Data Science Private Limited</td>\n",
       "      <td>Software Development,   It Sales,   Accoun...</td>\n",
       "    </tr>\n",
       "    <tr>\n",
       "      <th>11</th>\n",
       "      <td>Kalpana Dumpala</td>\n",
       "      <td>Executive Hiring</td>\n",
       "      <td>Innominds Software</td>\n",
       "      <td>Qa,   Ui/ux,   Java Developer,   Java Arch...</td>\n",
       "    </tr>\n",
       "    <tr>\n",
       "      <th>12</th>\n",
       "      <td>Mubarak</td>\n",
       "      <td>Company HR</td>\n",
       "      <td>MoneyTap</td>\n",
       "      <td>Business Intelligence,   Data Warehousing,...</td>\n",
       "    </tr>\n",
       "    <tr>\n",
       "      <th>13</th>\n",
       "      <td>Kushal Rastogi</td>\n",
       "      <td>Company HR</td>\n",
       "      <td>QuantMagnum Technologies Pvt. Ltd.</td>\n",
       "      <td>Office Administration,   Hr Administration...</td>\n",
       "    </tr>\n",
       "    <tr>\n",
       "      <th>14</th>\n",
       "      <td>Manisha Yadav</td>\n",
       "      <td>HR Executive</td>\n",
       "      <td>Easi Tax</td>\n",
       "      <td>Telecalling,   Client Interaction,   Marke...</td>\n",
       "    </tr>\n",
       "    <tr>\n",
       "      <th>15</th>\n",
       "      <td>Kapil Devang</td>\n",
       "      <td>HR Manager</td>\n",
       "      <td>BISP Solutions</td>\n",
       "      <td>Big Data,   Hadoop,   Data Analytics,   Da...</td>\n",
       "    </tr>\n",
       "    <tr>\n",
       "      <th>16</th>\n",
       "      <td>Riya Rajesh</td>\n",
       "      <td>Manager Talent Acquisition</td>\n",
       "      <td>Novelworx Digital Solutions</td>\n",
       "      <td>Data Science</td>\n",
       "    </tr>\n",
       "    <tr>\n",
       "      <th>17</th>\n",
       "      <td>Rakhi</td>\n",
       "      <td>Recruitment Consultant</td>\n",
       "      <td>Walkingtext Private Limited</td>\n",
       "      <td>Ites,   Data Science,   Cloud,   Iot</td>\n",
       "    </tr>\n",
       "    <tr>\n",
       "      <th>18</th>\n",
       "      <td>Mahesh Babu Channa</td>\n",
       "      <td>HR Team Lead</td>\n",
       "      <td>SocialPrachar.com</td>\n",
       "      <td>Social Media,   digital media maketing,   ...</td>\n",
       "    </tr>\n",
       "    <tr>\n",
       "      <th>19</th>\n",
       "      <td>Rashmi Bhattacharjee</td>\n",
       "      <td>HR Head</td>\n",
       "      <td>AXESTRACK SOFTWARE SOLUTIONS PRIVATE...</td>\n",
       "      <td>Corporate Sales,   Software Development,  ...</td>\n",
       "    </tr>\n",
       "    <tr>\n",
       "      <th>20</th>\n",
       "      <td>Faizan Kareem</td>\n",
       "      <td>HR MANAGER</td>\n",
       "      <td>FirstTech Consaltants Pvt.Ltd</td>\n",
       "      <td>Data Analytics,   Data Science,   Machine ...</td>\n",
       "    </tr>\n",
       "    <tr>\n",
       "      <th>21</th>\n",
       "      <td>Rithika dadwal</td>\n",
       "      <td>HR Recruiter</td>\n",
       "      <td>Affine Analytics</td>\n",
       "      <td>Data Science,   Machine Learning,   Python...</td>\n",
       "    </tr>\n",
       "    <tr>\n",
       "      <th>22</th>\n",
       "      <td>Azahar Shaikh</td>\n",
       "      <td>Company Recruiter</td>\n",
       "      <td>NEAL ANALYTICS SERVICES PVT LTD</td>\n",
       "      <td>Data Science,   Artificial Intelligence,  ...</td>\n",
       "    </tr>\n",
       "    <tr>\n",
       "      <th>23</th>\n",
       "      <td>Pooja Seth</td>\n",
       "      <td>IT Technical Recruiter</td>\n",
       "      <td>RAPS iTech</td>\n",
       "      <td>B.tech,   Hr Mba,   quality assurance engi...</td>\n",
       "    </tr>\n",
       "    <tr>\n",
       "      <th>24</th>\n",
       "      <td>Sandhya Khandagale</td>\n",
       "      <td>HR Recruiter</td>\n",
       "      <td>Compumatrice Multimedia Pvt Ltd</td>\n",
       "      <td>Big Data,   Data Science,   Artificial Int...</td>\n",
       "    </tr>\n",
       "    <tr>\n",
       "      <th>25</th>\n",
       "      <td>Shaun Rao</td>\n",
       "      <td>Manager Human Resources</td>\n",
       "      <td>Exela Technologies</td>\n",
       "      <td>Java,   Net,   Angularjs,   Hr,   Infrastr...</td>\n",
       "    </tr>\n",
       "    <tr>\n",
       "      <th>26</th>\n",
       "      <td>Manas</td>\n",
       "      <td>Lead Talent acquisition</td>\n",
       "      <td>Autumn Leaf Consulting Services Private...</td>\n",
       "      <td>Software Architecture,   Vp Engineering,  ...</td>\n",
       "    </tr>\n",
       "    <tr>\n",
       "      <th>27</th>\n",
       "      <td>Srikanth Bellup</td>\n",
       "      <td>Director</td>\n",
       "      <td>TeachR Robotics Pvt. Ltd</td>\n",
       "      <td>mechatronics,   robotics,   Home Automatio...</td>\n",
       "    </tr>\n",
       "    <tr>\n",
       "      <th>28</th>\n",
       "      <td>kumar</td>\n",
       "      <td>Proprietor</td>\n",
       "      <td>trainin</td>\n",
       "      <td>Data Science,   Hadoop,   Rpas,   Devops, ...</td>\n",
       "    </tr>\n",
       "    <tr>\n",
       "      <th>29</th>\n",
       "      <td>Sunil Vedula</td>\n",
       "      <td>CEO</td>\n",
       "      <td>Nanoprecise Sci Corp</td>\n",
       "      <td>Signal Processing,   Machine Learning,   N...</td>\n",
       "    </tr>\n",
       "    <tr>\n",
       "      <th>30</th>\n",
       "      <td>Rajat Kumar</td>\n",
       "      <td>Founder CEO</td>\n",
       "      <td>R.S Consultancy &amp;amp; Services</td>\n",
       "      <td>Web Technologies,   Project Management,   ...</td>\n",
       "    </tr>\n",
       "    <tr>\n",
       "      <th>31</th>\n",
       "      <td>Jayanth N</td>\n",
       "      <td>Project Manager</td>\n",
       "      <td>Dollarbird Information Services Pvt, Ltd</td>\n",
       "      <td>Data Analytics,   Managed Services,   Team...</td>\n",
       "    </tr>\n",
       "    <tr>\n",
       "      <th>32</th>\n",
       "      <td>Prateek Kumar</td>\n",
       "      <td>Head</td>\n",
       "      <td>Trisect</td>\n",
       "      <td>Java,   Python,   Angularjs,   Software Te...</td>\n",
       "    </tr>\n",
       "    <tr>\n",
       "      <th>33</th>\n",
       "      <td>SREEDHAR</td>\n",
       "      <td>Recruitment Consultant</td>\n",
       "      <td>JOBSMILL BUSINESS SOLUTIONS PRIVATE LIMITED</td>\n",
       "      <td>Data Science,   Machine Learning,   Big Da...</td>\n",
       "    </tr>\n",
       "    <tr>\n",
       "      <th>34</th>\n",
       "      <td>Amit Sharma</td>\n",
       "      <td>Consultant</td>\n",
       "      <td>ASCO consulting</td>\n",
       "      <td>Machine Learning,   Artificial Intelligenc...</td>\n",
       "    </tr>\n",
       "    <tr>\n",
       "      <th>35</th>\n",
       "      <td>Kanan</td>\n",
       "      <td>senior technology instructor</td>\n",
       "      <td>NY INST</td>\n",
       "      <td>C,   C++,   Artificial Intelligence,   Pyt...</td>\n",
       "    </tr>\n",
       "    <tr>\n",
       "      <th>36</th>\n",
       "      <td>Shashikant Chaudhary</td>\n",
       "      <td>HR Recruiter/HR Excutive</td>\n",
       "      <td>3D India Staffing Research &amp;amp; Consulting...</td>\n",
       "      <td>Relationship Management,   Retail Sales,  ...</td>\n",
       "    </tr>\n",
       "    <tr>\n",
       "      <th>37</th>\n",
       "      <td>Brad</td>\n",
       "      <td>Manager, Technical Recruiting</td>\n",
       "      <td>O.C. Tanner</td>\n",
       "      <td>Data Science,   Software Engineering</td>\n",
       "    </tr>\n",
       "    <tr>\n",
       "      <th>38</th>\n",
       "      <td>Rutuja Pawar</td>\n",
       "      <td>Technical Recruiter</td>\n",
       "      <td>Demand Matrix</td>\n",
       "      <td>Data Science,   Big Data Analytics,   Digi...</td>\n",
       "    </tr>\n",
       "    <tr>\n",
       "      <th>39</th>\n",
       "      <td>Madhusudhan Sridhar</td>\n",
       "      <td>Erp Implementer</td>\n",
       "      <td>MADHUSUDHAN SRIDHAR</td>\n",
       "      <td>Data Science,   Recruitment,   Salary</td>\n",
       "    </tr>\n",
       "    <tr>\n",
       "      <th>40</th>\n",
       "      <td>Ankit Sinha</td>\n",
       "      <td>Head Analytics</td>\n",
       "      <td>Suntech Global</td>\n",
       "      <td>B.Tech,   Tableau,   Statistics,   R,   An...</td>\n",
       "    </tr>\n",
       "    <tr>\n",
       "      <th>41</th>\n",
       "      <td>Gaurav Chouhan</td>\n",
       "      <td>Chief Technical Officer</td>\n",
       "      <td>Strategic Consulting Lab</td>\n",
       "      <td>Software Development,   Business Intellige...</td>\n",
       "    </tr>\n",
       "    <tr>\n",
       "      <th>42</th>\n",
       "      <td>Rashi Kacker</td>\n",
       "      <td>Sr Product Manager</td>\n",
       "      <td>Impel Labs Pvt. Ltd.</td>\n",
       "      <td>Data Science,   Node.js,   Angularjs</td>\n",
       "    </tr>\n",
       "    <tr>\n",
       "      <th>43</th>\n",
       "      <td>Ashwini</td>\n",
       "      <td>Director Global Delivery</td>\n",
       "      <td>MRP Advisers</td>\n",
       "      <td>Data Science,   Media Marketing,   Resourc...</td>\n",
       "    </tr>\n",
       "    <tr>\n",
       "      <th>44</th>\n",
       "      <td>Balaji Kolli</td>\n",
       "      <td>Co Founder</td>\n",
       "      <td>Saras Solutions India Pvt Ltd</td>\n",
       "      <td>Data Analysis,   Learning,   Data Science,...</td>\n",
       "    </tr>\n",
       "    <tr>\n",
       "      <th>45</th>\n",
       "      <td>Rajani Nagaraj</td>\n",
       "      <td>HR Manager</td>\n",
       "      <td>WildJasmine</td>\n",
       "      <td>Java,   Hadoop,   R,   Machine Learning,  ...</td>\n",
       "    </tr>\n",
       "    <tr>\n",
       "      <th>46</th>\n",
       "      <td>ROHIT Kumar</td>\n",
       "      <td>Architect</td>\n",
       "      <td>LNT Private Limited</td>\n",
       "      <td>Software Development,   Core Java,   Unit ...</td>\n",
       "    </tr>\n",
       "    <tr>\n",
       "      <th>47</th>\n",
       "      <td>Amir Chowdhury</td>\n",
       "      <td>Managing Partner</td>\n",
       "      <td>Granular.ai</td>\n",
       "      <td>Machine Learning,   Data Science,   Produc...</td>\n",
       "    </tr>\n",
       "    <tr>\n",
       "      <th>48</th>\n",
       "      <td>Shailja Mishra</td>\n",
       "      <td>HR Manager</td>\n",
       "      <td>Certybox Pvt.Ltd.</td>\n",
       "      <td>consulting,   Education Counseling,   Educ...</td>\n",
       "    </tr>\n",
       "    <tr>\n",
       "      <th>49</th>\n",
       "      <td>Sunny Sharma</td>\n",
       "      <td>Managing Director - HR</td>\n",
       "      <td>Western Service Providers</td>\n",
       "      <td>Software Professionals,   Engineering,   T...</td>\n",
       "    </tr>\n",
       "  </tbody>\n",
       "</table>\n",
       "</div>"
      ],
      "text/plain": [
       "                                   Recruiter name  \\\n",
       "0                                    Aakash Harit   \n",
       "1                            shravan Kumar Gaddam   \n",
       "2                    Talent Acquisition Executive   \n",
       "3                                    Anik Agrawal   \n",
       "4                        MARSIAN Technologies LLP   \n",
       "5                                    subhas patel   \n",
       "6   Abhishek - Only Analytics Hiring - India and    \n",
       "7   Institute for Financial Management and Resear   \n",
       "8                                     Balu Ramesh   \n",
       "9                                   Asif Lucknowi   \n",
       "10                                InstaFinancials   \n",
       "11                                Kalpana Dumpala   \n",
       "12                                        Mubarak   \n",
       "13                                 Kushal Rastogi   \n",
       "14                                  Manisha Yadav   \n",
       "15                                   Kapil Devang   \n",
       "16                                    Riya Rajesh   \n",
       "17                                          Rakhi   \n",
       "18                             Mahesh Babu Channa   \n",
       "19                           Rashmi Bhattacharjee   \n",
       "20                                  Faizan Kareem   \n",
       "21                                 Rithika dadwal   \n",
       "22                                  Azahar Shaikh   \n",
       "23                                     Pooja Seth   \n",
       "24                             Sandhya Khandagale   \n",
       "25                                      Shaun Rao   \n",
       "26                                          Manas   \n",
       "27                                Srikanth Bellup   \n",
       "28                                          kumar   \n",
       "29                                   Sunil Vedula   \n",
       "30                                    Rajat Kumar   \n",
       "31                                      Jayanth N   \n",
       "32                                  Prateek Kumar   \n",
       "33                                       SREEDHAR   \n",
       "34                                    Amit Sharma   \n",
       "35                                          Kanan   \n",
       "36                           Shashikant Chaudhary   \n",
       "37                                           Brad   \n",
       "38                                   Rutuja Pawar   \n",
       "39                            Madhusudhan Sridhar   \n",
       "40                                    Ankit Sinha   \n",
       "41                                 Gaurav Chouhan   \n",
       "42                                   Rashi Kacker   \n",
       "43                                        Ashwini   \n",
       "44                                   Balaji Kolli   \n",
       "45                                 Rajani Nagaraj   \n",
       "46                                    ROHIT Kumar   \n",
       "47                                 Amir Chowdhury   \n",
       "48                                 Shailja Mishra   \n",
       "49                                   Sunny Sharma   \n",
       "\n",
       "                      Designation  \\\n",
       "0                      HR Manager   \n",
       "1               Company Recruiter   \n",
       "2        Recruitment Professional   \n",
       "3               Company Recruiter   \n",
       "4                      Company HR   \n",
       "5                     Founder CEO   \n",
       "6     Recruitment Lead Consultant   \n",
       "7               Programme Manager   \n",
       "8                HR Administrator   \n",
       "9                        Director   \n",
       "10                 Human Resource   \n",
       "11               Executive Hiring   \n",
       "12                     Company HR   \n",
       "13                     Company HR   \n",
       "14                   HR Executive   \n",
       "15                     HR Manager   \n",
       "16     Manager Talent Acquisition   \n",
       "17         Recruitment Consultant   \n",
       "18                   HR Team Lead   \n",
       "19                        HR Head   \n",
       "20                     HR MANAGER   \n",
       "21                   HR Recruiter   \n",
       "22              Company Recruiter   \n",
       "23         IT Technical Recruiter   \n",
       "24                   HR Recruiter   \n",
       "25        Manager Human Resources   \n",
       "26        Lead Talent acquisition   \n",
       "27                       Director   \n",
       "28                     Proprietor   \n",
       "29                            CEO   \n",
       "30                    Founder CEO   \n",
       "31                Project Manager   \n",
       "32                           Head   \n",
       "33         Recruitment Consultant   \n",
       "34                     Consultant   \n",
       "35   senior technology instructor   \n",
       "36       HR Recruiter/HR Excutive   \n",
       "37  Manager, Technical Recruiting   \n",
       "38            Technical Recruiter   \n",
       "39                Erp Implementer   \n",
       "40                 Head Analytics   \n",
       "41        Chief Technical Officer   \n",
       "42             Sr Product Manager   \n",
       "43       Director Global Delivery   \n",
       "44                     Co Founder   \n",
       "45                     HR Manager   \n",
       "46                      Architect   \n",
       "47               Managing Partner   \n",
       "48                     HR Manager   \n",
       "49         Managing Director - HR   \n",
       "\n",
       "                                      Company Name  \\\n",
       "0                             Data Science Network   \n",
       "1                    Shore Infotech India Pvt. Ltd   \n",
       "2                                       XenonStack   \n",
       "3            Enerlytics Software Solutions Pvt Ltd   \n",
       "4                         MARSIAN Technologies LLP   \n",
       "5                                  LibraryXProject   \n",
       "6       Apidel Technologies Division of Transpower   \n",
       "7                                             IFMR   \n",
       "8                      Techvantage Systems Pvt Ltd   \n",
       "9                       Weupskill- Live Wire India   \n",
       "10                CBL Data Science Private Limited   \n",
       "11                              Innominds Software   \n",
       "12                                        MoneyTap   \n",
       "13              QuantMagnum Technologies Pvt. Ltd.   \n",
       "14                                        Easi Tax   \n",
       "15                                  BISP Solutions   \n",
       "16                     Novelworx Digital Solutions   \n",
       "17                     Walkingtext Private Limited   \n",
       "18                               SocialPrachar.com   \n",
       "19         AXESTRACK SOFTWARE SOLUTIONS PRIVATE...   \n",
       "20                   FirstTech Consaltants Pvt.Ltd   \n",
       "21                                Affine Analytics   \n",
       "22                 NEAL ANALYTICS SERVICES PVT LTD   \n",
       "23                                      RAPS iTech   \n",
       "24                 Compumatrice Multimedia Pvt Ltd   \n",
       "25                              Exela Technologies   \n",
       "26      Autumn Leaf Consulting Services Private...   \n",
       "27                        TeachR Robotics Pvt. Ltd   \n",
       "28                                         trainin   \n",
       "29                            Nanoprecise Sci Corp   \n",
       "30                  R.S Consultancy &amp; Services   \n",
       "31        Dollarbird Information Services Pvt, Ltd   \n",
       "32                                         Trisect   \n",
       "33     JOBSMILL BUSINESS SOLUTIONS PRIVATE LIMITED   \n",
       "34                                 ASCO consulting   \n",
       "35                                         NY INST   \n",
       "36  3D India Staffing Research &amp; Consulting...   \n",
       "37                                     O.C. Tanner   \n",
       "38                                   Demand Matrix   \n",
       "39                             MADHUSUDHAN SRIDHAR   \n",
       "40                                  Suntech Global   \n",
       "41                        Strategic Consulting Lab   \n",
       "42                            Impel Labs Pvt. Ltd.   \n",
       "43                                    MRP Advisers   \n",
       "44                   Saras Solutions India Pvt Ltd   \n",
       "45                                     WildJasmine   \n",
       "46                             LNT Private Limited   \n",
       "47                                     Granular.ai   \n",
       "48                               Certybox Pvt.Ltd.   \n",
       "49                       Western Service Providers   \n",
       "\n",
       "                                      Skills Required  \n",
       "0       Classic ASP Developer,   Internet Marketin...  \n",
       "1       .Net,   Java,   Data Science,   Linux Admi...  \n",
       "2       Web Designing,   html5,   Angular.js,   se...  \n",
       "3       Mean Stack,   javascript,   angularjs,   m...  \n",
       "4       Data Science,   Artificial Intelligence,  ...  \n",
       "5       Hadoop,   Spark,   Digital Strategy,   Dat...  \n",
       "6       Analytics,   Business Intelligence,   Busi...  \n",
       "7                                    Data Science      \n",
       "8       Machine Learning,   algorithms,   Go Gette...  \n",
       "9       Technical Training,   Software Development...  \n",
       "10      Software Development,   It Sales,   Accoun...  \n",
       "11      Qa,   Ui/ux,   Java Developer,   Java Arch...  \n",
       "12      Business Intelligence,   Data Warehousing,...  \n",
       "13      Office Administration,   Hr Administration...  \n",
       "14      Telecalling,   Client Interaction,   Marke...  \n",
       "15      Big Data,   Hadoop,   Data Analytics,   Da...  \n",
       "16                                   Data Science      \n",
       "17           Ites,   Data Science,   Cloud,   Iot      \n",
       "18      Social Media,   digital media maketing,   ...  \n",
       "19      Corporate Sales,   Software Development,  ...  \n",
       "20      Data Analytics,   Data Science,   Machine ...  \n",
       "21      Data Science,   Machine Learning,   Python...  \n",
       "22      Data Science,   Artificial Intelligence,  ...  \n",
       "23      B.tech,   Hr Mba,   quality assurance engi...  \n",
       "24      Big Data,   Data Science,   Artificial Int...  \n",
       "25      Java,   Net,   Angularjs,   Hr,   Infrastr...  \n",
       "26      Software Architecture,   Vp Engineering,  ...  \n",
       "27      mechatronics,   robotics,   Home Automatio...  \n",
       "28      Data Science,   Hadoop,   Rpas,   Devops, ...  \n",
       "29      Signal Processing,   Machine Learning,   N...  \n",
       "30      Web Technologies,   Project Management,   ...  \n",
       "31      Data Analytics,   Managed Services,   Team...  \n",
       "32      Java,   Python,   Angularjs,   Software Te...  \n",
       "33      Data Science,   Machine Learning,   Big Da...  \n",
       "34      Machine Learning,   Artificial Intelligenc...  \n",
       "35      C,   C++,   Artificial Intelligence,   Pyt...  \n",
       "36      Relationship Management,   Retail Sales,  ...  \n",
       "37           Data Science,   Software Engineering      \n",
       "38      Data Science,   Big Data Analytics,   Digi...  \n",
       "39          Data Science,   Recruitment,   Salary      \n",
       "40      B.Tech,   Tableau,   Statistics,   R,   An...  \n",
       "41      Software Development,   Business Intellige...  \n",
       "42           Data Science,   Node.js,   Angularjs      \n",
       "43      Data Science,   Media Marketing,   Resourc...  \n",
       "44      Data Analysis,   Learning,   Data Science,...  \n",
       "45      Java,   Hadoop,   R,   Machine Learning,  ...  \n",
       "46      Software Development,   Core Java,   Unit ...  \n",
       "47      Machine Learning,   Data Science,   Produc...  \n",
       "48      consulting,   Education Counseling,   Educ...  \n",
       "49      Software Professionals,   Engineering,   T...  "
      ]
     },
     "execution_count": 274,
     "metadata": {},
     "output_type": "execute_result"
    }
   ],
   "source": [
    "df"
   ]
  },
  {
   "cell_type": "code",
   "execution_count": null,
   "metadata": {},
   "outputs": [],
   "source": []
  }
 ],
 "metadata": {
  "kernelspec": {
   "display_name": "Python 3",
   "language": "python",
   "name": "python3"
  },
  "language_info": {
   "codemirror_mode": {
    "name": "ipython",
    "version": 3
   },
   "file_extension": ".py",
   "mimetype": "text/x-python",
   "name": "python",
   "nbconvert_exporter": "python",
   "pygments_lexer": "ipython3",
   "version": "3.7.6"
  }
 },
 "nbformat": 4,
 "nbformat_minor": 4
}
